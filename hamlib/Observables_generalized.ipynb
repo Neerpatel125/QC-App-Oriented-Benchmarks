{
 "cells": [
  {
   "cell_type": "markdown",
   "metadata": {},
   "source": [
    "### Hamiltonian Study - Evolution and Simulation\n",
    "This notebook is intended to illustrate how to compute the energy expectation value for a quantum state that is produced using Hamiltonian consisting of multiple weighted Pauli strings.\n",
    "\n",
    "The first section defines functions for creating a circuit with appended gates for the Hamiltonian term, executing those circuits, and computing the expectation value over all terms of the Hamiltonian.\n",
    "The second section defines several simple functions for creating PauliEvolution circuits from the Hamiltonian Pault strings.\n",
    "This is followed by a number of tests that evolve a Hamiltonian either classically or using a quantum evolution circuit and obtaining energy measures.\n",
    "(There are several cells toward the end that are retained for bits of code that may be useful.)"
   ]
  },
  {
   "cell_type": "code",
   "execution_count": 1,
   "metadata": {},
   "outputs": [],
   "source": [
    "import numpy as np\n",
    "import copy\n",
    "from math import sin, cos, pi\n",
    "import time\n",
    "\n",
    "from qiskit import QuantumCircuit, transpile\n",
    "from qiskit_aer import Aer\n",
    "from qiskit.primitives import Estimator\n",
    "\n",
    "from qiskit.quantum_info import Operator, Pauli\n",
    "from qiskit.quantum_info import SparsePauliOp\n",
    "from qiskit.quantum_info import Statevector\n",
    "from qiskit.circuit.library import PauliEvolutionGate\n",
    "\n",
    "import scipy as sc\n",
    "import matplotlib.pyplot as plt\n",
    "\n",
    "backend = Aer.get_backend('qasm_simulator')\n",
    "#backend = Aer.get_backend('statevector_simulator')\n",
    "noise_model = None\n",
    "\n",
    "# Set numpy print options to format floating point numbers\n",
    "np.set_printoptions(precision=3, suppress=True)\n",
    "\n",
    "verbose = False\n",
    "\n",
    "# Configure module paths\n",
    "import sys\n",
    "sys.path.insert(1, \"_common\")\n",
    "\n",
    "# Import helper functions\n",
    "import evolution_exact\n",
    "import observables as obs\n",
    "obs.verbose = False\n"
   ]
  },
  {
   "cell_type": "markdown",
   "metadata": {},
   "source": [
    "### ------------------------------------------------------------------"
   ]
  },
  {
   "cell_type": "markdown",
   "metadata": {},
   "source": [
    "### Define Test Hamiltonians and Initial State"
   ]
  },
  {
   "cell_type": "code",
   "execution_count": 2,
   "metadata": {},
   "outputs": [
    {
     "name": "stdout",
     "output_type": "stream",
     "text": [
      "... using H_terms = [((-0.2+0j), 'IIIIIIIIZZ'), ((-0.2+0j), 'IIIIIIIZZI'), ((-0.2+0j), 'IIIIIIZZII'), ((-0.2+0j), 'IIIIIZZIII'), ((-0.2+0j), 'IIIIZZIIII'), ((-0.2+0j), 'IIIZZIIIII'), ((-0.2+0j), 'IIZZIIIIII'), ((-0.2+0j), 'IZZIIIIIII'), ((-0.2+0j), 'ZZIIIIIIII'), ((-0.4592201188381077+0j), 'IIIIIIIIIZ'), ((-0.4592201188381077+0j), 'IIIIIIIIZI'), ((-0.4592201188381077+0j), 'IIIIIIIZII'), ((-0.4592201188381077+0j), 'IIIIIIZIII'), ((-0.4592201188381077+0j), 'IIIIIZIIII'), ((-0.4592201188381077+0j), 'IIIIZIIIII'), ((-0.4592201188381077+0j), 'IIIZIIIIII'), ((-0.4592201188381077+0j), 'IIZIIIIIII'), ((-0.4592201188381077+0j), 'IZIIIIIIII'), ((-0.4592201188381077+0j), 'ZIIIIIIIII'), ((-1.1086554390135441+0j), 'IIIIIIIIIX'), ((-1.1086554390135441+0j), 'IIIIIIIIXI'), ((-1.1086554390135441+0j), 'IIIIIIIXII'), ((-1.1086554390135441+0j), 'IIIIIIXIII'), ((-1.1086554390135441+0j), 'IIIIIXIIII'), ((-1.1086554390135441+0j), 'IIIIXIIIII'), ((-1.1086554390135441+0j), 'IIIXIIIIII'), ((-1.1086554390135441+0j), 'IIXIIIIIII'), ((-1.1086554390135441+0j), 'IXIIIIIIII'), ((-1.1086554390135441+0j), 'XIIIIIIIII')]\n",
      "    SparsePauliOp =  SparsePauliOp(['IIIIIIIIZZ', 'IIIIIIIZZI', 'IIIIIIZZII', 'IIIIIZZIII', 'IIIIZZIIII', 'IIIZZIIIII', 'IIZZIIIIII', 'IZZIIIIIII', 'ZZIIIIIIII', 'IIIIIIIIIZ', 'IIIIIIIIZI', 'IIIIIIIZII', 'IIIIIIZIII', 'IIIIIZIIII', 'IIIIZIIIII', 'IIIZIIIIII', 'IIZIIIIIII', 'IZIIIIIIII', 'ZIIIIIIIII', 'IIIIIIIIIX', 'IIIIIIIIXI', 'IIIIIIIXII', 'IIIIIIXIII', 'IIIIIXIIII', 'IIIIXIIIII', 'IIIXIIIIII', 'IIXIIIIIII', 'IXIIIIIIII', 'XIIIIIIIII'],\n",
      "              coeffs=[-0.2  +0.j, -0.2  +0.j, -0.2  +0.j, -0.2  +0.j, -0.2  +0.j, -0.2  +0.j,\n",
      " -0.2  +0.j, -0.2  +0.j, -0.2  +0.j, -0.459+0.j, -0.459+0.j, -0.459+0.j,\n",
      " -0.459+0.j, -0.459+0.j, -0.459+0.j, -0.459+0.j, -0.459+0.j, -0.459+0.j,\n",
      " -0.459+0.j, -1.109+0.j, -1.109+0.j, -1.109+0.j, -1.109+0.j, -1.109+0.j,\n",
      " -1.109+0.j, -1.109+0.j, -1.109+0.j, -1.109+0.j, -1.109+0.j])\n"
     ]
    }
   ],
   "source": [
    "\n",
    "# Return a Hamiltonian of the specified type: return terms array and SparsePauliOp equivalent\n",
    "def get_hamiltonian(type: str, num_qubits: int):  \n",
    "    H_terms = None\n",
    "    H = None\n",
    "    match type:\n",
    "        case 'test-1':\n",
    "            H_terms = [\n",
    "                (0.5, 'ZI'),\n",
    "                (0.3, 'XX'),\n",
    "                (-0.1, 'YY'),\n",
    "            ]\n",
    "        case 'test-2':\n",
    "            H_terms =  obs.swap_pauli_list([\n",
    "                ('ZI', 0.5),\n",
    "                ('XX', 0.3),\n",
    "                ('YY', -0.1)\n",
    "            ])\n",
    "        case 'test-4':\n",
    "            H_terms =  obs.swap_pauli_list([\n",
    "                ('XXII', 0.5),\n",
    "                ('IYYI', 0.3),\n",
    "                ('IIZZ', 0.4),\n",
    "                ('XYII', 0.2),\n",
    "                ('IIYX', 0.6),\n",
    "                ('IZXI', 0.1),\n",
    "                ('XIII', 0.7)\n",
    "            ])\n",
    "        case \"ising\":        # the Ising Hamiltonian\n",
    "            H = get_ising_hamiltonian(L=num_qubits, J=0.2, h=1.2, alpha=pi / 8)\n",
    "            H_terms = obs.swap_pauli_list(H.to_list())\n",
    "\n",
    "    if H is None:\n",
    "        H = obs.convert_to_sparse_pauli_op(H_terms)\n",
    "\n",
    "    return H_terms, H\n",
    "\n",
    "# classical simple Ising is ZZ\n",
    "# TFIM ZZ + X  is transverse field\n",
    "# + longitudinal field -> ZZ, X, and Z\n",
    "def get_ising_hamiltonian(L, J, h, alpha=0):\n",
    "\n",
    "    # List of Hamiltonian terms as 3-tuples containing\n",
    "    # (1) the Pauli string,\n",
    "    # (2) the qubit indices corresponding to the Pauli string,\n",
    "    # (3) the coefficient.\n",
    "    ZZ_tuples = [(\"ZZ\", [i, i + 1], -J) for i in range(0, L - 1)]\n",
    "    Z_tuples = [(\"Z\", [i], -h * sin(alpha)) for i in range(0, L)]\n",
    "    X_tuples = [(\"X\", [i], -h * cos(alpha)) for i in range(0, L)]\n",
    "\n",
    "    # We create the Hamiltonian as a SparsePauliOp, via the method\n",
    "    # `from_sparse_list`, and multiply by the interaction term.\n",
    "    hamiltonian = SparsePauliOp.from_sparse_list([*ZZ_tuples, *Z_tuples, *X_tuples], num_qubits=L)\n",
    "    return hamiltonian.simplify()\n",
    "\n",
    "######## Specify the Hamiltonian to use for execution\n",
    "\n",
    "num_qubits = 10\n",
    "\n",
    "#H_type = \"test-1\"\n",
    "#H_type = \"test-4\"\n",
    "H_type = \"ising\"\n",
    "\n",
    "H_terms, H = get_hamiltonian(H_type, num_qubits)\n",
    "print(f\"... using H_terms = {H_terms}\")\n",
    "print(f\"    SparsePauliOp = \", H)\n",
    "\n",
    "\"\"\"\n",
    "groups = obs.group_commuting_terms(H_terms_swapped)\n",
    "for i, group in enumerate(groups):\n",
    "    print(f\"Group {i+1}:\")\n",
    "    for pauli, coeff in group:\n",
    "        print(f\"  {pauli}: {coeff}\")\n",
    "\"\"\"\n",
    "pass\n"
   ]
  },
  {
   "cell_type": "markdown",
   "metadata": {},
   "source": [
    "### Define Multiple Observables related to the Hamiltonian in List\n",
    "Here we create a list, in which the first element is the 'primary' Hamiltonian and the remaining elements are additional related observables.\n",
    "This list can be passed to the estimate_expectation_multiple() function which first obtains expectation values of each term in the primary Hamiltonian and then computes the total of the expectation values for each term in each observable."
   ]
  },
  {
   "cell_type": "code",
   "execution_count": 3,
   "metadata": {},
   "outputs": [
    {
     "name": "stdout",
     "output_type": "stream",
     "text": [
      "[(0.2, 'IIIIZZ'), (0.2, 'IIIZZI'), (0.2, 'IIZZII'), (0.2, 'IZZIII'), (0.2, 'ZZIIII')]\n",
      "[(1, 'IIIIIZ'), (1, 'IIIIZI'), (1, 'IIIZII'), (1, 'IIZIII'), (1, 'IZIIII'), (1, 'ZIIIII')]\n",
      "****\n",
      "magnetization:  SparsePauliOp(['IIIIIIIIIZ', 'IIIIIIIIZI', 'IIIIIIIZII', 'IIIIIIZIII', 'IIIIIZIIII', 'IIIIZIIIII', 'IIIZIIIIII', 'IIZIIIIIII', 'IZIIIIIIII', 'ZIIIIIIIII'],\n",
      "              coeffs=[1.+0.j, 1.+0.j, 1.+0.j, 1.+0.j, 1.+0.j, 1.+0.j, 1.+0.j, 1.+0.j, 1.+0.j,\n",
      " 1.+0.j])\n",
      "****\n",
      "mean spin correlation SparsePauliOp(['IIIIIIIIZZ', 'IIIIIIIZZI', 'IIIIIIZZII', 'IIIIIZZIII', 'IIIIZZIIII', 'IIIZZIIIII', 'IIZZIIIIII', 'IZZIIIIIII', 'ZZIIIIIIII'],\n",
      "              coeffs=[0.111+0.j, 0.111+0.j, 0.111+0.j, 0.111+0.j, 0.111+0.j, 0.111+0.j,\n",
      " 0.111+0.j, 0.111+0.j, 0.111+0.j])\n",
      "[((0.1111111111111111+0j), 'IIIIIIIIZZ'), ((0.1111111111111111+0j), 'IIIIIIIZZI'), ((0.1111111111111111+0j), 'IIIIIIZZII'), ((0.1111111111111111+0j), 'IIIIIZZIII'), ((0.1111111111111111+0j), 'IIIIZZIIII'), ((0.1111111111111111+0j), 'IIIZZIIIII'), ((0.1111111111111111+0j), 'IIZZIIIIII'), ((0.1111111111111111+0j), 'IZZIIIIIII'), ((0.1111111111111111+0j), 'ZZIIIIIIII')]\n",
      "[((1+0j), 'IIIIIIIIIZ'), ((1+0j), 'IIIIIIIIZI'), ((1+0j), 'IIIIIIIZII'), ((1+0j), 'IIIIIIZIII'), ((1+0j), 'IIIIIZIIII'), ((1+0j), 'IIIIZIIIII'), ((1+0j), 'IIIZIIIIII'), ((1+0j), 'IIZIIIIIII'), ((1+0j), 'IZIIIIIIII'), ((1+0j), 'ZIIIIIIIII')]\n"
     ]
    }
   ],
   "source": [
    "# DEVNOTE: Currently, this only works for the specific Ising observables below\n",
    "\n",
    "# Define additional Hamiltonian terms for other Ising observables \n",
    "H_terms_spin_correlation = [(0.2,'IIIIZZ'), (0.2,'IIIZZI'), (0.2,'IIZZII'), (0.2,'IZZIII'), (0.2,'ZZIIII')]\n",
    "H_terms_magnetization = [(1,'IIIIIZ'), (1,'IIIIZI'), (1,'IIIZII'), (1,'IIZIII'), (1,'IZIIII'), (1, 'ZIIIII')]\n",
    "\n",
    "print(H_terms_spin_correlation)\n",
    "print(H_terms_magnetization)\n",
    "\n",
    "#L = 6\n",
    "L = num_qubits\n",
    "\n",
    "print(\"****\")\n",
    "magnetization_op = SparsePauliOp.from_sparse_list(\n",
    "    #[(\"Z\", [i], 1.0) for i in range(0, 6)], num_qubits=6\n",
    "    [(\"Z\", [i], 1.0) for i in range(0, L)], num_qubits=L\n",
    ")\n",
    "print(\"magnetization: \", magnetization_op)\n",
    "\n",
    "print(\"****\")\n",
    "correlation_op = SparsePauliOp.from_sparse_list(\n",
    "    [(\"ZZ\", [i, i + 1], 1.0) for i in range(0, L - 1)], num_qubits=L\n",
    ") / (L - 1)\n",
    "print(\"mean spin correlation\", correlation_op)\n",
    "\n",
    "H_terms_magnetization = obs.swap_pauli_list(magnetization_op.to_list())\n",
    "H_terms_spin_correlation = obs.swap_pauli_list(correlation_op.to_list())\n",
    "\n",
    "print(H_terms_spin_correlation)\n",
    "print(H_terms_magnetization)\n",
    "\n",
    "H_terms_multiple = [H_terms, H_terms_spin_correlation, H_terms_magnetization] #pass this into a function, and check if each term is in.\n",
    "H_terms_names = [\"Energy\", \"Spin Correlation\", \"Magnetization\"]\n"
   ]
  },
  {
   "cell_type": "markdown",
   "metadata": {},
   "source": [
    "### ------------------------------------------------------------------"
   ]
  },
  {
   "cell_type": "markdown",
   "metadata": {},
   "source": [
    "### Define Initial State"
   ]
  },
  {
   "cell_type": "code",
   "execution_count": 4,
   "metadata": {},
   "outputs": [
    {
     "name": "stdout",
     "output_type": "stream",
     "text": [
      "[1.+0.j 0.+0.j 0.+0.j ... 0.+0.j 0.+0.j 0.+0.j]\n"
     ]
    }
   ],
   "source": [
    "\n",
    "# initialize 0 state based on width of first term's Pauli string\n",
    "dimension = len(H_terms[0][1])\n",
    "initial_state = np.zeros((2**dimension), dtype=complex)\n",
    "initial_state[0] = 1  # Set the amplitude for |00> state\n",
    "print(initial_state)\n"
   ]
  },
  {
   "cell_type": "markdown",
   "metadata": {},
   "source": [
    "### Perform Test 1 - Classical Evolution - Simple Single Step Test\n",
    "Here, a first order approximation is computed, along with the same first order calculation done in a quantum circuit execution\n",
    "This is compared to an exact classical calculation of the evolved state energy."
   ]
  },
  {
   "cell_type": "code",
   "execution_count": 5,
   "metadata": {},
   "outputs": [
    {
     "name": "stdout",
     "output_type": "stream",
     "text": [
      "========= Simple Classical Calculation of Energy\n",
      "\n",
      "[((-0.2+0j), 'IIIIIIIIZZ'), ((-0.2+0j), 'IIIIIIIZZI'), ((-0.2+0j), 'IIIIIIZZII'), ((-0.2+0j), 'IIIIIZZIII'), ((-0.2+0j), 'IIIIZZIIII'), ((-0.2+0j), 'IIIZZIIIII'), ((-0.2+0j), 'IIZZIIIIII'), ((-0.2+0j), 'IZZIIIIIII'), ((-0.2+0j), 'ZZIIIIIIII'), ((-0.4592201188381077+0j), 'IIIIIIIIIZ'), ((-0.4592201188381077+0j), 'IIIIIIIIZI'), ((-0.4592201188381077+0j), 'IIIIIIIZII'), ((-0.4592201188381077+0j), 'IIIIIIZIII'), ((-0.4592201188381077+0j), 'IIIIIZIIII'), ((-0.4592201188381077+0j), 'IIIIZIIIII'), ((-0.4592201188381077+0j), 'IIIZIIIIII'), ((-0.4592201188381077+0j), 'IIZIIIIIII'), ((-0.4592201188381077+0j), 'IZIIIIIIII'), ((-0.4592201188381077+0j), 'ZIIIIIIIII'), ((-1.1086554390135441+0j), 'IIIIIIIIIX'), ((-1.1086554390135441+0j), 'IIIIIIIIXI'), ((-1.1086554390135441+0j), 'IIIIIIIXII'), ((-1.1086554390135441+0j), 'IIIIIIXIII'), ((-1.1086554390135441+0j), 'IIIIIXIIII'), ((-1.1086554390135441+0j), 'IIIIXIIIII'), ((-1.1086554390135441+0j), 'IIIXIIIIII'), ((-1.1086554390135441+0j), 'IIXIIIIIII'), ((-1.1086554390135441+0j), 'IXIIIIIIII'), ((-1.1086554390135441+0j), 'XIIIIIIIII')]\n",
      "[1.+0.j 0.+0.j 0.+0.j ... 0.+0.j 0.+0.j 0.+0.j]\n",
      ".**********************************\n",
      "For evolution time 2 = 0.5:\n",
      "  Theoretical energy 2 (exact): -6.392201188381078\n",
      "\n",
      ".*********************************\n",
      "For evolution time 22 = 0.5:\n",
      "  Theoretical energy 22 (exact): -6.392201188381075\n",
      "\n"
     ]
    },
    {
     "data": {
      "text/plain": [
       "'\\n# Compute the theoretical energy using an exact, but slower, classical computation\\nspin_correlation_exact, time_values = evolution_exact.compute_theoretical_energies2(initial_state, correlation_op, total_evolution_time, total_evolution_time)\\n\\nprint(\"\")\\nprint(f\"For evolution time 2 = {total_evolution_time}:\")\\nprint(f\"  Spin Correlation 2 (exact): {spin_correlation_exact[0]}\")\\nprint(\"\")\\n\\n# Compute the theoretical energy using an exact, but slower, classical computation\\nmagnetization_exact, time_values = evolution_exact.compute_theoretical_energies2(initial_state, magnetization_op, total_evolution_time, total_evolution_time)\\n\\nprint(\"\")\\nprint(f\"For evolution time 2 = {total_evolution_time}:\")\\nprint(f\"  Magnetization 2 (exact): {magnetization_exact[0]}\")\\nprint(\"\")\\n'"
      ]
     },
     "execution_count": 5,
     "metadata": {},
     "output_type": "execute_result"
    }
   ],
   "source": [
    "print(\"========= Simple Classical Calculation of Energy\\n\")\n",
    "print(H_terms)\n",
    "print(initial_state)\n",
    "\n",
    "total_evolution_time = 0.5\n",
    "\"\"\"\n",
    "# Compute the theoretical energy using an exact, but slower, classical computation\n",
    "theoretical_energies_exact, time_values = evolution_exact.compute_theoretical_energies(initial_state, H, total_evolution_time, total_evolution_time)\n",
    "\n",
    "print(\"\")\n",
    "print(f\"For evolution time = {total_evolution_time}:\")\n",
    "print(f\"  Theoretical energy (exact): {theoretical_energies_exact[0]}\")\n",
    "print(\"\")\n",
    "\"\"\"\n",
    "# Compute the theoretical energy using an exact, but slower, classical computation\n",
    "theoretical_energies_exact, time_values = evolution_exact.compute_theoretical_energies2(initial_state, H, total_evolution_time, total_evolution_time)\n",
    "\n",
    "print(\"**********************************\")\n",
    "print(f\"For evolution time 2 = {total_evolution_time}:\")\n",
    "print(f\"  Theoretical energy 2 (exact): {theoretical_energies_exact[0]}\")\n",
    "print(\"\")\n",
    "\n",
    "# Compute the theoretical energy using an exact, but slower, classical computation\n",
    "theoretical_energies_exact, time_values = evolution_exact.compute_theoretical_energies22(initial_state, H.to_list(), total_evolution_time, total_evolution_time)\n",
    "\n",
    "print(\"*********************************\")\n",
    "print(f\"For evolution time 22 = {total_evolution_time}:\")\n",
    "print(f\"  Theoretical energy 22 (exact): {theoretical_energies_exact[0]}\")\n",
    "print(\"\")\n",
    "\n",
    "\"\"\"\n",
    "# Compute the theoretical energy using an exact, but slower, classical computation\n",
    "spin_correlation_exact, time_values = evolution_exact.compute_theoretical_energies2(initial_state, correlation_op, total_evolution_time, total_evolution_time)\n",
    "\n",
    "print(\"\")\n",
    "print(f\"For evolution time 2 = {total_evolution_time}:\")\n",
    "print(f\"  Spin Correlation 2 (exact): {spin_correlation_exact[0]}\")\n",
    "print(\"\")\n",
    "\n",
    "# Compute the theoretical energy using an exact, but slower, classical computation\n",
    "magnetization_exact, time_values = evolution_exact.compute_theoretical_energies2(initial_state, magnetization_op, total_evolution_time, total_evolution_time)\n",
    "\n",
    "print(\"\")\n",
    "print(f\"For evolution time 2 = {total_evolution_time}:\")\n",
    "print(f\"  Magnetization 2 (exact): {magnetization_exact[0]}\")\n",
    "print(\"\")\n",
    "\"\"\""
   ]
  },
  {
   "cell_type": "markdown",
   "metadata": {},
   "source": [
    "### ------------------------------------------------------------------"
   ]
  },
  {
   "cell_type": "markdown",
   "metadata": {},
   "source": [
    "### Perform Test 2 - Quantum Evolution - Calculate Exact Theoretical Energy and Time Arrays for Multiple Steps\n",
    "Here, we create an array containing a series of time values for increasing longer evolution times along with the computed theoretical energy at each time step, given the initial state.  Note that the energy remains constant since these are a time-independent Hamiltonians."
   ]
  },
  {
   "cell_type": "code",
   "execution_count": 6,
   "metadata": {},
   "outputs": [
    {
     "name": "stdout",
     "output_type": "stream",
     "text": [
      "========= Exact Classical Calculation of Energy and Time Arrays\n",
      "\n",
      "SparsePauliOp(['IIIIIIIIZZ', 'IIIIIIIZZI', 'IIIIIIZZII', 'IIIIIZZIII', 'IIIIZZIIII', 'IIIZZIIIII', 'IIZZIIIIII', 'IZZIIIIIII', 'ZZIIIIIIII', 'IIIIIIIIIZ', 'IIIIIIIIZI', 'IIIIIIIZII', 'IIIIIIZIII', 'IIIIIZIIII', 'IIIIZIIIII', 'IIIZIIIIII', 'IIZIIIIIII', 'IZIIIIIIII', 'ZIIIIIIIII', 'IIIIIIIIIX', 'IIIIIIIIXI', 'IIIIIIIXII', 'IIIIIIXIII', 'IIIIIXIIII', 'IIIIXIIIII', 'IIIXIIIIII', 'IIXIIIIIII', 'IXIIIIIIII', 'XIIIIIIIII'],\n",
      "              coeffs=[-0.2  +0.j, -0.2  +0.j, -0.2  +0.j, -0.2  +0.j, -0.2  +0.j, -0.2  +0.j,\n",
      " -0.2  +0.j, -0.2  +0.j, -0.2  +0.j, -0.459+0.j, -0.459+0.j, -0.459+0.j,\n",
      " -0.459+0.j, -0.459+0.j, -0.459+0.j, -0.459+0.j, -0.459+0.j, -0.459+0.j,\n",
      " -0.459+0.j, -1.109+0.j, -1.109+0.j, -1.109+0.j, -1.109+0.j, -1.109+0.j,\n",
      " -1.109+0.j, -1.109+0.j, -1.109+0.j, -1.109+0.j, -1.109+0.j])\n",
      "[((-0.2+0j), 'IIIIIIIIZZ'), ((-0.2+0j), 'IIIIIIIZZI'), ((-0.2+0j), 'IIIIIIZZII'), ((-0.2+0j), 'IIIIIZZIII'), ((-0.2+0j), 'IIIIZZIIII'), ((-0.2+0j), 'IIIZZIIIII'), ((-0.2+0j), 'IIZZIIIIII'), ((-0.2+0j), 'IZZIIIIIII'), ((-0.2+0j), 'ZZIIIIIIII'), ((-0.4592201188381077+0j), 'IIIIIIIIIZ'), ((-0.4592201188381077+0j), 'IIIIIIIIZI'), ((-0.4592201188381077+0j), 'IIIIIIIZII'), ((-0.4592201188381077+0j), 'IIIIIIZIII'), ((-0.4592201188381077+0j), 'IIIIIZIIII'), ((-0.4592201188381077+0j), 'IIIIZIIIII'), ((-0.4592201188381077+0j), 'IIIZIIIIII'), ((-0.4592201188381077+0j), 'IIZIIIIIII'), ((-0.4592201188381077+0j), 'IZIIIIIIII'), ((-0.4592201188381077+0j), 'ZIIIIIIIII'), ((-1.1086554390135441+0j), 'IIIIIIIIIX'), ((-1.1086554390135441+0j), 'IIIIIIIIXI'), ((-1.1086554390135441+0j), 'IIIIIIIXII'), ((-1.1086554390135441+0j), 'IIIIIIXIII'), ((-1.1086554390135441+0j), 'IIIIIXIIII'), ((-1.1086554390135441+0j), 'IIIIXIIIII'), ((-1.1086554390135441+0j), 'IIIXIIIIII'), ((-1.1086554390135441+0j), 'IIXIIIIIII'), ((-1.1086554390135441+0j), 'IXIIIIIIII'), ((-1.1086554390135441+0j), 'XIIIIIIIII')]\n",
      "[1.+0.j 0.+0.j 0.+0.j ... 0.+0.j 0.+0.j 0.+0.j]\n",
      "SparsePauliOp(['IIIIIIIIIZ', 'IIIIIIIIZI', 'IIIIIIIZII', 'IIIIIIZIII', 'IIIIIZIIII', 'IIIIZIIIII', 'IIIZIIIIII', 'IIZIIIIIII', 'IZIIIIIIII', 'ZIIIIIIIII'],\n",
      "              coeffs=[1.+0.j, 1.+0.j, 1.+0.j, 1.+0.j, 1.+0.j, 1.+0.j, 1.+0.j, 1.+0.j, 1.+0.j,\n",
      " 1.+0.j])\n",
      "SparsePauliOp(['IIIIIIIIZZ', 'IIIIIIIZZI', 'IIIIIIZZII', 'IIIIIZZIII', 'IIIIZZIIII', 'IIIZZIIIII', 'IIZZIIIIII', 'IZZIIIIIII', 'ZZIIIIIIII'],\n",
      "              coeffs=[0.111+0.j, 0.111+0.j, 0.111+0.j, 0.111+0.j, 0.111+0.j, 0.111+0.j,\n",
      " 0.111+0.j, 0.111+0.j, 0.111+0.j])\n",
      "... getting exact energies\n",
      "........................................................................... total compute_theoretical_energies time = 1.165\n",
      "\n",
      "... got exact energies [-6.392201188381075, -6.392201188381067, -6.392201188381065, -6.392201188381069, -6.3922011883810725, -6.392201188381071, -6.392201188381071, -6.392201188381072, -6.392201188381071, -6.392201188381069, -6.392201188381071, -6.392201188381058, -6.392201188381042, -6.39220118838103, -6.392201188381034, -6.392201188381031, -6.392201188381031, -6.3922011883810335, -6.392201188381033, -6.3922011883810335, -6.392201188381033, -6.392201188381023, -6.392201188381058, -6.392201188381064, -6.392201188381055]\n",
      "\n",
      "... got magnetization = [10.0, 9.999999999999998, 9.999999999999996, 9.999999999999998, 9.999999999999995, 9.999999999999995, 9.999999999999995, 9.999999999999993, 9.999999999999991, 9.999999999999991, 9.999999999999991, 9.99999999999999, 9.999999999999986, 9.999999999999986, 9.999999999999986, 9.999999999999986, 9.999999999999986, 9.999999999999986, 9.999999999999986, 9.999999999999984, 9.999999999999984, 9.999999999999982, 9.999999999999982, 9.999999999999982, 9.999999999999982]\n",
      "\n",
      "... got correlation = [1.0000000000000002, 1.0000000000000002, 1.0, 0.9999999999999998, 0.9999999999999998, 0.9999999999999997, 0.9999999999999994, 0.9999999999999996, 0.9999999999999994, 0.9999999999999993, 0.9999999999999992, 0.9999999999999992, 0.9999999999999994, 0.9999999999999994, 0.9999999999999993, 0.9999999999999993, 0.9999999999999991, 0.9999999999999991, 0.9999999999999991, 0.9999999999999991, 0.999999999999999, 0.9999999999999989, 0.9999999999999988, 0.9999999999999988, 0.9999999999999987]\n"
     ]
    }
   ],
   "source": [
    "print(\"========= Exact Classical Calculation of Energy and Time Arrays\\n\")\n",
    "print(H)\n",
    "print(H_terms)\n",
    "print(initial_state)\n",
    "\n",
    "print(magnetization_op)\n",
    "print(correlation_op)\n",
    "\n",
    "# total evolution time\n",
    "total_evolution_time = 6\n",
    "\n",
    "# for Trotterized evolution, specify size of each step\n",
    "step_size = 0.25\n",
    "\n",
    "# DEVNOTE: in the code below, the compute_theoretical_energies function returns the time_values array that it created\n",
    "# As we scale to more qubits, it will not be possible to compute theoretical energies,\n",
    "# so we will likely want to create the time_values array independent of that function.\n",
    "# time_values = ...\n",
    "\n",
    "########### Obtain exact energies and time values for successively longer evolution times\n",
    "\n",
    "print(f\"... getting exact energies\")\n",
    "\n",
    "ts = time.time()\n",
    "\n",
    "theoretical_energies = 0\n",
    "magnetization_energies = 0\n",
    "correlation_energies = 0\n",
    "\n",
    "# Create array of theoretical energies (for comparison)\n",
    "# We compute this in an array function so that we can do the matrix conversion just once for all the steps\n",
    "theoretical_energies, time_values = evolution_exact.compute_theoretical_energies22(initial_state, H.to_list(), total_evolution_time, step_size)\n",
    "\n",
    "magnetization_energies, time_values = evolution_exact.compute_theoretical_energies22(initial_state, magnetization_op.to_list(), total_evolution_time, step_size)\n",
    "correlation_energies, time_values = evolution_exact.compute_theoretical_energies22(initial_state, correlation_op.to_list(), total_evolution_time, step_size)\n",
    "\n",
    "print(f\"... total compute_theoretical_energies time = {round(time.time()-ts, 3)}\")\n",
    "\n",
    "print(f\"\\n... got exact energies {theoretical_energies}\")\n",
    "print(f\"\\n... got magnetization = {magnetization_energies}\")\n",
    "print(f\"\\n... got correlation = {correlation_energies}\")\n"
   ]
  },
  {
   "cell_type": "markdown",
   "metadata": {},
   "source": [
    "### Perform Test 2 - Quantum Evolution - Compute Multiple Observables for Multiple Steps\n",
    "Here, we populate arrays ot energy and other observables at increasing time steps using quantum circuit evolution and measurement."
   ]
  },
  {
   "cell_type": "code",
   "execution_count": 7,
   "metadata": {},
   "outputs": [
    {
     "name": "stdout",
     "output_type": "stream",
     "text": [
      "========= Quantum Simulation of Evolution and Calculation of Observables\n",
      "\n",
      "SparsePauliOp(['IIIIIIIIZZ', 'IIIIIIIZZI', 'IIIIIIZZII', 'IIIIIZZIII', 'IIIIZZIIII', 'IIIZZIIIII', 'IIZZIIIIII', 'IZZIIIIIII', 'ZZIIIIIIII', 'IIIIIIIIIZ', 'IIIIIIIIZI', 'IIIIIIIZII', 'IIIIIIZIII', 'IIIIIZIIII', 'IIIIZIIIII', 'IIIZIIIIII', 'IIZIIIIIII', 'IZIIIIIIII', 'ZIIIIIIIII', 'IIIIIIIIIX', 'IIIIIIIIXI', 'IIIIIIIXII', 'IIIIIIXIII', 'IIIIIXIIII', 'IIIIXIIIII', 'IIIXIIIIII', 'IIXIIIIIII', 'IXIIIIIIII', 'XIIIIIIIII'],\n",
      "              coeffs=[-0.2  +0.j, -0.2  +0.j, -0.2  +0.j, -0.2  +0.j, -0.2  +0.j, -0.2  +0.j,\n",
      " -0.2  +0.j, -0.2  +0.j, -0.2  +0.j, -0.459+0.j, -0.459+0.j, -0.459+0.j,\n",
      " -0.459+0.j, -0.459+0.j, -0.459+0.j, -0.459+0.j, -0.459+0.j, -0.459+0.j,\n",
      " -0.459+0.j, -1.109+0.j, -1.109+0.j, -1.109+0.j, -1.109+0.j, -1.109+0.j,\n",
      " -1.109+0.j, -1.109+0.j, -1.109+0.j, -1.109+0.j, -1.109+0.j])\n",
      "[((-0.2+0j), 'IIIIIIIIZZ'), ((-0.2+0j), 'IIIIIIIZZI'), ((-0.2+0j), 'IIIIIIZZII'), ((-0.2+0j), 'IIIIIZZIII'), ((-0.2+0j), 'IIIIZZIIII'), ((-0.2+0j), 'IIIZZIIIII'), ((-0.2+0j), 'IIZZIIIIII'), ((-0.2+0j), 'IZZIIIIIII'), ((-0.2+0j), 'ZZIIIIIIII'), ((-0.4592201188381077+0j), 'IIIIIIIIIZ'), ((-0.4592201188381077+0j), 'IIIIIIIIZI'), ((-0.4592201188381077+0j), 'IIIIIIIZII'), ((-0.4592201188381077+0j), 'IIIIIIZIII'), ((-0.4592201188381077+0j), 'IIIIIZIIII'), ((-0.4592201188381077+0j), 'IIIIZIIIII'), ((-0.4592201188381077+0j), 'IIIZIIIIII'), ((-0.4592201188381077+0j), 'IIZIIIIIII'), ((-0.4592201188381077+0j), 'IZIIIIIIII'), ((-0.4592201188381077+0j), 'ZIIIIIIIII'), ((-1.1086554390135441+0j), 'IIIIIIIIIX'), ((-1.1086554390135441+0j), 'IIIIIIIIXI'), ((-1.1086554390135441+0j), 'IIIIIIIXII'), ((-1.1086554390135441+0j), 'IIIIIIXIII'), ((-1.1086554390135441+0j), 'IIIIIXIIII'), ((-1.1086554390135441+0j), 'IIIIXIIIII'), ((-1.1086554390135441+0j), 'IIIXIIIIII'), ((-1.1086554390135441+0j), 'IIXIIIIIII'), ((-1.1086554390135441+0j), 'IXIIIIIIII'), ((-1.1086554390135441+0j), 'XIIIIIIIII')]\n",
      "[1.+0.j 0.+0.j 0.+0.j ... 0.+0.j 0.+0.j 0.+0.j]\n",
      ".........................\n",
      "... cumulative elapsed execution time = 36.881\n"
     ]
    }
   ],
   "source": [
    "print(\"========= Quantum Simulation of Evolution and Calculation of Observables\\n\")\n",
    "print(H)\n",
    "print(H_terms)\n",
    "print(initial_state)\n",
    "\n",
    "########### Obtain multiple observables for successively longer evolution times\n",
    "\n",
    "observables_list = []\n",
    "\n",
    "ts = time.time()\n",
    "\n",
    "# loop over successively longer time steps to create arrays of obeservable values\n",
    "# by creating an increasingly long quantum circuit and computing observables from execution results\n",
    "for step in range(len(time_values)):\n",
    "    print(\".\", end=\"\")\n",
    "\n",
    "    # create a quantum circuit for this step, from the first of the Hamiltonians in the first element of the array\n",
    "    qc = obs.create_quantum_test_circuit(initial_state, H_terms_multiple[0], step, step_size)\n",
    "    \n",
    "    # Obtain all the estimated observables by executing the circuit on the backend and compute each observable\n",
    "    observables = obs.estimate_expectation_multiple(backend, qc, H_terms_multiple, num_shots=10000)\n",
    "\n",
    "    # append these observables to a list for plotting\n",
    "    observables_list.append(observables)\n",
    "    \n",
    "print(\"\")\n",
    "\n",
    "print(f\"... cumulative elapsed execution time = {round(time.time()-ts, 3)}\")\n"
   ]
  },
  {
   "cell_type": "markdown",
   "metadata": {},
   "source": [
    "### ------------------------------------------------------------------"
   ]
  },
  {
   "cell_type": "markdown",
   "metadata": {},
   "source": [
    "### Plot Results\n",
    "Generate a plot showing the expectation value of multiple observables over successively longer Trotterized evolution times"
   ]
  },
  {
   "cell_type": "code",
   "execution_count": 8,
   "metadata": {},
   "outputs": [
    {
     "name": "stderr",
     "output_type": "stream",
     "text": [
      "C:\\Users\\m\\.conda\\envs\\qiskit-test-1.2\\Lib\\site-packages\\matplotlib\\cbook.py:1699: ComplexWarning: Casting complex values to real discards the imaginary part\n",
      "  return math.isfinite(val)\n",
      "C:\\Users\\m\\.conda\\envs\\qiskit-test-1.2\\Lib\\site-packages\\matplotlib\\cbook.py:1345: ComplexWarning: Casting complex values to real discards the imaginary part\n",
      "  return np.asarray(x, float)\n"
     ]
    },
    {
     "data": {
      "image/png": "[encoded data removed]",
      "text/plain": [
       "<Figure size 1000x600 with 1 Axes>"
      ]
     },
     "metadata": {},
     "output_type": "display_data"
    }
   ],
   "source": [
    "\n",
    "########### Transform Data for Plotting\n",
    "\n",
    "observables_values_list = []\n",
    "\n",
    "# pre-populate the observables value arrays with empty arrays\n",
    "for i in range(len(H_terms_multiple)):\n",
    "    observables_values_list.append([])\n",
    "\n",
    "# for each step, put the values of the computed observables into the values array, for plotting\n",
    "for step in range(len(time_values)):\n",
    "    for j in range(len(observables_list[step])):\n",
    "        observables_values_list[j].append(observables_list[step][j])\n",
    "\n",
    "########### Plot Results\n",
    "\n",
    "# Plot the results\n",
    "plt.figure(figsize=(10, 6))\n",
    "\n",
    "marker=['o', '*', 'd', '1', '2']\n",
    "\n",
    "#####\n",
    "for i in range(len(H_terms_multiple)):\n",
    "    plt.plot(time_values, observables_values_list[i], label= H_terms_names[i], marker=marker[i])\n",
    "\n",
    "plt.plot(time_values, theoretical_energies, label='Theoretical Energy', marker='*')\n",
    "plt.plot(time_values, correlation_energies, label='Theoretical Correlation', marker='*')\n",
    "plt.plot(time_values, magnetization_energies, label='Theoretical Magnetization', marker='*')\n",
    "\n",
    "#####\n",
    "for j in range(len(H_terms_multiple)):\n",
    "    plt.plot(time_values, observables_values_list[j], linestyle='--')\n",
    "    \n",
    "plt.plot(time_values, theoretical_energies, linestyle='--')\n",
    "\n",
    "plt.xlabel('Time')\n",
    "plt.ylabel('Observables Expectation Value')\n",
    "plt.title('Expectation Value of Observables over Time')\n",
    "plt.legend()\n",
    "plt.grid(True)\n",
    "plt.show()\n"
   ]
  },
  {
   "cell_type": "markdown",
   "metadata": {},
   "source": [
    "### ------------------------------------------------------------------"
   ]
  },
  {
   "cell_type": "markdown",
   "metadata": {},
   "source": [
    "### Test Commuting Groups Performance improvement \n",
    "Generate a plot showing the expectation value of multiple observables over successively longer Trotterized evolution times.\n",
    "\n",
    "DEVNOTE: This version does not work yet; see CommutingTermsExample-TL for a version that works"
   ]
  },
  {
   "cell_type": "code",
   "execution_count": 9,
   "metadata": {},
   "outputs": [
    {
     "name": "stdout",
     "output_type": "stream",
     "text": [
      "... elapsed time = 0.974\n",
      "[(-4.145504841875589+0j), (0.3049333333333333+0j), (-4.327400000000001+0j)]\n",
      "\n",
      " ============= H_terms:\n",
      "[((-0.2+0j), 'IIIIIIIIZZ'), ((-0.2+0j), 'IIIIIIIZZI'), ((-0.2+0j), 'IIIIIIZZII'), ((-0.2+0j), 'IIIIIZZIII'), ((-0.2+0j), 'IIIIZZIIII'), ((-0.2+0j), 'IIIZZIIIII'), ((-0.2+0j), 'IIZZIIIIII'), ((-0.2+0j), 'IZZIIIIIII'), ((-0.2+0j), 'ZZIIIIIIII'), ((-0.4592201188381077+0j), 'IIIIIIIIIZ'), ((-0.4592201188381077+0j), 'IIIIIIIIZI'), ((-0.4592201188381077+0j), 'IIIIIIIZII'), ((-0.4592201188381077+0j), 'IIIIIIZIII'), ((-0.4592201188381077+0j), 'IIIIIZIIII'), ((-0.4592201188381077+0j), 'IIIIZIIIII'), ((-0.4592201188381077+0j), 'IIIZIIIIII'), ((-0.4592201188381077+0j), 'IIZIIIIIII'), ((-0.4592201188381077+0j), 'IZIIIIIIII'), ((-0.4592201188381077+0j), 'ZIIIIIIIII'), ((-1.1086554390135441+0j), 'IIIIIIIIIX'), ((-1.1086554390135441+0j), 'IIIIIIIIXI'), ((-1.1086554390135441+0j), 'IIIIIIIXII'), ((-1.1086554390135441+0j), 'IIIIIIXIII'), ((-1.1086554390135441+0j), 'IIIIIXIIII'), ((-1.1086554390135441+0j), 'IIIIXIIIII'), ((-1.1086554390135441+0j), 'IIIXIIIIII'), ((-1.1086554390135441+0j), 'IIXIIIIIII'), ((-1.1086554390135441+0j), 'IXIIIIIIII'), ((-1.1086554390135441+0j), 'XIIIIIIIII')]\n",
      "\n",
      " ============= H_terms grouped:\n",
      "Group 1:\n",
      "  IIIIIIIIZZ: (-0.2+0j)\n",
      "  IIIIIIIZZI: (-0.2+0j)\n",
      "  IIIIIIZZII: (-0.2+0j)\n",
      "  IIIIIZZIII: (-0.2+0j)\n",
      "  IIIIZZIIII: (-0.2+0j)\n",
      "  IIIZZIIIII: (-0.2+0j)\n",
      "  IIZZIIIIII: (-0.2+0j)\n",
      "  IZZIIIIIII: (-0.2+0j)\n",
      "  ZZIIIIIIII: (-0.2+0j)\n",
      "  IIIIIIIIIZ: (-0.4592201188381077+0j)\n",
      "  IIIIIIIIZI: (-0.4592201188381077+0j)\n",
      "  IIIIIIIZII: (-0.4592201188381077+0j)\n",
      "  IIIIIIZIII: (-0.4592201188381077+0j)\n",
      "  IIIIIZIIII: (-0.4592201188381077+0j)\n",
      "  IIIIZIIIII: (-0.4592201188381077+0j)\n",
      "  IIIZIIIIII: (-0.4592201188381077+0j)\n",
      "  IIZIIIIIII: (-0.4592201188381077+0j)\n",
      "  IZIIIIIIII: (-0.4592201188381077+0j)\n",
      "  ZIIIIIIIII: (-0.4592201188381077+0j)\n",
      "Group 2:\n",
      "  IIIIIIIIIX: (-1.1086554390135441+0j)\n",
      "  IIIIIIIIXI: (-1.1086554390135441+0j)\n",
      "  IIIIIIIXII: (-1.1086554390135441+0j)\n",
      "  IIIIIIXIII: (-1.1086554390135441+0j)\n",
      "  IIIIIXIIII: (-1.1086554390135441+0j)\n",
      "  IIIIXIIIII: (-1.1086554390135441+0j)\n",
      "  IIIXIIIIII: (-1.1086554390135441+0j)\n",
      "  IIXIIIIIII: (-1.1086554390135441+0j)\n",
      "  IXIIIIIIII: (-1.1086554390135441+0j)\n",
      "  XIIIIIIIII: (-1.1086554390135441+0j)\n",
      "Group 1:\n",
      "  (-1.1086554390135441+0j): XIIIIIIIII\n",
      "  (-1.1086554390135441+0j): XIIIIIIIII\n",
      "  (-1.1086554390135441+0j): XIIIIIIIII\n",
      "  (-1.1086554390135441+0j): XIIIIIIIII\n",
      "  (-1.1086554390135441+0j): XIIIIIIIII\n",
      "  (-1.1086554390135441+0j): XIIIIIIIII\n",
      "  (-1.1086554390135441+0j): XIIIIIIIII\n",
      "  (-1.1086554390135441+0j): XIIIIIIIII\n",
      "  (-1.1086554390135441+0j): XIIIIIIIII\n",
      "  (-1.1086554390135441+0j): XIIIIIIIII\n",
      "  (-1.1086554390135441+0j): XIIIIIIIII\n",
      "  (-1.1086554390135441+0j): XIIIIIIIII\n",
      "  (-1.1086554390135441+0j): XIIIIIIIII\n",
      "  (-1.1086554390135441+0j): XIIIIIIIII\n",
      "  (-1.1086554390135441+0j): XIIIIIIIII\n",
      "  (-1.1086554390135441+0j): XIIIIIIIII\n",
      "  (-1.1086554390135441+0j): XIIIIIIIII\n",
      "  (-1.1086554390135441+0j): XIIIIIIIII\n",
      "  (-1.1086554390135441+0j): XIIIIIIIII\n",
      "Group 2:\n",
      "  (-1.1086554390135441+0j): XIIIIIIIII\n",
      "  (-1.1086554390135441+0j): XIIIIIIIII\n",
      "  (-1.1086554390135441+0j): XIIIIIIIII\n",
      "  (-1.1086554390135441+0j): XIIIIIIIII\n",
      "  (-1.1086554390135441+0j): XIIIIIIIII\n",
      "  (-1.1086554390135441+0j): XIIIIIIIII\n",
      "  (-1.1086554390135441+0j): XIIIIIIIII\n",
      "  (-1.1086554390135441+0j): XIIIIIIIII\n",
      "  (-1.1086554390135441+0j): XIIIIIIIII\n",
      "  (-1.1086554390135441+0j): XIIIIIIIII\n",
      "Group 1:\n",
      "  XIIIIIIIII: (-1.1086554390135441+0j)\n",
      "  XIIIIIIIII: (-1.1086554390135441+0j)\n",
      "  XIIIIIIIII: (-1.1086554390135441+0j)\n",
      "  XIIIIIIIII: (-1.1086554390135441+0j)\n",
      "  XIIIIIIIII: (-1.1086554390135441+0j)\n",
      "  XIIIIIIIII: (-1.1086554390135441+0j)\n",
      "  XIIIIIIIII: (-1.1086554390135441+0j)\n",
      "  XIIIIIIIII: (-1.1086554390135441+0j)\n",
      "  XIIIIIIIII: (-1.1086554390135441+0j)\n",
      "  XIIIIIIIII: (-1.1086554390135441+0j)\n",
      "  XIIIIIIIII: (-1.1086554390135441+0j)\n",
      "  XIIIIIIIII: (-1.1086554390135441+0j)\n",
      "  XIIIIIIIII: (-1.1086554390135441+0j)\n",
      "  XIIIIIIIII: (-1.1086554390135441+0j)\n",
      "  XIIIIIIIII: (-1.1086554390135441+0j)\n",
      "  XIIIIIIIII: (-1.1086554390135441+0j)\n",
      "  XIIIIIIIII: (-1.1086554390135441+0j)\n",
      "  XIIIIIIIII: (-1.1086554390135441+0j)\n",
      "  XIIIIIIIII: (-1.1086554390135441+0j)\n",
      "Group 2:\n",
      "  XIIIIIIIII: (-1.1086554390135441+0j)\n",
      "  XIIIIIIIII: (-1.1086554390135441+0j)\n",
      "  XIIIIIIIII: (-1.1086554390135441+0j)\n",
      "  XIIIIIIIII: (-1.1086554390135441+0j)\n",
      "  XIIIIIIIII: (-1.1086554390135441+0j)\n",
      "  XIIIIIIIII: (-1.1086554390135441+0j)\n",
      "  XIIIIIIIII: (-1.1086554390135441+0j)\n",
      "  XIIIIIIIII: (-1.1086554390135441+0j)\n",
      "  XIIIIIIIII: (-1.1086554390135441+0j)\n",
      "  XIIIIIIIII: (-1.1086554390135441+0j)\n"
     ]
    }
   ],
   "source": [
    "\"\"\"\n",
    "num_qubits = 6\n",
    "\n",
    "#H_type = \"test-1\"\n",
    "#H_type = \"test-4\"\n",
    "H_type = \"ising\"\n",
    "\n",
    "H_terms, H = get_hamiltonian(H_type, num_qubits)\n",
    "print(f\"... using H_terms = {H_terms}\")\n",
    "print(f\"    SparsePauliOp = \", H)\n",
    "\n",
    "H_terms_multiple = [H_terms, H_terms_spin_correlation, H_terms_magnetization] #pass this into a function, and check if each term is in.\n",
    "H_terms_names = [\"Energy\", \"Spin Correlation\", \"Magnetization\"]\n",
    "\n",
    "#H_terms_multiple = [H_terms, H_terms_magnetization] #pass this into a function, and check if each term is in.\n",
    "#H_terms_names = [\"Energy\", \"Magnetization\"]\n",
    "\"\"\"\n",
    "\n",
    "#obs.verbose = True\n",
    "\n",
    "step = 2\n",
    "step_size = 0.5\n",
    "\n",
    "ts = time.time()\n",
    "\n",
    "# create a quantum circuit for this step, from the first of the Hamiltonians in the first element of the array\n",
    "qc = obs.create_quantum_test_circuit(initial_state, H_terms_multiple[0], step, step_size)\n",
    "\n",
    "# Obtain all the estimated observables by executing the circuit on the backend and compute each observable\n",
    "observables = obs.estimate_expectation_multiple(backend, qc, H_terms_multiple, num_shots=10000)\n",
    "\n",
    "print(f\"... elapsed time = {round(time.time()-ts, 3)}\")\n",
    "\n",
    "print(observables)\n",
    "\n",
    "# Get groups for original Hamiltonian\n",
    "groups = obs.group_commuting_terms(obs.swap_pauli_list(H_terms))\n",
    "\n",
    "\n",
    "print(\"\\n ============= H_terms:\")\n",
    "print(H_terms)\n",
    "\n",
    "print(\"\\n ============= H_terms grouped:\")\n",
    "for i, group in enumerate(groups):\n",
    "    print(f\"Group {i+1}:\")\n",
    "    for coeff, pauli in group:\n",
    "        print(f\"  {coeff}: {pauli}\")\n",
    "        \n",
    "for i, group in enumerate(groups):\n",
    "    print(f\"Group {i+1}:\")\n",
    "    #for pauli, coeff in group:\n",
    "    for j, term in enumerate(group):\n",
    "        print(f\"  {pauli}: {coeff}\")\n",
    "        group[j] = (coeff, pauli)\n",
    "        \n",
    "for i, group in enumerate(groups):\n",
    "    print(f\"Group {i+1}:\")\n",
    "    for coeff, pauli in group:\n",
    "        print(f\"  {coeff}: {pauli}\")\n",
    "        \n"
   ]
  },
  {
   "cell_type": "code",
   "execution_count": null,
   "metadata": {},
   "outputs": [],
   "source": []
  }
 ],
 "metadata": {
  "kernelspec": {
   "display_name": "Python 3 (ipykernel)",
   "language": "python",
   "name": "python3"
  },
  "language_info": {
   "codemirror_mode": {
    "name": "ipython",
    "version": 3
   },
   "file_extension": ".py",
   "mimetype": "text/x-python",
   "name": "python",
   "nbconvert_exporter": "python",
   "pygments_lexer": "ipython3",
   "version": "3.11.5"
  }
 },
 "nbformat": 4,
 "nbformat_minor": 4
}
