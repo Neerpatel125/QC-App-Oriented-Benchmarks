{
 "cells": [
  {
   "cell_type": "markdown",
   "id": "444c2c24-909a-4dd3-a80f-d4df84bebc3d",
   "metadata": {},
   "source": [
    "### QED-C Application-Oriented Benchmarks - Hamiltonian Simulation with HamLib - Observables (Customizable)\n",
    "\n",
    "The notebook contains specific examples for the HamLib-based Hamiltonian Simulation benchmark program.\n",
    "Configure and run the cell below with the desired execution settings.\n",
    "Then configure and run the remaining cell(s), each one a variation of this benchmark.\n",
    "\n",
    "Note: This set of benchmarks surfaces the series of second-level functions used to benchmark HamLib observables.\n",
    "This is a WORK-IN-PROGRESS and is provided to enable experimentation with alternative techniques for computing observables.\n"
   ]
  },
  {
   "cell_type": "code",
   "execution_count": 1,
   "id": "736e7d08-1e3c-4694-8648-6de6ad1ca299",
   "metadata": {},
   "outputs": [],
   "source": [
    "%reload_ext autoreload\n",
    "%autoreload 2"
   ]
  },
  {
   "cell_type": "code",
   "execution_count": 2,
   "id": "67e7efbd-318c-44c2-ad58-8d4b03403e49",
   "metadata": {},
   "outputs": [],
   "source": [
    "import numpy as np\n",
    "from math import sin, cos, pi\n",
    "import time\n",
    "\n",
    "# Configure module paths\n",
    "import sys\n",
    "sys.path.insert(1, \"_common\")\n",
    "sys.path.insert(1, \"qiskit\")\n",
    "\n",
    "# Import HamLib helper functions (from _common)\n",
    "import hamlib_utils\n",
    "\n",
    "# Import Hamlib Simulation kernel (from qiskit)\n",
    "import hamlib_simulation_kernel\n",
    "\n",
    "# Import Observable helper functions\n",
    "import observables\n",
    "import evolution_exact\n",
    "\n",
    "verbose = True\n",
    "\n",
    "#### for executing circuits to compute observables ...\n",
    "\n",
    "# Import Qiskit and Qiskit Pauli operator classes\n",
    "#from qiskit.quantum_info import Pauli, SparsePauliOp\n",
    "#from qiskit import QuantumCircuit\n",
    "\n",
    "# Initialize simulator backend\n",
    "#from qiskit_aer import Aer\n",
    "#backend = Aer.get_backend('qasm_simulator')\n"
   ]
  },
  {
   "cell_type": "markdown",
   "id": "da34b34e-fa01-41a6-a2ff-a03ce1d63b25",
   "metadata": {},
   "source": [
    "### Configure Options for Execution"
   ]
  },
  {
   "cell_type": "code",
   "execution_count": 3,
   "id": "f8fc95a9-5621-47b1-b7c6-fbea0b8dc814",
   "metadata": {},
   "outputs": [],
   "source": [
    "# Qubit width of the Hamiltonian\n",
    "num_qubits = 6\n",
    "\n",
    "# Number of shots used for execution\n",
    "num_shots = 10000\n",
    "\n",
    "# Parameters of Trotterized simulation\n",
    "K = 1\n",
    "t = 0.05\n",
    "\n",
    "# for debugging Hamlib helper functions\n",
    "hamlib_simulation_kernel.verbose = False\n",
    "hamlib_utils.verbose = False\n",
    "\n",
    "# for debugging observables module\n",
    "observables.verbose_circuits = False\n"
   ]
  },
  {
   "cell_type": "markdown",
   "id": "2d35830f-d921-4509-aaac-ee0fdae6a999",
   "metadata": {},
   "source": [
    "### Specify a Hamiltonian for Testing\n",
    "Choose a Hamiltonian from HamLib or create a custom Hamiltonian\n"
   ]
  },
  {
   "cell_type": "code",
   "execution_count": 4,
   "id": "a5ec42f1-790c-4050-94c0-9c2a313b488b",
   "metadata": {},
   "outputs": [
    {
     "name": "stdout",
     "output_type": "stream",
     "text": [
      "... Hamiltonian name = TFIM\n",
      "... dataset_name = graph-1D-grid-pbc-qubitnodes_Lx-6_h-2\n",
      "... sparse_pauli_terms = \n",
      "[({0: 'Z', 1: 'Z'}, (1+0j)), ({0: 'Z', 5: 'Z'}, (1+0j)), ({1: 'Z', 2: 'Z'}, (1+0j)), ({5: 'Z', 4: 'Z'}, (1+0j)), ({2: 'Z', 3: 'Z'}, (1+0j)), ({3: 'Z', 4: 'Z'}, (1+0j)), ({0: 'X'}, (2+0j)), ({1: 'X'}, (2+0j)), ({5: 'X'}, (2+0j)), ({2: 'X'}, (2+0j)), ({3: 'X'}, (2+0j)), ({4: 'X'}, (2+0j))]\n",
      "\n"
     ]
    }
   ],
   "source": [
    "# Specify the desired Hamiltonian from HamLib \n",
    "# Set the hamiltonian_name: 'TFIM', 'Fermi-Hubbard-1D', 'Bose-Hubbard-1D', 'Heisenberg' or 'Max3Sat'\n",
    "\n",
    "hamiltonian_name = 'TFIM'\n",
    "\n",
    "print(f\"... Hamiltonian name = {hamiltonian_name}\")\n",
    "\n",
    "########### HamLib Hamiltonians\n",
    "\n",
    "if hamiltonian_name == 'TFIM':\n",
    "    hamiltonian_params = { \"1D-grid\": \"pbc\", \"h\": 2 }\n",
    "\n",
    "if hamiltonian_name == 'Heisenberg':\n",
    "    hamiltonian_params = { \"1D-grid\": \"pbc\", \"h\": 2 }\n",
    "    \n",
    "if hamiltonian_name == 'Fermi-Hubbard-1D':\n",
    "    hamiltonian_params = { \"1D-grid\": \"pbc\", \"enc\": \"bk\", \"U\":12 }\n",
    "\n",
    "if hamiltonian_name == 'Bose-Hubbard-1D':\n",
    "    hamiltonian_params = { \"1D-grid\": \"nonpbc\", \"enc\": \"gray\", \"U\":10 }\n",
    "\n",
    "if hamiltonian_name == 'Max3Sat':\n",
    "    hamiltonian_params = { \"ratio\": \"2\", \"rinst\": \"02\" }\n",
    "\n",
    "if hamiltonian_name == 'chemistry/electronic/standard/H2':\n",
    "    hamiltonian_params = { \"ham_BK\": '' }\n",
    "\n",
    "# load the HamLib file for the given hamiltonian name\n",
    "hamlib_utils.load_hamlib_file(filename=hamiltonian_name)\n",
    "\n",
    "# return a sparse Pauli list of terms queried from the open HamLib file\n",
    "sparse_pauli_terms, dataset_name = hamlib_utils.get_hamlib_sparsepaulilist(num_qubits=num_qubits, params=hamiltonian_params)\n",
    "print(f\"... dataset_name = {dataset_name}\")\n",
    "print(f\"... sparse_pauli_terms = \\n{sparse_pauli_terms}\")\n",
    "\n",
    "print(\"\")\n"
   ]
  },
  {
   "cell_type": "markdown",
   "id": "d405a810-09a4-4397-80d6-2b1b2c7126b9",
   "metadata": {},
   "source": [
    "### Group the Pauli Terms and Generate Merged Terms\n",
    "Here, we optimize the grouping of the Pauli terms, both for creating the base circuit with evolution terms and for generating the measurement circuits."
   ]
  },
  {
   "cell_type": "code",
   "execution_count": 5,
   "id": "f7670614-3f1b-43ed-9873-d1f3f10c1cbc",
   "metadata": {
    "scrolled": true
   },
   "outputs": [
    {
     "name": "stdout",
     "output_type": "stream",
     "text": [
      "... Pauli Term Groups:\n",
      "[('ZZIIII', (1+0j)), ('ZIIIIZ', (1+0j)), ('IZZIII', (1+0j)), ('IIIIZZ', (1+0j)), ('IIZZII', (1+0j)), ('IIIZZI', (1+0j))]\n",
      "[('XIIIII', (2+0j)), ('IXIIII', (2+0j)), ('IIIIIX', (2+0j)), ('IIXIII', (2+0j)), ('IIIXII', (2+0j)), ('IIIIXI', (2+0j))]\n",
      "\n",
      "... Merged Pauli strings, one per group:\n",
      "  ['ZZZZZZ', 'XXXXXX']\n",
      "\n"
     ]
    }
   ],
   "source": [
    "# DEVNOTE: expand later to include new types of optimizations\n",
    "\n",
    "# Flag to control optimize by use of commuting groups\n",
    "use_commuting_groups = True\n",
    "\n",
    "# group Pauli terms for quantum execution, optionally combining commuting terms into groups.\n",
    "pauli_term_groups, pauli_str_list = observables.group_pauli_terms_for_execution(\n",
    "        num_qubits, sparse_pauli_terms, use_commuting_groups)\n",
    "\n",
    "print(f\"... Pauli Term Groups:\")\n",
    "for group in pauli_term_groups:\n",
    "    print(group)\n",
    "\n",
    "print(f\"\\n... Merged Pauli strings, one per group:\\n  {pauli_str_list}\\n\")\n"
   ]
  },
  {
   "cell_type": "markdown",
   "id": "5848a55b-830f-440e-a57a-1b08b0711881",
   "metadata": {},
   "source": [
    "### Create a Hamiltonian Simulation Circuit\n",
    "Initialize the circuit to a known initial state, append 'K' Trotter steps for total time 't', followed by basis rotation gates.\n",
    "\n",
    "Optionally, create the base circuit using grouped terms (TBD)."
   ]
  },
  {
   "cell_type": "code",
   "execution_count": 6,
   "id": "8ec99e2e-2e87-4555-85a1-d2aeedf0e604",
   "metadata": {
    "scrolled": true
   },
   "outputs": [
    {
     "name": "stdout",
     "output_type": "stream",
     "text": [
      "... Trotterized Circuit, K=1, t=0.05\n",
      "Sample Circuit:\n",
      "  H = [({0: 'Z', 1: 'Z'}, (1+0j)), ({0: 'Z', 5: 'Z'}, (1+0j)), ({1: 'Z', 2: 'Z'}, (1+0j)), ({5: 'Z', 4: 'Z'}, (1+0j)), ({2: 'Z', 3: 'Z'}, (1+0j)), ({3: 'Z', 4: 'Z'}, (1+0j)), ({0: 'X'}, (2+0j)), ({1: 'X'}, (2+0j)), ({5: 'X'}, (2+0j)), ({2: 'X'}, (2+0j)), ({3: 'X'}, (2+0j)), ({4: 'X'}, (2+0j))]\n",
      "     ┌────────┐ ░ ┌───────────────┐ ░ \n",
      "q_0: ┤0       ├─░─┤0              ├─░─\n",
      "     │        │ ░ │               │ ░ \n",
      "q_1: ┤1       ├─░─┤1              ├─░─\n",
      "     │        │ ░ │               │ ░ \n",
      "q_2: ┤2       ├─░─┤2              ├─░─\n",
      "     │  Neele │ ░ │  e^-iHt(0.05) │ ░ \n",
      "q_3: ┤3       ├─░─┤3              ├─░─\n",
      "     │        │ ░ │               │ ░ \n",
      "q_4: ┤4       ├─░─┤4              ├─░─\n",
      "     │        │ ░ │               │ ░ \n",
      "q_5: ┤5       ├─░─┤5              ├─░─\n",
      "     └────────┘ ░ └───────────────┘ ░ \n",
      "  Initial State Neele:\n",
      "     ┌───┐\n",
      "q_0: ┤ X ├\n",
      "     └───┘\n",
      "q_1: ─────\n",
      "     ┌───┐\n",
      "q_2: ┤ X ├\n",
      "     └───┘\n",
      "q_3: ─────\n",
      "     ┌───┐\n",
      "q_4: ┤ X ├\n",
      "     └───┘\n",
      "q_5: ─────\n",
      "          \n",
      "  Evolution Operator (e^-iHt) =\n",
      "                                    ┌─────────┐                      \n",
      "q_0: ───────────■──────────■────────┤ Rx(0.2) ├──────────────────────\n",
      "                │          │ZZ(0.1) └─────────┘           ┌─────────┐\n",
      "q_1: ───────────┼──────────■─────────────────────■────────┤ Rx(0.2) ├\n",
      "                │                                │ZZ(0.1) ├─────────┤\n",
      "q_2: ───────────┼─────────────────────■──────────■────────┤ Rx(0.2) ├\n",
      "                │                     │ZZ(0.1) ┌─────────┐└─────────┘\n",
      "q_3: ───────────┼──────────■──────────■────────┤ Rx(0.2) ├───────────\n",
      "                │          │ZZ(0.1) ┌─────────┐└─────────┘           \n",
      "q_4: ─■─────────┼──────────■────────┤ Rx(0.2) ├──────────────────────\n",
      "      │ZZ(0.1)  │ZZ(0.1) ┌─────────┐└─────────┘                      \n",
      "q_5: ─■─────────■────────┤ Rx(0.2) ├─────────────────────────────────\n",
      "                         └─────────┘                                 \n",
      "\n"
     ]
    }
   ],
   "source": [
    "# create Trotterized evolution circuit for HamLib Hamiltonians\n",
    "\n",
    "init_state = \"checkerboard\"\n",
    "\n",
    "qc, _ = hamlib_simulation_kernel.HamiltonianSimulation(\n",
    "    num_qubits=num_qubits, \n",
    "    ham_op=sparse_pauli_terms,\n",
    "    K=K, t=t,\n",
    "    init_state = init_state,\n",
    "    append_measurements = False,\n",
    "    method = 1, \n",
    ")\n",
    "\n",
    "print(f\"... Trotterized Circuit, K={K}, t={t}\")\n",
    "if num_qubits < 11:\n",
    "    if hamiltonian_name != '':\n",
    "        hamlib_simulation_kernel.kernel_draw(qc, method=1)\n",
    "    else:\n",
    "        print(qc)\n",
    "else:\n",
    "    print(\"  ... circuit is too large to draw.\")\n",
    "\n",
    "print(\"\")\n"
   ]
  },
  {
   "cell_type": "markdown",
   "id": "022a5fcb-ec05-4535-8aec-5e3c214caae4",
   "metadata": {},
   "source": [
    "### Create Measurement Circuits from Base Circuit and Pauli Terms\n",
    "Here, we append basis rotation gates for each Pauli Term group to the base evolution circuit to create an array of circuits for execution."
   ]
  },
  {
   "cell_type": "code",
   "execution_count": 7,
   "id": "29ea3650-4831-41d9-83e4-1d7cd69f74eb",
   "metadata": {},
   "outputs": [
    {
     "name": "stdout",
     "output_type": "stream",
     "text": [
      "... Created 2 circuits, one for each group:\n",
      "[('ZZIIII', (1+0j)), ('ZIIIIZ', (1+0j)), ('IZZIII', (1+0j)), ('IIIIZZ', (1+0j)), ('IIZZII', (1+0j)), ('IIIZZI', (1+0j))]\n",
      "[('XIIIII', (2+0j)), ('IXIIII', (2+0j)), ('IIIIIX', (2+0j)), ('IIXIII', (2+0j)), ('IIIXII', (2+0j)), ('IIIIXI', (2+0j))]\n"
     ]
    }
   ],
   "source": [
    "# generate an array of circuits, one for each pauli_string in list\n",
    "circuits = hamlib_simulation_kernel.create_circuits_for_pauli_terms(qc, num_qubits, pauli_str_list)\n",
    "\n",
    "print(f\"... Created {len(circuits)} circuits, one for each group:\")               \n",
    "for circuit, group in list(zip(circuits, pauli_term_groups)):\n",
    "    print(group)\n",
    "    #print(circuit)\n",
    "    "
   ]
  },
  {
   "cell_type": "markdown",
   "id": "87483ec7-bbe5-4584-b4cf-b0cfe479c3cc",
   "metadata": {},
   "source": [
    "### Execute Circuits to Produce Measurement Distributions\n",
    "For now, we execute using the Aer simulator. This will be enhanced to use the QED-C execution module to enable execution on multiple programming APIs and backend systems. "
   ]
  },
  {
   "cell_type": "code",
   "execution_count": 8,
   "id": "40010c08-d005-4ca8-b1d4-cfe472329d1a",
   "metadata": {},
   "outputs": [
    {
     "name": "stdout",
     "output_type": "stream",
     "text": [
      "... begin executing 2 circuits ...\n",
      "... finished executing 2 circuits, total execution time = 0.017 sec.\n",
      "\n"
     ]
    }
   ],
   "source": [
    "# Initialize simulator backend\n",
    "from qiskit_aer import Aer\n",
    "backend = Aer.get_backend('qasm_simulator')\n",
    "\n",
    "print(f\"... begin executing {len(circuits)} circuits ...\")\n",
    "ts = time.time()\n",
    "\n",
    "# Execute all of the circuits to obtain array of result objects\n",
    "results = backend.run(circuits, num_shots=num_shots).result()\n",
    "\n",
    "exec_time = round(time.time()-ts, 3)\n",
    "print(f\"... finished executing {len(circuits)} circuits, total execution time = {exec_time} sec.\\n\")\n"
   ]
  },
  {
   "cell_type": "markdown",
   "id": "ab8113ad-fb73-4e25-886c-4d00f547adde",
   "metadata": {},
   "source": [
    "### Compute the Energy of the Evolved State from the Hamiltonian and the Measurement Distributions\n",
    "Here, we process the measurement results from circuit execution using the Hamiltonian terms to compute the expectation value of the energy observable.\n",
    "\n",
    "We also, retain the contributions from each terms so that we can use those in calcuating other observables from the same measurement results."
   ]
  },
  {
   "cell_type": "code",
   "execution_count": 9,
   "id": "7e9d7457-2481-4c34-96f0-4fdcc4ea4234",
   "metadata": {},
   "outputs": [
    {
     "name": "stdout",
     "output_type": "stream",
     "text": [
      "... begin computing observable value ...\n",
      "... finished computing observable value, computation time = 0.001 sec.\n",
      "\n",
      "    Total Energy: -5.7227\n",
      "\n",
      "    Term Contributions: {'ZZIIII': -0.96875, 'ZIIIIZ': -0.962890625, 'IZZIII': -0.966796875, 'IIIIZZ': -0.955078125, 'IIZZII': -0.970703125, 'IIIZZI': -0.96484375, 'XIIIII': -0.00390625, 'IXIIII': -0.021484375, 'IIIIIX': 0.01171875, 'IIXIII': 0.033203125, 'IIIXII': 0.017578125, 'IIIIXI': -0.00390625}\n",
      "\n"
     ]
    }
   ],
   "source": [
    "# Compute the total energy for the Hamiltonian\n",
    "\n",
    "print(f\"... begin computing observable value ...\")\n",
    "ts = time.time()\n",
    "\n",
    "total_energy, term_contributions = observables.calculate_expectation_from_measurements(\n",
    "                                            num_qubits, results, pauli_term_groups)\n",
    "obs_time = round(time.time()-ts, 3)\n",
    "print(f\"... finished computing observable value, computation time = {obs_time} sec.\\n\")\n",
    "\n",
    "print(f\"    Total Energy: {round(np.real(total_energy), 4)}\\n\")\n",
    "print(f\"    Term Contributions: {term_contributions}\\n\")\n"
   ]
  },
  {
   "cell_type": "markdown",
   "id": "9dba04a4-2e59-4f42-80f9-be6ec8897391",
   "metadata": {},
   "source": [
    "### Compute Energy of the Evolved State Classically and Compare to Quantum Result\n",
    "Here, we use a classical computation to determine the exact expectation value and produce a quality score for the quantum computation."
   ]
  },
  {
   "cell_type": "code",
   "execution_count": 10,
   "id": "b8a6d1bf-f8f2-431e-b006-b8fb5d2c3216",
   "metadata": {},
   "outputs": [
    {
     "name": "stdout",
     "output_type": "stream",
     "text": [
      "... begin classical computation of expectation value ...\n",
      "... exact computation time = 0.009 sec\n",
      "\n",
      "Exact expectation value, computed classically: -6.0\n",
      "Estimated expectation value, computed using quantum algorithm: -5.7227\n",
      "\n",
      "    ==> Simulation Quality: 0.954\n",
      "\n"
     ]
    }
   ],
   "source": [
    "print(f\"... begin classical computation of expectation value ...\")\n",
    "                    \n",
    "ts = time.time()\n",
    "\n",
    "# DEVNOTE: ideally, we can remove this next line somehow      \n",
    "# create quantum circuit with initial state\n",
    "qc_initial = hamlib_simulation_kernel.initial_state(n_spins=num_qubits, init_state=init_state)\n",
    "\"\"\"                        \n",
    "# DEVNOTE: the following code is WIP ... \n",
    "# it is for testing the new versions of exact expectation and distribution calculations.\n",
    "# There is another version in development that does not require the kernel to create an initial circuit.\n",
    "\"\"\"        \n",
    "correct_exp, correct_dist = evolution_exact.compute_expectation_exact_spo_scipy(\n",
    "        init_state, \n",
    "        qc_initial,\n",
    "        num_qubits,\n",
    "        hamlib_simulation_kernel.ensure_sparse_pauli_op(sparse_pauli_terms, num_qubits),\n",
    "        1.0            # time\n",
    "        )\n",
    "    \n",
    "exact_time = round(time.time()-ts, 3)\n",
    "print(f\"... exact computation time = {exact_time} sec\")\n",
    "\n",
    "print(f\"\\nExact expectation value, computed classically: {round(np.real(correct_exp), 4)}\")\n",
    "print(f\"Estimated expectation value, computed using quantum algorithm: {round(np.real(total_energy), 4)}\\n\")\n",
    "\n",
    "simulation_quality = round(np.real(total_energy) / np.real(correct_exp), 3)\n",
    "print(f\"    ==> Simulation Quality: {np.real(simulation_quality)}\\n\")\n"
   ]
  },
  {
   "cell_type": "code",
   "execution_count": 11,
   "id": "d9fba694-2d4d-4907-bcb2-a0926b19ceb4",
   "metadata": {},
   "outputs": [
    {
     "name": "stdout",
     "output_type": "stream",
     "text": [
      "\n",
      "************ Compute energy of the Hamiltonian 3 times\n",
      "\n",
      "Total Energy: (-5.8712+0j)\n",
      "Term Contributions: {'ZZIIII': -0.9602, 'ZIIIIZ': -0.956, 'IZZIII': -0.9622, 'IIIIZZ': -0.9582, 'IIZZII': -0.9568, 'IIIZZI': -0.957, 'XIIIII': -0.023, 'IXIIII': 0.0098, 'IIIIIX': -0.0216, 'IIXIII': -0.0174, 'IIIXII': 0.0118, 'IIIIXI': -0.02}\n",
      "\n",
      "Total Energy: (-5.7616000000000005+0j)\n",
      "Term Contributions: {'ZZIIII': -0.9578, 'ZIIIIZ': -0.958, 'IZZIII': -0.9594, 'IIIIZZ': -0.962, 'IIZZII': -0.9584, 'IIIZZI': -0.9624, 'XIIIII': 0.0052, 'IXIIII': -0.0132, 'IIIIIX': -0.0034, 'IIXIII': 0.0168, 'IIIXII': -0.0046, 'IIIIXI': -0.0026}\n",
      "\n",
      "Total Energy: (-5.814400000000001+0j)\n",
      "Term Contributions: {'ZZIIII': -0.9618, 'ZIIIIZ': -0.9648, 'IZZIII': -0.9562, 'IIIIZZ': -0.9634, 'IIZZII': -0.9576, 'IIIZZI': -0.9602, 'XIIIII': -0.0162, 'IXIIII': -0.0184, 'IIIIIX': 0.017, 'IIXIII': -0.0124, 'IIIXII': 0.013, 'IIIIXI': -0.0082}\n",
      "\n"
     ]
    }
   ],
   "source": [
    "# Flag to control optimize by use of commuting groups\n",
    "use_commuting_groups = True\n",
    "\n",
    "N = 3\n",
    "print(f\"\\n************ Compute energy of the Hamiltonian {N} times\")\n",
    "\n",
    "# Calculate the total energy\n",
    "for i in range(N):\n",
    "        \n",
    "    # Estimate expectation for the Ham terms using the circuit qc\n",
    "    total_energy, term_contributions = observables.estimate_expectation_value(backend, qc, sparse_pauli_terms, \n",
    "                                             use_commuting_groups=use_commuting_groups, num_shots=10000)\n",
    "    print(f\"\\nTotal Energy: {total_energy}\")\n",
    "    print(f\"Term Contributions: {term_contributions}\")\n",
    "    \n",
    "print(\"\")"
   ]
  },
  {
   "cell_type": "markdown",
   "id": "1ce460a7-27b2-4865-9e15-e96355f387a2",
   "metadata": {},
   "source": [
    "### Compute Expectation with Estimator\n",
    "Here, we do a sanity check on the above processes by comparing with energy obtained using the Qiskit Estimator."
   ]
  },
  {
   "cell_type": "code",
   "execution_count": 12,
   "id": "a9a0990c-2b2f-42e6-ac72-8c4fa3c47c1f",
   "metadata": {},
   "outputs": [
    {
     "name": "stdout",
     "output_type": "stream",
     "text": [
      "... Estimator computation time = 0.005 sec\n",
      "Expectation value, computed using Qiskit Estimator: -5.7632\n",
      "\n"
     ]
    }
   ],
   "source": [
    "# Call the Qiskit Estimator using the function wrapper in 'observables' module.\n",
    "\n",
    "# DEVNOTE: We may want to surface the actual Estimator call instead. \n",
    "\n",
    "# Ensure that the pauli_terms are in 'full' format, not 'sparse' - convert if necessary\n",
    "pauli_terms = observables.ensure_pauli_terms(sparse_pauli_terms, num_qubits=num_qubits)\n",
    "pauli_terms = observables.swap_pauli_list(pauli_terms)\n",
    "\n",
    "ts = time.time()\n",
    "\n",
    "estimator_energy = observables.estimate_expectation_with_estimator(backend, qc, pauli_terms, num_shots=num_shots)\n",
    "\n",
    "estimator_time = round(time.time()-ts, 3)\n",
    "print(f\"... Estimator computation time = {estimator_time} sec\")\n",
    "\n",
    "print(f\"Expectation value, computed using Qiskit Estimator: {round(np.real(estimator_energy), 4)}\\n\")\n"
   ]
  },
  {
   "cell_type": "markdown",
   "id": "bf88fc0a-98f4-4278-aa55-3205bba345fa",
   "metadata": {},
   "source": [
    "### Compute expectation value of other observables.\n",
    "WORK-IN-PROGRESS: Note that this only works for the Ising model so far."
   ]
  },
  {
   "cell_type": "code",
   "execution_count": 13,
   "id": "6c24ca2a-522f-4902-b488-6393bc61cfd8",
   "metadata": {},
   "outputs": [
    {
     "name": "stdout",
     "output_type": "stream",
     "text": [
      "-0.9598400000000001\n",
      "WARN: term not found in term_contributions: IIIIIZ\n",
      "WARN: term not found in term_contributions: IIIIZI\n",
      "WARN: term not found in term_contributions: IIIZII\n",
      "WARN: term not found in term_contributions: IIZIII\n",
      "WARN: term not found in term_contributions: IZIIII\n",
      "WARN: term not found in term_contributions: ZIIIII\n",
      "0\n"
     ]
    }
   ],
   "source": [
    "# Define additional Hamiltonian terms for other Ising observables \n",
    "H_terms_spin_correlation = observables.swap_pauli_list([(0.2,'IIIIZZ'), (0.2,'IIIZZI'), (0.2,'IIZZII'), (0.2,'IZZIII'), (0.2,'ZZIIII')])\n",
    "H_terms_magnetization = observables.swap_pauli_list([(1,'IIIIIZ'), (1,'IIIIZI'), (1,'IIIZII'), (1,'IIZIII'), (1,'IZIIII'), (1, 'ZIIIII')])\n",
    "\n",
    "spin_correlation = observables.calculate_expectation_from_contributions(term_contributions, H_terms_spin_correlation)\n",
    "print(spin_correlation)\n",
    "\n",
    "magnetization = observables.calculate_expectation_from_contributions(term_contributions, H_terms_magnetization)\n",
    "print(magnetization)\n"
   ]
  },
  {
   "cell_type": "code",
   "execution_count": null,
   "id": "4f7de6f8-64cb-4266-9fc2-633d1d30c092",
   "metadata": {},
   "outputs": [],
   "source": []
  }
 ],
 "metadata": {
  "kernelspec": {
   "display_name": "Python 3 (ipykernel)",
   "language": "python",
   "name": "python3"
  },
  "language_info": {
   "codemirror_mode": {
    "name": "ipython",
    "version": 3
   },
   "file_extension": ".py",
   "mimetype": "text/x-python",
   "name": "python",
   "nbconvert_exporter": "python",
   "pygments_lexer": "ipython3",
   "version": "3.11.5"
  }
 },
 "nbformat": 4,
 "nbformat_minor": 5
}
