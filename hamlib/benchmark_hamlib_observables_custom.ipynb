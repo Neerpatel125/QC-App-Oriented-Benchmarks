{
 "cells": [
  {
   "cell_type": "markdown",
   "id": "444c2c24-909a-4dd3-a80f-d4df84bebc3d",
   "metadata": {},
   "source": [
    "### QED-C Application-Oriented Benchmarks - Hamiltonian Simulation with HamLib - Observables (Customizable)\n",
    "\n",
    "The notebook contains specific examples for the HamLib-based Hamiltonian Simulation benchmark program.\n",
    "Configure and run the cell below with the desired execution settings.\n",
    "Then configure and run the remaining cell(s), each one a variation of this benchmark.\n",
    "\n",
    "Note: This set of benchmarks surfaces the series of second-level functions used to benchmark HamLib observables.\n",
    "This is a WORK-IN-PROGRESS and is provided to enable experimentation with alternative techniques for computing observables.\n"
   ]
  },
  {
   "cell_type": "code",
   "execution_count": 1,
   "id": "736e7d08-1e3c-4694-8648-6de6ad1ca299",
   "metadata": {},
   "outputs": [],
   "source": [
    "%reload_ext autoreload\n",
    "%autoreload 2"
   ]
  },
  {
   "cell_type": "code",
   "execution_count": 2,
   "id": "67e7efbd-318c-44c2-ad58-8d4b03403e49",
   "metadata": {},
   "outputs": [],
   "source": [
    "import numpy as np\n",
    "from math import sin, cos, pi\n",
    "import time\n",
    "\n",
    "# Configure module paths\n",
    "import sys\n",
    "sys.path.insert(1, \"_common\")\n",
    "sys.path.insert(1, \"qiskit\")\n",
    "\n",
    "# Import HamLib helper functions (from _common)\n",
    "import hamlib_utils\n",
    "\n",
    "# Import Hamlib Simulation kernel (from qiskit)\n",
    "import hamlib_simulation_kernel\n",
    "\n",
    "# Import Observable helper functions\n",
    "import observables\n",
    "\n",
    "#### for executing circuits to compute observables ...\n",
    "\n",
    "# Import Qiskit and Qiskit Pauli operator classes\n",
    "from qiskit.quantum_info import Pauli, SparsePauliOp\n",
    "from qiskit import QuantumCircuit\n",
    "\n",
    "# Initialize simulator backend\n",
    "from qiskit_aer import Aer\n",
    "backend = Aer.get_backend('qasm_simulator')\n"
   ]
  },
  {
   "cell_type": "markdown",
   "id": "da34b34e-fa01-41a6-a2ff-a03ce1d63b25",
   "metadata": {},
   "source": [
    "### Configure Options for Execution"
   ]
  },
  {
   "cell_type": "code",
   "execution_count": 3,
   "id": "f8fc95a9-5621-47b1-b7c6-fbea0b8dc814",
   "metadata": {},
   "outputs": [],
   "source": [
    "# Qubit width of the Hamiltonian\n",
    "num_qubits = 6\n",
    "\n",
    "# Parameters of Trotterized simulation\n",
    "K = 1\n",
    "t = 0.05\n",
    "\n",
    "# for debugging Hamlib helper functions\n",
    "hamlib_simulation_kernel.verbose = False\n",
    "hamlib_utils.verbose = False\n",
    "\n",
    "# for debugging observables module\n",
    "observables.verbose_circuits = False\n"
   ]
  },
  {
   "cell_type": "markdown",
   "id": "2d35830f-d921-4509-aaac-ee0fdae6a999",
   "metadata": {},
   "source": [
    "### Specify a Hamiltonian for Testing\n",
    "Choose a Hamiltonian from HamLib or create a custom Hamiltonian\n"
   ]
  },
  {
   "cell_type": "code",
   "execution_count": 6,
   "id": "a5ec42f1-790c-4050-94c0-9c2a313b488b",
   "metadata": {},
   "outputs": [
    {
     "name": "stdout",
     "output_type": "stream",
     "text": [
      "... Hamiltonian name = TFIM\n",
      "... dataset_name = graph-1D-grid-pbc-qubitnodes_Lx-6_h-2\n",
      "... sparse_pauli_terms = \n",
      "[({0: 'Z', 1: 'Z'}, (1+0j)), ({0: 'Z', 5: 'Z'}, (1+0j)), ({1: 'Z', 2: 'Z'}, (1+0j)), ({5: 'Z', 4: 'Z'}, (1+0j)), ({2: 'Z', 3: 'Z'}, (1+0j)), ({3: 'Z', 4: 'Z'}, (1+0j)), ({0: 'X'}, (2+0j)), ({1: 'X'}, (2+0j)), ({5: 'X'}, (2+0j)), ({2: 'X'}, (2+0j)), ({3: 'X'}, (2+0j)), ({4: 'X'}, (2+0j))]\n",
      "\n"
     ]
    }
   ],
   "source": [
    "# Specify the desired Hamiltonian from HamLib \n",
    "# Set the hamiltonian_name: 'TFIM', 'Fermi-Hubbard-1D', 'Bose-Hubbard-1D', 'Heisenberg' or 'Max3Sat'\n",
    "\n",
    "hamiltonian_name = 'TFIM'\n",
    "\n",
    "print(f\"... Hamiltonian name = {hamiltonian_name}\")\n",
    "\n",
    "########### HamLib Hamiltonians\n",
    "\n",
    "if hamiltonian_name == 'TFIM':\n",
    "    hamiltonian_params = { \"1D-grid\": \"pbc\", \"h\": 2 }\n",
    "\n",
    "if hamiltonian_name == 'Heisenberg':\n",
    "    hamiltonian_params = { \"1D-grid\": \"pbc\", \"h\": 2 }\n",
    "    \n",
    "if hamiltonian_name == 'Fermi-Hubbard-1D':\n",
    "    hamiltonian_params = { \"1D-grid\": \"pbc\", \"enc\": \"bk\", \"U\":12 }\n",
    "\n",
    "if hamiltonian_name == 'Bose-Hubbard-1D':\n",
    "    hamiltonian_params = { \"1D-grid\": \"nonpbc\", \"enc\": \"gray\", \"U\":10 }\n",
    "\n",
    "if hamiltonian_name == 'Max3Sat':\n",
    "    hamiltonian_params = { \"ratio\": \"2\", \"rinst\": \"02\" }\n",
    "\n",
    "if hamiltonian_name == 'chemistry/electronic/standard/H2':\n",
    "    hamiltonian_params = { \"ham_BK\": '' }\n",
    "\n",
    "# load the HamLib file for the given hamiltonian name\n",
    "hamlib_utils.load_hamlib_file(filename=hamiltonian_name)\n",
    "\n",
    "# return a sparse Pauli list of terms queried from the open HamLib file\n",
    "sparse_pauli_terms, dataset_name = hamlib_utils.get_hamlib_sparsepaulilist(num_qubits=num_qubits, params=hamiltonian_params)\n",
    "print(f\"... dataset_name = {dataset_name}\")\n",
    "print(f\"... sparse_pauli_terms = \\n{sparse_pauli_terms}\")\n",
    "\n",
    "print(\"\")\n"
   ]
  },
  {
   "cell_type": "markdown",
   "id": "5848a55b-830f-440e-a57a-1b08b0711881",
   "metadata": {},
   "source": [
    "### Create a Hamiltonian Simulation Circuit\n",
    "Initialize the circuit to a known initial state, append 'K' Trotter steps for total time 't', followed by basis rotation gates."
   ]
  },
  {
   "cell_type": "code",
   "execution_count": 7,
   "id": "8ec99e2e-2e87-4555-85a1-d2aeedf0e604",
   "metadata": {
    "scrolled": true
   },
   "outputs": [
    {
     "name": "stdout",
     "output_type": "stream",
     "text": [
      "... Trotterized Circuit, K=1, t=0.05\n",
      "Sample Circuit:\n",
      "  H = [({0: 'Z', 1: 'Z'}, (1+0j)), ({0: 'Z', 5: 'Z'}, (1+0j)), ({1: 'Z', 2: 'Z'}, (1+0j)), ({5: 'Z', 4: 'Z'}, (1+0j)), ({2: 'Z', 3: 'Z'}, (1+0j)), ({3: 'Z', 4: 'Z'}, (1+0j)), ({0: 'X'}, (2+0j)), ({1: 'X'}, (2+0j)), ({5: 'X'}, (2+0j)), ({2: 'X'}, (2+0j)), ({3: 'X'}, (2+0j)), ({4: 'X'}, (2+0j))]\n",
      "     ┌────────┐ ░ ┌───────────────┐ ░ \n",
      "q_0: ┤0       ├─░─┤0              ├─░─\n",
      "     │        │ ░ │               │ ░ \n",
      "q_1: ┤1       ├─░─┤1              ├─░─\n",
      "     │        │ ░ │               │ ░ \n",
      "q_2: ┤2       ├─░─┤2              ├─░─\n",
      "     │  Neele │ ░ │  e^-iHt(0.05) │ ░ \n",
      "q_3: ┤3       ├─░─┤3              ├─░─\n",
      "     │        │ ░ │               │ ░ \n",
      "q_4: ┤4       ├─░─┤4              ├─░─\n",
      "     │        │ ░ │               │ ░ \n",
      "q_5: ┤5       ├─░─┤5              ├─░─\n",
      "     └────────┘ ░ └───────────────┘ ░ \n",
      "  Initial State Neele:\n",
      "     ┌───┐\n",
      "q_0: ┤ X ├\n",
      "     └───┘\n",
      "q_1: ─────\n",
      "     ┌───┐\n",
      "q_2: ┤ X ├\n",
      "     └───┘\n",
      "q_3: ─────\n",
      "     ┌───┐\n",
      "q_4: ┤ X ├\n",
      "     └───┘\n",
      "q_5: ─────\n",
      "          \n",
      "  Evolution Operator (e^-iHt) =\n",
      "                                    ┌─────────┐                      \n",
      "q_0: ───────────■──────────■────────┤ Rx(0.2) ├──────────────────────\n",
      "                │          │ZZ(0.1) └─────────┘           ┌─────────┐\n",
      "q_1: ───────────┼──────────■─────────────────────■────────┤ Rx(0.2) ├\n",
      "                │                                │ZZ(0.1) ├─────────┤\n",
      "q_2: ───────────┼─────────────────────■──────────■────────┤ Rx(0.2) ├\n",
      "                │                     │ZZ(0.1) ┌─────────┐└─────────┘\n",
      "q_3: ───────────┼──────────■──────────■────────┤ Rx(0.2) ├───────────\n",
      "                │          │ZZ(0.1) ┌─────────┐└─────────┘           \n",
      "q_4: ─■─────────┼──────────■────────┤ Rx(0.2) ├──────────────────────\n",
      "      │ZZ(0.1)  │ZZ(0.1) ┌─────────┐└─────────┘                      \n",
      "q_5: ─■─────────■────────┤ Rx(0.2) ├─────────────────────────────────\n",
      "                         └─────────┘                                 \n",
      "\n"
     ]
    }
   ],
   "source": [
    "# create Trotterized evolution circuit for HamLib Hamiltonians\n",
    "\n",
    "init_state = \"checkerboard\"\n",
    "\n",
    "qc, bitstring = hamlib_simulation_kernel.HamiltonianSimulation(\n",
    "    num_qubits=num_qubits, \n",
    "    ham_op=sparse_pauli_terms,\n",
    "    K=K, t=t,\n",
    "    init_state = init_state,\n",
    "    append_measurements = False,\n",
    "    method = 1, \n",
    ")\n",
    "\n",
    "print(f\"... Trotterized Circuit, K={K}, t={t}\")\n",
    "if num_qubits < 11:\n",
    "    if hamiltonian_name != '':\n",
    "        hamlib_simulation_kernel.kernel_draw(qc, method=1)\n",
    "    else:\n",
    "        print(qc)\n",
    "else:\n",
    "    print(\"  ... circuit is too large to draw.\")\n",
    "\n",
    "print(\"\")\n"
   ]
  },
  {
   "cell_type": "markdown",
   "id": "a335dc45-eccb-4f9f-be2a-2ed5ff9fb4a9",
   "metadata": {},
   "source": [
    "### Compute Energy of the Hamiltonian - Unoptimized\n",
    "\n",
    "Here, we convert the Hamiltonian to a set of circuits, using commuting groups if specified,\n",
    "and execute the circuits in order to compute the expectation value "
   ]
  },
  {
   "cell_type": "code",
   "execution_count": 9,
   "id": "0607c377-aa64-4fd7-bf3a-9353a823413b",
   "metadata": {},
   "outputs": [
    {
     "name": "stdout",
     "output_type": "stream",
     "text": [
      "\n",
      "************ Compute energy of the Hamiltonian 3 times\n",
      "\n",
      "Total Energy: (-5.7842+0j)\n",
      "Term Contributions: {'ZZIIII': -0.9624, 'ZIIIIZ': -0.959, 'IZZIII': -0.9592, 'IIIIZZ': -0.963, 'IIZZII': -0.9586, 'IIIZZI': -0.9564, 'XIIIII': -0.0038, 'IXIIII': -0.0032, 'IIIIIX': -0.006, 'IIXIII': 0.0074, 'IIIXII': -0.0118, 'IIIIXI': 0.0046}\n",
      "\n",
      "Total Energy: (-5.7998+0j)\n",
      "Term Contributions: {'ZZIIII': -0.9616, 'ZIIIIZ': -0.9604, 'IZZIII': -0.9626, 'IIIIZZ': -0.9632, 'IIZZII': -0.9612, 'IIIZZI': -0.9584, 'XIIIII': 0.013, 'IXIIII': 0.011, 'IIIIIX': -0.017, 'IIXIII': -0.015, 'IIIXII': -0.0014, 'IIIIXI': -0.0068}\n",
      "\n",
      "Total Energy: (-5.7108+0j)\n",
      "Term Contributions: {'ZZIIII': -0.9614, 'ZIIIIZ': -0.958, 'IZZIII': -0.964, 'IIIIZZ': -0.962, 'IIZZII': -0.96, 'IIIZZI': -0.9558, 'XIIIII': 0.0022, 'IXIIII': 0.0056, 'IIIIIX': 0.0088, 'IIXIII': -0.0002, 'IIIXII': 0.0116, 'IIIIXI': -0.0028}\n",
      "\n"
     ]
    }
   ],
   "source": [
    "# Flag to control optimize by use of commuting groups\n",
    "use_commuting_groups = False\n",
    "\n",
    "N = 3\n",
    "print(f\"\\n************ Compute energy of the Hamiltonian {N} times\")\n",
    "\n",
    "# Calculate the total energy\n",
    "for i in range(N):\n",
    "        \n",
    "    # Estimate expectation for the Ham terms using the circuit qc\n",
    "    total_energy, term_contributions = observables.estimate_expectation_value(backend, qc, sparse_pauli_terms, \n",
    "                                             use_commuting_groups=use_commuting_groups, num_shots=10000)\n",
    "    print(f\"\\nTotal Energy: {total_energy}\")\n",
    "    print(f\"Term Contributions: {term_contributions}\")\n",
    "    \n",
    "print(\"\")"
   ]
  },
  {
   "cell_type": "markdown",
   "id": "1e2d1d64-b77e-4928-a116-c93dd7ebf0c3",
   "metadata": {},
   "source": [
    "### Compute Energy of the Hamiltonian - Optimized\n",
    "\n",
    "Here, we convert the Hamiltonian to a set of circuits, using commuting groups if specified,\n",
    "and execute the circuits in order to compute the expectation value "
   ]
  },
  {
   "cell_type": "code",
   "execution_count": 10,
   "id": "d9fba694-2d4d-4907-bcb2-a0926b19ceb4",
   "metadata": {},
   "outputs": [
    {
     "name": "stdout",
     "output_type": "stream",
     "text": [
      "\n",
      "************ Compute energy of the Hamiltonian 3 times\n",
      "\n",
      "Total Energy: (-5.7716+0j)\n",
      "Term Contributions: {'ZZIIII': -0.9592, 'ZIIIIZ': -0.9616, 'IZZIII': -0.956, 'IIIIZZ': -0.9628, 'IIZZII': -0.961, 'IIIZZI': -0.9658, 'XIIIII': 0.0142, 'IXIIII': -0.0046, 'IIIIIX': -0.0196, 'IIXIII': 0.0006, 'IIIXII': -0.0062, 'IIIIXI': 0.013}\n",
      "\n",
      "Total Energy: (-5.8668+0j)\n",
      "Term Contributions: {'ZZIIII': -0.9632, 'ZIIIIZ': -0.9622, 'IZZIII': -0.9612, 'IIIIZZ': -0.9626, 'IIZZII': -0.9618, 'IIIZZI': -0.963, 'XIIIII': -0.0128, 'IXIIII': -0.0216, 'IIIIIX': 0.0032, 'IIXIII': -0.0116, 'IIIXII': 0.0018, 'IIIIXI': -0.0054}\n",
      "\n",
      "Total Energy: (-5.727200000000002+0j)\n",
      "Term Contributions: {'ZZIIII': -0.96, 'ZIIIIZ': -0.9614, 'IZZIII': -0.9594, 'IIIIZZ': -0.9626, 'IIZZII': -0.956, 'IIIZZI': -0.9594, 'XIIIII': 0.013, 'IXIIII': -0.0052, 'IIIIIX': 0.0094, 'IIXIII': 0.0046, 'IIIXII': -0.0034, 'IIIIXI': -0.0026}\n",
      "\n"
     ]
    }
   ],
   "source": [
    "# Flag to control optimize by use of commuting groups\n",
    "use_commuting_groups = True\n",
    "\n",
    "N = 3\n",
    "print(f\"\\n************ Compute energy of the Hamiltonian {N} times\")\n",
    "\n",
    "# Calculate the total energy\n",
    "for i in range(N):\n",
    "        \n",
    "    # Estimate expectation for the Ham terms using the circuit qc\n",
    "    total_energy, term_contributions = observables.estimate_expectation_value(backend, qc, sparse_pauli_terms, \n",
    "                                             use_commuting_groups=use_commuting_groups, num_shots=10000)\n",
    "    print(f\"\\nTotal Energy: {total_energy}\")\n",
    "    print(f\"Term Contributions: {term_contributions}\")\n",
    "    \n",
    "print(\"\")"
   ]
  },
  {
   "cell_type": "markdown",
   "id": "bf88fc0a-98f4-4278-aa55-3205bba345fa",
   "metadata": {},
   "source": [
    "### Compute expectation value of other observables.\n",
    "Note that this only works for the Ising model."
   ]
  },
  {
   "cell_type": "code",
   "execution_count": 7,
   "id": "6c24ca2a-522f-4902-b488-6393bc61cfd8",
   "metadata": {},
   "outputs": [
    {
     "name": "stdout",
     "output_type": "stream",
     "text": [
      "-0.96048\n",
      "WARN: term not found in term_contributions: IIIIIZ\n",
      "WARN: term not found in term_contributions: IIIIZI\n",
      "WARN: term not found in term_contributions: IIIZII\n",
      "WARN: term not found in term_contributions: IIZIII\n",
      "WARN: term not found in term_contributions: IZIIII\n",
      "WARN: term not found in term_contributions: ZIIIII\n",
      "0\n"
     ]
    }
   ],
   "source": [
    "# Define additional Hamiltonian terms for other Ising observables \n",
    "H_terms_spin_correlation = observables.swap_pauli_list([(0.2,'IIIIZZ'), (0.2,'IIIZZI'), (0.2,'IIZZII'), (0.2,'IZZIII'), (0.2,'ZZIIII')])\n",
    "H_terms_magnetization = observables.swap_pauli_list([(1,'IIIIIZ'), (1,'IIIIZI'), (1,'IIIZII'), (1,'IIZIII'), (1,'IZIIII'), (1, 'ZIIIII')])\n",
    "\n",
    "spin_correlation = observables.calculate_expectation_from_contributions(term_contributions, H_terms_spin_correlation)\n",
    "print(spin_correlation)\n",
    "\n",
    "magnetization = observables.calculate_expectation_from_contributions(term_contributions, H_terms_magnetization)\n",
    "print(magnetization)\n"
   ]
  },
  {
   "cell_type": "code",
   "execution_count": null,
   "id": "4f7de6f8-64cb-4266-9fc2-633d1d30c092",
   "metadata": {},
   "outputs": [],
   "source": []
  }
 ],
 "metadata": {
  "kernelspec": {
   "display_name": "Python 3 (ipykernel)",
   "language": "python",
   "name": "python3"
  },
  "language_info": {
   "codemirror_mode": {
    "name": "ipython",
    "version": 3
   },
   "file_extension": ".py",
   "mimetype": "text/x-python",
   "name": "python",
   "nbconvert_exporter": "python",
   "pygments_lexer": "ipython3",
   "version": "3.12.8"
  }
 },
 "nbformat": 4,
 "nbformat_minor": 5
}
