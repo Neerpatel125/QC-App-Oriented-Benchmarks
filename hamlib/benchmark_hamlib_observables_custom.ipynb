{
 "cells": [
  {
   "cell_type": "markdown",
   "id": "444c2c24-909a-4dd3-a80f-d4df84bebc3d",
   "metadata": {},
   "source": [
    "### QED-C Application-Oriented Benchmarks - Hamiltonian Simulation with HamLib - Observables (Customizable)\n",
    "\n",
    "The notebook contains specific examples for the HamLib-based Hamiltonian Simulation benchmark program.\n",
    "Configure and run the cell below with the desired execution settings.\n",
    "Then configure and run the remaining cell(s), each one a variation of this benchmark.\n",
    "\n",
    "Note: This set of benchmarks surfaces the series of second-level functions used to benchmark HamLib observables.\n",
    "This is a WORK-IN-PROGRESS and is provided to enable experimentation with alternative techniques for computing observables.\n"
   ]
  },
  {
   "cell_type": "code",
   "execution_count": 1,
   "id": "736e7d08-1e3c-4694-8648-6de6ad1ca299",
   "metadata": {},
   "outputs": [],
   "source": [
    "%reload_ext autoreload\n",
    "%autoreload 2"
   ]
  },
  {
   "cell_type": "code",
   "execution_count": 2,
   "id": "67e7efbd-318c-44c2-ad58-8d4b03403e49",
   "metadata": {},
   "outputs": [],
   "source": [
    "import numpy as np\n",
    "from math import sin, cos, pi\n",
    "import time\n",
    "\n",
    "# Configure module paths\n",
    "import sys\n",
    "sys.path.insert(1, \"_common\")\n",
    "sys.path.insert(1, \"qiskit\")\n",
    "\n",
    "# Import HamLib helper functions (from _common)\n",
    "import hamlib_utils\n",
    "\n",
    "# Import Hamlib Simulation kernel (from qiskit)\n",
    "import hamlib_simulation_kernel\n",
    "\n",
    "# Import Observable helper functions\n",
    "import observables\n",
    "import evolution_exact\n",
    "\n",
    "verbose = True\n",
    "\n",
    "#### for executing circuits to compute observables ...\n",
    "\n",
    "# Import Qiskit and Qiskit Pauli operator classes\n",
    "#from qiskit.quantum_info import Pauli, SparsePauliOp\n",
    "#from qiskit import QuantumCircuit\n",
    "\n",
    "# Initialize simulator backend\n",
    "#from qiskit_aer import Aer\n",
    "#backend = Aer.get_backend('qasm_simulator')\n"
   ]
  },
  {
   "cell_type": "markdown",
   "id": "da34b34e-fa01-41a6-a2ff-a03ce1d63b25",
   "metadata": {},
   "source": [
    "### Configure Options for Execution"
   ]
  },
  {
   "cell_type": "code",
   "execution_count": 3,
   "id": "f8fc95a9-5621-47b1-b7c6-fbea0b8dc814",
   "metadata": {},
   "outputs": [],
   "source": [
    "# Qubit width of the Hamiltonian\n",
    "num_qubits = 20\n",
    "\n",
    "# Number of shots used for execution\n",
    "num_shots = 10000\n",
    "\n",
    "# Parameters of Trotterized simulation\n",
    "K = 1\n",
    "t = 0.1\n",
    "\n",
    "# Define initial state; \"checkerboard\", \"neele\", \"ghz\", or a string consisting of 0s and 1s\n",
    "init_state = \"checkerboard\"\n",
    "\n",
    "# for debugging Hamlib helper functions\n",
    "hamlib_simulation_kernel.verbose = False\n",
    "hamlib_utils.verbose = False\n",
    "\n",
    "# for debugging observables module\n",
    "observables.verbose_circuits = False\n"
   ]
  },
  {
   "cell_type": "markdown",
   "id": "2d35830f-d921-4509-aaac-ee0fdae6a999",
   "metadata": {},
   "source": [
    "### Specify a Hamiltonian for Testing\n",
    "Choose a Hamiltonian from HamLib or create a custom Hamiltonian\n"
   ]
  },
  {
   "cell_type": "code",
   "execution_count": 4,
   "id": "a5ec42f1-790c-4050-94c0-9c2a313b488b",
   "metadata": {},
   "outputs": [
    {
     "name": "stdout",
     "output_type": "stream",
     "text": [
      "... Hamiltonian name = Fermi-Hubbard-1D\n",
      "... dataset_name = fh-graph-1D-grid-pbc-qubitnodes_Lx-10_U-12_enc-bk\n",
      "... sparse_pauli_terms = \n",
      "[({}, (30+0j)), ({0: 'X'}, (-0.5+0j)), ({0: 'X', 1: 'X', 3: 'X', 7: 'Y', 9: 'Y', 11: 'X'}, (-0.5+0j)), ({0: 'X', 1: 'Z'}, (0.5+0j)), ({0: 'Y', 1: 'X', 3: 'X', 7: 'Y', 8: 'Z', 9: 'X', 11: 'X'}, (0.5+0j)), ({0: 'Z'}, (-3+0j)), ({0: 'Z', 1: 'Y', 2: 'Y'}, (-0.5+0j)), ({0: 'Z', 1: 'Z'}, (-3+0j)), ({0: 'Z', 1: 'Z', 9: 'Z', 10: 'Z', 11: 'Z'}, (3+0j)), ({0: 'Z', 10: 'Z'}, (3+0j)), ({1: 'X', 2: 'X'}, (-0.5+0j)), ({1: 'Z', 2: 'X', 3: 'Z'}, (0.5+0j)), ({1: 'Z', 2: 'Z', 3: 'Y', 4: 'Y', 5: 'X'}, (-0.5+0j)), ({1: 'Z', 2: 'Z', 3: 'Z'}, (-3+0j)), ({1: 'Z', 2: 'Z', 3: 'Z', 12: 'Z', 13: 'Z'}, (3+0j)), ({2: 'X'}, (-0.5+0j)), ({2: 'Z'}, (-3+0j)), ({2: 'Z', 12: 'Z'}, (3+0j)), ({3: 'X', 4: 'X', 5: 'X'}, (-0.5+0j)), ({3: 'Z', 5: 'Z', 6: 'X', 7: 'Z'}, (0.5+0j)), ({3: 'Z', 5: 'Z', 6: 'Z', 7: 'Y', 8: 'Y', 9: 'X', 11: 'X'}, (-0.5+0j)), ({3: 'Z', 5: 'Z', 6: 'Z', 7: 'Z'}, (-3+0j)), ({3: 'Z', 5: 'Z', 6: 'Z', 7: 'Z', 16: 'Z', 17: 'Z'}, (3+0j)), ({4: 'X'}, (-0.5+0j)), ({4: 'X', 5: 'Z'}, (0.5+0j)), ({4: 'Z'}, (-3+0j)), ({4: 'Z', 5: 'Y', 6: 'Y'}, (-0.5+0j)), ({4: 'Z', 5: 'Z'}, (-3+0j)), ({4: 'Z', 5: 'Z', 7: 'Z', 11: 'Z', 13: 'Z', 14: 'Z', 15: 'Z'}, (3+0j)), ({4: 'Z', 14: 'Z'}, (3+0j)), ({5: 'X', 6: 'X'}, (-0.5+0j)), ({6: 'X'}, (-0.5+0j)), ({6: 'Z'}, (-3+0j)), ({6: 'Z', 16: 'Z'}, (3+0j)), ({7: 'X', 8: 'X', 9: 'X', 11: 'X'}, (-0.5+0j)), ({7: 'Z', 9: 'Z', 10: 'X', 11: 'X', 15: 'Y', 19: 'Y'}, (-0.5+0j)), ({7: 'Z', 9: 'Z', 10: 'Y', 11: 'X', 15: 'Y', 17: 'Z', 18: 'Z', 19: 'X'}, (0.5+0j)), ({7: 'Z', 11: 'Z', 13: 'Z', 14: 'X', 15: 'Z'}, (0.5+0j)), ({7: 'Z', 11: 'Z', 13: 'Z', 14: 'Z', 15: 'Y', 16: 'Y', 17: 'X', 19: 'X'}, (-0.5+0j)), ({7: 'Z', 11: 'Z', 13: 'Z', 14: 'Z', 15: 'Z'}, (-3+0j)), ({8: 'X'}, (-0.5+0j)), ({8: 'X', 9: 'Z'}, (0.5+0j)), ({8: 'Z'}, (-3+0j)), ({8: 'Z', 9: 'Z'}, (-3+0j)), ({8: 'Z', 9: 'Z', 17: 'Z', 18: 'Z', 19: 'Z'}, (3+0j)), ({8: 'Z', 18: 'Z'}, (3+0j)), ({9: 'Z', 10: 'X', 11: 'Z'}, (0.5+0j)), ({9: 'Z', 10: 'Z', 11: 'Y', 12: 'Y', 13: 'X'}, (-0.5+0j)), ({9: 'Z', 10: 'Z', 11: 'Z'}, (-3+0j)), ({10: 'X'}, (-0.5+0j)), ({10: 'Z'}, (-3+0j)), ({11: 'X', 12: 'X', 13: 'X'}, (-0.5+0j)), ({12: 'X'}, (-0.5+0j)), ({12: 'X', 13: 'Z'}, (0.5+0j)), ({12: 'Z'}, (-3+0j)), ({12: 'Z', 13: 'Y', 14: 'Y'}, (-0.5+0j)), ({12: 'Z', 13: 'Z'}, (-3+0j)), ({13: 'X', 14: 'X'}, (-0.5+0j)), ({14: 'X'}, (-0.5+0j)), ({14: 'Z'}, (-3+0j)), ({15: 'X', 16: 'X', 17: 'X', 19: 'X'}, (-0.5+0j)), ({16: 'X'}, (-0.5+0j)), ({16: 'X', 17: 'Z'}, (0.5+0j)), ({16: 'Z'}, (-3+0j)), ({16: 'Z', 17: 'Y', 18: 'Y'}, (-0.5+0j)), ({16: 'Z', 17: 'Z'}, (-3+0j)), ({17: 'X', 18: 'X'}, (-0.5+0j)), ({17: 'Z', 18: 'X', 19: 'Z'}, (0.5+0j)), ({17: 'Z', 18: 'Z', 19: 'Z'}, (-3+0j)), ({18: 'X'}, (-0.5+0j)), ({18: 'Z'}, (-3+0j))]\n",
      "\n"
     ]
    }
   ],
   "source": [
    "# Specify the desired Hamiltonian from HamLib \n",
    "# Set the hamiltonian_name: 'TFIM', 'Fermi-Hubbard-1D', 'Bose-Hubbard-1D', 'Heisenberg' or 'Max3Sat'\n",
    "\n",
    "hamiltonian_name = 'Fermi-Hubbard-1D'\n",
    "\n",
    "print(f\"... Hamiltonian name = {hamiltonian_name}\")\n",
    "\n",
    "########### HamLib Hamiltonians\n",
    "\n",
    "if hamiltonian_name == 'TFIM':\n",
    "    hamiltonian_params = { \"1D-grid\": \"pbc\", \"h\": 2 }\n",
    "\n",
    "if hamiltonian_name == 'Heisenberg':\n",
    "    hamiltonian_params = { \"1D-grid\": \"pbc\", \"h\": 2 }\n",
    "    \n",
    "if hamiltonian_name == 'Fermi-Hubbard-1D':\n",
    "    hamiltonian_params = { \"1D-grid\": \"pbc\", \"enc\": \"bk\", \"U\":12 }\n",
    "\n",
    "if hamiltonian_name == 'Bose-Hubbard-1D':\n",
    "    hamiltonian_params = { \"1D-grid\": \"nonpbc\", \"enc\": \"gray\", \"U\":10 }\n",
    "\n",
    "if hamiltonian_name == 'Max3Sat':\n",
    "    hamiltonian_params = { \"ratio\": \"2\", \"rinst\": \"02\" }\n",
    "\n",
    "if hamiltonian_name == 'chemistry/electronic/standard/H2':\n",
    "    hamiltonian_params = { \"ham_BK\": '' }\n",
    "\n",
    "# load the HamLib file for the given hamiltonian name\n",
    "hamlib_utils.load_hamlib_file(filename=hamiltonian_name)\n",
    "\n",
    "# return a sparse Pauli list of terms queried from the open HamLib file\n",
    "sparse_pauli_terms, dataset_name = hamlib_utils.get_hamlib_sparsepaulilist(num_qubits=num_qubits, params=hamiltonian_params)\n",
    "print(f\"... dataset_name = {dataset_name}\")\n",
    "print(f\"... sparse_pauli_terms = \\n{sparse_pauli_terms}\")\n",
    "\n",
    "print(\"\")\n"
   ]
  },
  {
   "cell_type": "markdown",
   "id": "d405a810-09a4-4397-80d6-2b1b2c7126b9",
   "metadata": {},
   "source": [
    "### Group the Pauli Terms and Generate Merged Terms\n",
    "Here, we optimize the grouping of the Pauli terms, both for creating the base circuit with evolution terms and for generating the measurement circuits."
   ]
  },
  {
   "cell_type": "code",
   "execution_count": 5,
   "id": "f7670614-3f1b-43ed-9873-d1f3f10c1cbc",
   "metadata": {},
   "outputs": [
    {
     "name": "stdout",
     "output_type": "stream",
     "text": [
      "... using group method: N\n",
      "\n",
      "... Number of groups created: 10\n",
      "... Pauli Term Groups:\n",
      "[('IIIIIIIIIIIIIIIIIIII', (30+0j)), ('ZIIIIIIIIIIIIIIIIIII', (-3+0j)), ('ZZIIIIIIIIIIIIIIIIII', (-3+0j)), ('ZZIIIIIIIZZZIIIIIIII', (3+0j)), ('ZIIIIIIIIIZIIIIIIIII', (3+0j)), ('IZZZIIIIIIIIIIIIIIII', (-3+0j)), ('IZZZIIIIIIIIZZIIIIII', (3+0j)), ('IIZIIIIIIIIIIIIIIIII', (-3+0j)), ('IIZIIIIIIIIIZIIIIIII', (3+0j)), ('IIIZIZZZIIIIIIIIIIII', (-3+0j)), ('IIIZIZZZIIIIIIIIZZII', (3+0j)), ('IIIIZIIIIIIIIIIIIIII', (-3+0j)), ('IIIIZZIIIIIIIIIIIIII', (-3+0j)), ('IIIIZZIZIIIZIZZZIIII', (3+0j)), ('IIIIZIIIIIIIIIZIIIII', (3+0j)), ('IIIIIIZIIIIIIIIIIIII', (-3+0j)), ('IIIIIIZIIIIIIIIIZIII', (3+0j)), ('IIIIIIIZIIIZIZZZIIII', (-3+0j)), ('IIIIIIIIZIIIIIIIIIII', (-3+0j)), ('IIIIIIIIZZIIIIIIIIII', (-3+0j)), ('IIIIIIIIZZIIIIIIIZZZ', (3+0j)), ('IIIIIIIIZIIIIIIIIIZI', (3+0j)), ('IIIIIIIIIZZZIIIIIIII', (-3+0j)), ('IIIIIIIIIIZIIIIIIIII', (-3+0j)), ('IIIIIIIIIIIIZIIIIIII', (-3+0j)), ('IIIIIIIIIIIIZZIIIIII', (-3+0j)), ('IIIIIIIIIIIIIIZIIIII', (-3+0j)), ('IIIIIIIIIIIIIIIIZIII', (-3+0j)), ('IIIIIIIIIIIIIIIIZZII', (-3+0j)), ('IIIIIIIIIIIIIIIIIZZZ', (-3+0j)), ('IIIIIIIIIIIIIIIIIIZI', (-3+0j))]\n",
      "[('XIIIIIIIIIIIIIIIIIII', (-0.5+0j)), ('XXIXIIIYIYIXIIIIIIII', (-0.5+0j)), ('IXXIIIIIIIIIIIIIIIII', (-0.5+0j)), ('IIXIIIIIIIIIIIIIIIII', (-0.5+0j)), ('IIIXXXIIIIIIIIIIIIII', (-0.5+0j)), ('IIIIXIIIIIIIIIIIIIII', (-0.5+0j)), ('IIIIIXXIIIIIIIIIIIII', (-0.5+0j)), ('IIIIIIXIIIIIIIIIIIII', (-0.5+0j)), ('IIIIIIIIXIIIIIIIIIII', (-0.5+0j)), ('IIIIIIIIIIXIIIIIIIII', (-0.5+0j)), ('IIIIIIIIIIIXXXIIIIII', (-0.5+0j)), ('IIIIIIIIIIIIXIIIIIII', (-0.5+0j)), ('IIIIIIIIIIIIIXXIIIII', (-0.5+0j)), ('IIIIIIIIIIIIIIXIIIII', (-0.5+0j)), ('IIIIIIIIIIIIIIIXXXIX', (-0.5+0j)), ('IIIIIIIIIIIIIIIIXIII', (-0.5+0j)), ('IIIIIIIIIIIIIIIIIXXI', (-0.5+0j)), ('IIIIIIIIIIIIIIIIIIXI', (-0.5+0j))]\n",
      "[('XZIIIIIIIIIIIIIIIIII', (0.5+0j)), ('IZXZIIIIIIIIIIIIIIII', (0.5+0j)), ('IIIZIZXZIIIIIIIIIIII', (0.5+0j)), ('IIIIXZIIIIIIIIIIIIII', (0.5+0j)), ('IIIIIIIZIZXXIIIYIIIY', (-0.5+0j)), ('IIIIIIIIXZIIIIIIIIII', (0.5+0j)), ('IIIIIIIIIIIIXZIIIIII', (0.5+0j)), ('IIIIIIIIIIIIIIIIXZII', (0.5+0j))]\n",
      "[('YXIXIIIYZXIXIIIIIIII', (0.5+0j)), ('IIIIZYYIIIIIIIIIIIII', (-0.5+0j)), ('IIIIIIIIIIIIZYYIIIII', (-0.5+0j)), ('IIIIIIIIIIIIIIIIZYYI', (-0.5+0j))]\n",
      "[('ZYYIIIIIIIIIIIIIIIII', (-0.5+0j)), ('IIIZIZZYYXIXIIIIIIII', (-0.5+0j)), ('IIIIIIIIIIIIIIIIIZXZ', (0.5+0j))]\n",
      "[('IZZYYXIIIIIIIIIIIIII', (-0.5+0j)), ('IIIIIIIXXXIXIIIIIIII', (-0.5+0j))]\n",
      "[('IIIIIIIZIZYXIIIYIZZX', (0.5+0j))]\n",
      "[('IIIIIIIZIIIZIZXZIIII', (0.5+0j)), ('IIIIIIIIIZXZIIIIIIII', (0.5+0j))]\n",
      "[('IIIIIIIZIIIZIZZYYXIX', (-0.5+0j))]\n",
      "[('IIIIIIIIIZZYYXIIIIII', (-0.5+0j))]\n",
      "\n",
      "... finished grouping terms, total grouping time = 0.41 sec.\n",
      "\n",
      "\n",
      "... Merged Pauli strings, one per group:\n",
      "  ['ZZZZZZZZZZZZZZZZZZZZ', 'XXXXXXXYXYXXXXXXXXXX', 'XZXZXZXZXZXXXZIYXZIY', 'YXIXZYYYZXIXZYYIZYYI', 'ZYYZIZZYYXIXIIIIIZXZ', 'IZZYYXIXXXIXIIIIIIII', 'IIIIIIIZIZYXIIIYIZZX', 'IIIIIIIZIZXZIZXZIIII', 'IIIIIIIZIIIZIZZYYXIX', 'IIIIIIIIIZZYYXIIIIII']\n",
      "\n"
     ]
    }
   ],
   "source": [
    "# arrange Hamiltonian terms into groups as specified by group method\n",
    "# ... can be None, \"simple\", \"1\", \"2\", or \"N\" where N is < num_qubits\n",
    "group_method = \"simple\"\n",
    "group_method = \"N\"\n",
    "\n",
    "print(f\"... using group method: {group_method}\")\n",
    "\n",
    "ts = time.time()\n",
    "\n",
    "# use no grouping or the most basic method \"simple\"\n",
    "if group_method == None or group_method == \"simple\":\n",
    "\n",
    "    # Flag to control optimize by use of commuting groups\n",
    "    use_commuting_groups = False\n",
    "    if group_method == \"simple\":\n",
    "        use_commuting_groups = True\n",
    "\n",
    "    # group Pauli terms for quantum execution, optionally combining commuting terms into groups.\n",
    "    pauli_term_groups, pauli_str_list = observables.group_pauli_terms_for_execution(\n",
    "            num_qubits, sparse_pauli_terms, use_commuting_groups)\n",
    "\n",
    "# use k-commuting algorithm\n",
    "else:\n",
    "    from generate_pauli_groups import compute_groups\n",
    "    pauli_term_groups = compute_groups(num_qubits, sparse_pauli_terms, 1)\n",
    "\n",
    "print(f\"\\n... Number of groups created: {len(pauli_term_groups)}\")\n",
    "print(f\"... Pauli Term Groups:\")\n",
    "for group in pauli_term_groups:\n",
    "    print(group)\n",
    "\n",
    "group_time = round(time.time()-ts, 3)\n",
    "print(f\"\\n... finished grouping terms, total grouping time = {group_time} sec.\\n\")\n",
    "\n",
    "# for each group, create a merged pauli string from all the terms in the group\n",
    "# DEVNOTE: move these 4 lines to a function in observables\n",
    "pauli_str_list = []\n",
    "for group in pauli_term_groups:\n",
    "    merged_pauli_str = observables.merge_pauli_terms(group, num_qubits)\n",
    "    pauli_str_list.append(merged_pauli_str)\n",
    "\n",
    "print(f\"\\n... Merged Pauli strings, one per group:\\n  {pauli_str_list}\\n\")\n"
   ]
  },
  {
   "cell_type": "markdown",
   "id": "5848a55b-830f-440e-a57a-1b08b0711881",
   "metadata": {},
   "source": [
    "### Create a Hamiltonian Simulation Circuit\n",
    "Initialize the circuit to a known initial state, append 'K' Trotter steps for total time 't', followed by basis rotation gates.\n",
    "\n",
    "Optionally, create the base circuit using grouped terms (TBD)."
   ]
  },
  {
   "cell_type": "code",
   "execution_count": 6,
   "id": "8ec99e2e-2e87-4555-85a1-d2aeedf0e604",
   "metadata": {
    "scrolled": true
   },
   "outputs": [
    {
     "name": "stdout",
     "output_type": "stream",
     "text": [
      "\n",
      "... finished creating base circuit, total creation time = 0.037 sec.\n",
      "\n",
      "... Trotterized Circuit, K=1, t=0.1\n",
      "  ... circuit is too large to draw.\n",
      "\n"
     ]
    }
   ],
   "source": [
    "# create Trotterized evolution circuit for HamLib Hamiltonian\n",
    "ts = time.time()\n",
    "qc, _ = hamlib_simulation_kernel.HamiltonianSimulation(\n",
    "    num_qubits=num_qubits, \n",
    "    ham_op=sparse_pauli_terms,\n",
    "    K=K, t=t,\n",
    "    init_state = init_state,\n",
    "    append_measurements = False,\n",
    "    method = 1, \n",
    ")\n",
    "\n",
    "create_time = round(time.time()-ts, 3)\n",
    "print(f\"\\n... finished creating base circuit, total creation time = {create_time} sec.\\n\")\n",
    "\n",
    "print(f\"... Trotterized Circuit, K={K}, t={t}\")\n",
    "if num_qubits < 11:\n",
    "    if hamiltonian_name != '':\n",
    "        hamlib_simulation_kernel.kernel_draw(qc, method=1)\n",
    "    else:\n",
    "        print(qc)\n",
    "else:\n",
    "    print(\"  ... circuit is too large to draw.\")\n",
    "\n",
    "print(\"\")\n"
   ]
  },
  {
   "cell_type": "markdown",
   "id": "022a5fcb-ec05-4535-8aec-5e3c214caae4",
   "metadata": {},
   "source": [
    "### Create Measurement Circuits from Base Circuit and Pauli Terms\n",
    "Here, we append basis rotation gates for each Pauli Term group to the base evolution circuit to create an array of circuits for execution."
   ]
  },
  {
   "cell_type": "code",
   "execution_count": 7,
   "id": "29ea3650-4831-41d9-83e4-1d7cd69f74eb",
   "metadata": {},
   "outputs": [
    {
     "name": "stdout",
     "output_type": "stream",
     "text": [
      "... Appended 10 circuits, one for each group:\n",
      "[('IIIIIIIIIIIIIIIIIIII', (30+0j)), ('ZIIIIIIIIIIIIIIIIIII', (-3+0j)), ('ZZIIIIIIIIIIIIIIIIII', (-3+0j)), ('ZZIIIIIIIZZZIIIIIIII', (3+0j)), ('ZIIIIIIIIIZIIIIIIIII', (3+0j)), ('IZZZIIIIIIIIIIIIIIII', (-3+0j)), ('IZZZIIIIIIIIZZIIIIII', (3+0j)), ('IIZIIIIIIIIIIIIIIIII', (-3+0j)), ('IIZIIIIIIIIIZIIIIIII', (3+0j)), ('IIIZIZZZIIIIIIIIIIII', (-3+0j)), ('IIIZIZZZIIIIIIIIZZII', (3+0j)), ('IIIIZIIIIIIIIIIIIIII', (-3+0j)), ('IIIIZZIIIIIIIIIIIIII', (-3+0j)), ('IIIIZZIZIIIZIZZZIIII', (3+0j)), ('IIIIZIIIIIIIIIZIIIII', (3+0j)), ('IIIIIIZIIIIIIIIIIIII', (-3+0j)), ('IIIIIIZIIIIIIIIIZIII', (3+0j)), ('IIIIIIIZIIIZIZZZIIII', (-3+0j)), ('IIIIIIIIZIIIIIIIIIII', (-3+0j)), ('IIIIIIIIZZIIIIIIIIII', (-3+0j)), ('IIIIIIIIZZIIIIIIIZZZ', (3+0j)), ('IIIIIIIIZIIIIIIIIIZI', (3+0j)), ('IIIIIIIIIZZZIIIIIIII', (-3+0j)), ('IIIIIIIIIIZIIIIIIIII', (-3+0j)), ('IIIIIIIIIIIIZIIIIIII', (-3+0j)), ('IIIIIIIIIIIIZZIIIIII', (-3+0j)), ('IIIIIIIIIIIIIIZIIIII', (-3+0j)), ('IIIIIIIIIIIIIIIIZIII', (-3+0j)), ('IIIIIIIIIIIIIIIIZZII', (-3+0j)), ('IIIIIIIIIIIIIIIIIZZZ', (-3+0j)), ('IIIIIIIIIIIIIIIIIIZI', (-3+0j))]\n",
      "[('XIIIIIIIIIIIIIIIIIII', (-0.5+0j)), ('XXIXIIIYIYIXIIIIIIII', (-0.5+0j)), ('IXXIIIIIIIIIIIIIIIII', (-0.5+0j)), ('IIXIIIIIIIIIIIIIIIII', (-0.5+0j)), ('IIIXXXIIIIIIIIIIIIII', (-0.5+0j)), ('IIIIXIIIIIIIIIIIIIII', (-0.5+0j)), ('IIIIIXXIIIIIIIIIIIII', (-0.5+0j)), ('IIIIIIXIIIIIIIIIIIII', (-0.5+0j)), ('IIIIIIIIXIIIIIIIIIII', (-0.5+0j)), ('IIIIIIIIIIXIIIIIIIII', (-0.5+0j)), ('IIIIIIIIIIIXXXIIIIII', (-0.5+0j)), ('IIIIIIIIIIIIXIIIIIII', (-0.5+0j)), ('IIIIIIIIIIIIIXXIIIII', (-0.5+0j)), ('IIIIIIIIIIIIIIXIIIII', (-0.5+0j)), ('IIIIIIIIIIIIIIIXXXIX', (-0.5+0j)), ('IIIIIIIIIIIIIIIIXIII', (-0.5+0j)), ('IIIIIIIIIIIIIIIIIXXI', (-0.5+0j)), ('IIIIIIIIIIIIIIIIIIXI', (-0.5+0j))]\n",
      "[('XZIIIIIIIIIIIIIIIIII', (0.5+0j)), ('IZXZIIIIIIIIIIIIIIII', (0.5+0j)), ('IIIZIZXZIIIIIIIIIIII', (0.5+0j)), ('IIIIXZIIIIIIIIIIIIII', (0.5+0j)), ('IIIIIIIZIZXXIIIYIIIY', (-0.5+0j)), ('IIIIIIIIXZIIIIIIIIII', (0.5+0j)), ('IIIIIIIIIIIIXZIIIIII', (0.5+0j)), ('IIIIIIIIIIIIIIIIXZII', (0.5+0j))]\n",
      "[('YXIXIIIYZXIXIIIIIIII', (0.5+0j)), ('IIIIZYYIIIIIIIIIIIII', (-0.5+0j)), ('IIIIIIIIIIIIZYYIIIII', (-0.5+0j)), ('IIIIIIIIIIIIIIIIZYYI', (-0.5+0j))]\n",
      "[('ZYYIIIIIIIIIIIIIIIII', (-0.5+0j)), ('IIIZIZZYYXIXIIIIIIII', (-0.5+0j)), ('IIIIIIIIIIIIIIIIIZXZ', (0.5+0j))]\n",
      "[('IZZYYXIIIIIIIIIIIIII', (-0.5+0j)), ('IIIIIIIXXXIXIIIIIIII', (-0.5+0j))]\n",
      "[('IIIIIIIZIZYXIIIYIZZX', (0.5+0j))]\n",
      "[('IIIIIIIZIIIZIZXZIIII', (0.5+0j)), ('IIIIIIIIIZXZIIIIIIII', (0.5+0j))]\n",
      "[('IIIIIIIZIIIZIZZYYXIX', (-0.5+0j))]\n",
      "[('IIIIIIIIIZZYYXIIIIII', (-0.5+0j))]\n",
      "\n",
      "... finished appending 10 measurement circuits, total creating time = 0.004 sec.\n",
      "\n"
     ]
    }
   ],
   "source": [
    "# generate an array of circuits, one for each pauli_string in list\n",
    "ts = time.time()\n",
    "circuits = hamlib_simulation_kernel.create_circuits_for_pauli_terms(qc, num_qubits, pauli_str_list)\n",
    "\n",
    "print(f\"... Appended {len(circuits)} circuits, one for each group:\")               \n",
    "for circuit, group in list(zip(circuits, pauli_term_groups)):\n",
    "    print(group)\n",
    "    #print(circuit)\n",
    "\n",
    "append_time = round(time.time()-ts, 3)\n",
    "print(f\"\\n... finished appending {len(circuits)} measurement circuits, total creating time = {append_time} sec.\\n\")\n"
   ]
  },
  {
   "cell_type": "markdown",
   "id": "87483ec7-bbe5-4584-b4cf-b0cfe479c3cc",
   "metadata": {},
   "source": [
    "### Execute Circuits to Produce Measurement Distributions\n",
    "For now, we execute using the Aer simulator. This will be enhanced to use the QED-C execution module to enable execution on multiple programming APIs and backend systems. "
   ]
  },
  {
   "cell_type": "code",
   "execution_count": 8,
   "id": "40010c08-d005-4ca8-b1d4-cfe472329d1a",
   "metadata": {},
   "outputs": [
    {
     "name": "stdout",
     "output_type": "stream",
     "text": [
      "... begin executing 10 circuits ...\n",
      "... finished executing 10 circuits, total execution time = 0.41 sec.\n",
      "\n"
     ]
    }
   ],
   "source": [
    "# Initialize simulator backend\n",
    "from qiskit_aer import Aer\n",
    "backend = Aer.get_backend('qasm_simulator')\n",
    "\n",
    "print(f\"... begin executing {len(circuits)} circuits ...\")\n",
    "ts = time.time()\n",
    "\n",
    "# Execute all of the circuits to obtain array of result objects\n",
    "results = backend.run(circuits, num_shots=num_shots).result()\n",
    "\n",
    "exec_time = round(time.time()-ts, 3)\n",
    "print(f\"... finished executing {len(circuits)} circuits, total execution time = {exec_time} sec.\\n\")\n"
   ]
  },
  {
   "cell_type": "markdown",
   "id": "ab8113ad-fb73-4e25-886c-4d00f547adde",
   "metadata": {},
   "source": [
    "### Compute the Energy of the Evolved State from the Hamiltonian and the Measurement Distributions\n",
    "Here, we process the measurement results from circuit execution using the Hamiltonian terms to compute the expectation value of the energy observable.\n",
    "\n",
    "We also, retain the contributions from each terms so that we can use those in calcuating other observables from the same measurement results."
   ]
  },
  {
   "cell_type": "code",
   "execution_count": 9,
   "id": "7e9d7457-2481-4c34-96f0-4fdcc4ea4234",
   "metadata": {},
   "outputs": [
    {
     "name": "stdout",
     "output_type": "stream",
     "text": [
      "... begin computing observable value ...\n",
      "... finished computing observable value, computation time = 0.04 sec.\n",
      "\n",
      "    Total Energy: 11.8721\n",
      "\n",
      "    Term Contributions: {'IIIIIIIIIIIIIIIIIIII': 1.0, 'ZIIIIIIIIIIIIIIIIIII': 0.966796875, 'ZZIIIIIIIIIIIIIIIIII': -0.974609375, 'ZZIIIIIIIZZZIIIIIIII': -0.96875, 'ZIIIIIIIIIZIIIIIIIII': 0.966796875, 'IZZZIIIIIIIIIIIIIIII': 0.982421875, 'IZZZIIIIIIIIZZIIIIII': -0.9453125, 'IIZIIIIIIIIIIIIIIIII': 0.974609375, 'IIZIIIIIIIIIZIIIIIII': 0.9453125, 'IIIZIZZZIIIIIIIIIIII': -0.96875, 'IIIZIZZZIIIIIIIIZZII': 0.93359375, 'IIIIZIIIIIIIIIIIIIII': 0.9765625, 'IIIIZZIIIIIIIIIIIIII': -0.9609375, 'IIIIZZIZIIIZIZZZIIII': -0.958984375, 'IIIIZIIIIIIIIIZIIIII': 0.962890625, 'IIIIIIZIIIIIIIIIIIII': 0.96484375, 'IIIIIIZIIIIIIIIIZIII': 0.943359375, 'IIIIIIIZIIIZIZZZIIII': 0.998046875, 'IIIIIIIIZIIIIIIIIIII': 0.958984375, 'IIIIIIIIZZIIIIIIIIII': -0.955078125, 'IIIIIIIIZZIIIIIIIZZZ': -0.953125, 'IIIIIIIIZIIIIIIIIIZI': 0.94140625, 'IIIIIIIIIZZZIIIIIIII': 0.994140625, 'IIIIIIIIIIZIIIIIIIII': 1.0, 'IIIIIIIIIIIIZIIIIIII': 0.966796875, 'IIIIIIIIIIIIZZIIIIII': -0.955078125, 'IIIIIIIIIIIIIIZIIIII': 0.982421875, 'IIIIIIIIIIIIIIIIZIII': 0.978515625, 'IIIIIIIIIIIIIIIIZZII': -0.96484375, 'IIIIIIIIIIIIIIIIIZZZ': 0.998046875, 'IIIIIIIIIIIIIIIIIIZI': 0.982421875, 'XIIIIIIIIIIIIIIIIIII': -0.009765625, 'XXIXIIIYIYIXIIIIIIII': 0.01953125, 'IXXIIIIIIIIIIIIIIIII': -0.001953125, 'IIXIIIIIIIIIIIIIIIII': -0.119140625, 'IIIXXXIIIIIIIIIIIIII': -0.0859375, 'IIIIXIIIIIIIIIIIIIII': 0.015625, 'IIIIIXXIIIIIIIIIIIII': -0.095703125, 'IIIIIIXIIIIIIIIIIIII': -0.08984375, 'IIIIIIIIXIIIIIIIIIII': 0.01171875, 'IIIIIIIIIIXIIIIIIIII': -0.078125, 'IIIIIIIIIIIXXXIIIIII': -0.01953125, 'IIIIIIIIIIIIXIIIIIII': 0.02734375, 'IIIIIIIIIIIIIXXIIIII': 0.109375, 'IIIIIIIIIIIIIIXIIIII': -0.046875, 'IIIIIIIIIIIIIIIXXXIX': -0.029296875, 'IIIIIIIIIIIIIIIIXIII': -0.033203125, 'IIIIIIIIIIIIIIIIIXXI': 0.080078125, 'IIIIIIIIIIIIIIIIIIXI': -0.044921875, 'XZIIIIIIIIIIIIIIIIII': -0.025390625, 'IZXZIIIIIIIIIIIIIIII': -0.142578125, 'IIIZIZXZIIIIIIIIIIII': 0.095703125, 'IIIIXZIIIIIIIIIIIIII': 0.01171875, 'IIIIIIIZIZXXIIIYIIIY': -0.033203125, 'IIIIIIIIXZIIIIIIIIII': -0.03515625, 'IIIIIIIIIIIIXZIIIIII': 0.013671875, 'IIIIIIIIIIIIIIIIXZII': 0.0, 'YXIXIIIYZXIXIIIIIIII': 0.009765625, 'IIIIZYYIIIIIIIIIIIII': -0.005859375, 'IIIIIIIIIIIIZYYIIIII': 0.0390625, 'IIIIIIIIIIIIIIIIZYYI': 0.1171875, 'ZYYIIIIIIIIIIIIIIIII': -0.0625, 'IIIZIZZYYXIXIIIIIIII': -0.099609375, 'IIIIIIIIIIIIIIIIIZXZ': -0.025390625, 'IZZYYXIIIIIIIIIIIIII': 0.123046875, 'IIIIIIIXXXIXIIIIIIII': -0.072265625, 'IIIIIIIZIZYXIIIYIZZX': -0.029296875, 'IIIIIIIZIIIZIZXZIIII': 0.017578125, 'IIIIIIIIIZXZIIIIIIII': -0.068359375, 'IIIIIIIZIIIZIZZYYXIX': -0.00390625, 'IIIIIIIIIZZYYXIIIIII': -0.001953125}\n",
      "\n",
      "\n",
      "... total observable computation time = 0.901 sec.\n",
      "\n"
     ]
    }
   ],
   "source": [
    "# Compute the total energy for the Hamiltonian\n",
    "\n",
    "print(f\"... begin computing observable value ...\")\n",
    "ts = time.time()\n",
    "\n",
    "total_energy, term_contributions = observables.calculate_expectation_from_measurements(\n",
    "                                            num_qubits, results, pauli_term_groups)\n",
    "obs_time = round(time.time()-ts, 3)\n",
    "print(f\"... finished computing observable value, computation time = {obs_time} sec.\\n\")\n",
    "\n",
    "print(f\"    Total Energy: {round(np.real(total_energy), 4)}\\n\")\n",
    "print(f\"    Term Contributions: {term_contributions}\\n\")\n",
    "\n",
    "total_time = group_time + create_time + append_time + exec_time + obs_time\n",
    "total_time = round(total_time, 3)\n",
    "print(f\"\\n... total observable computation time = {total_time} sec.\\n\")\n"
   ]
  },
  {
   "cell_type": "markdown",
   "id": "9dba04a4-2e59-4f42-80f9-be6ec8897391",
   "metadata": {},
   "source": [
    "### Compute Energy of the Evolved State Classically and Compare to Quantum Result\n",
    "Here, we use a classical computation to determine the exact expectation value and produce a quality score for the quantum computation."
   ]
  },
  {
   "cell_type": "code",
   "execution_count": 10,
   "id": "b8a6d1bf-f8f2-431e-b006-b8fb5d2c3216",
   "metadata": {},
   "outputs": [
    {
     "name": "stdout",
     "output_type": "stream",
     "text": [
      "... begin classical computation of expectation value ...\n",
      "... exact computation time = 0.0 sec\n",
      "\n",
      "Exact expectation value, computed classically: 0.001\n",
      "Estimated expectation value, computed using quantum algorithm: 11.8721\n",
      "\n",
      "    ==> Simulation Quality: 11872.07\n",
      "\n"
     ]
    }
   ],
   "source": [
    "print(f\"... begin classical computation of expectation value ...\")\n",
    "                    \n",
    "ts = time.time()\n",
    "\n",
    "if num_qubits <= 16:\n",
    "    correct_exp, correct_dist = evolution_exact.compute_expectation_exact(\n",
    "            init_state,\n",
    "            observables.ensure_pauli_terms(sparse_pauli_terms, num_qubits),\n",
    "            1.0            # time\n",
    "            )\n",
    "else:\n",
    "    correct_exp = 0.001\n",
    "    correct_dist = None\n",
    "    \n",
    "exact_time = round(time.time()-ts, 3)\n",
    "print(f\"... exact computation time = {exact_time} sec\")\n",
    "\n",
    "print(f\"\\nExact expectation value, computed classically: {round(np.real(correct_exp), 4)}\")\n",
    "print(f\"Estimated expectation value, computed using quantum algorithm: {round(np.real(total_energy), 4)}\\n\")\n",
    "\n",
    "simulation_quality = round(np.real(total_energy) / np.real(correct_exp), 3)\n",
    "print(f\"    ==> Simulation Quality: {np.real(simulation_quality)}\\n\")\n",
    "\n"
   ]
  },
  {
   "cell_type": "markdown",
   "id": "1ce460a7-27b2-4865-9e15-e96355f387a2",
   "metadata": {},
   "source": [
    "### Compute Expectation with Estimator\n",
    "Here, we do a sanity check on the above processes by comparing with energy obtained using the Qiskit Estimator."
   ]
  },
  {
   "cell_type": "code",
   "execution_count": 11,
   "id": "a9a0990c-2b2f-42e6-ac72-8c4fa3c47c1f",
   "metadata": {},
   "outputs": [
    {
     "name": "stdout",
     "output_type": "stream",
     "text": [
      "... Estimator computation time = 7.157 sec\n",
      "Expectation value, computed using Qiskit Estimator: 11.8263\n",
      "\n"
     ]
    }
   ],
   "source": [
    "# Call the Qiskit Estimator using the function wrapper in 'observables' module.\n",
    "\n",
    "# DEVNOTE: We may want to surface the actual Estimator call instead. \n",
    "\n",
    "# Ensure that the pauli_terms are in 'full' format, not 'sparse' - convert if necessary\n",
    "pauli_terms = observables.ensure_pauli_terms(sparse_pauli_terms, num_qubits=num_qubits)\n",
    "pauli_terms = observables.swap_pauli_list(pauli_terms)\n",
    "\n",
    "ts = time.time()\n",
    "\n",
    "estimator_energy = observables.estimate_expectation_with_estimator(backend, qc, pauli_terms, num_shots=num_shots)\n",
    "\n",
    "estimator_time = round(time.time()-ts, 3)\n",
    "print(f\"... Estimator computation time = {estimator_time} sec\")\n",
    "\n",
    "print(f\"Expectation value, computed using Qiskit Estimator: {round(np.real(estimator_energy), 4)}\\n\")\n"
   ]
  },
  {
   "cell_type": "markdown",
   "id": "bf88fc0a-98f4-4278-aa55-3205bba345fa",
   "metadata": {},
   "source": [
    "### Compute expectation value of other observables.\n",
    "WORK-IN-PROGRESS: This code attempts to derive spin correlation and magenetization Hamiltonians from the Hamiltonian under test.\n",
    "We do not currently check whether the terms actually make sense.  We also do not consider other observable types at this point."
   ]
  },
  {
   "cell_type": "code",
   "execution_count": 12,
   "id": "6c24ca2a-522f-4902-b488-6393bc61cfd8",
   "metadata": {},
   "outputs": [
    {
     "name": "stdout",
     "output_type": "stream",
     "text": [
      "Hamiltonian under test:\n",
      "[[('IIIIIIIIIIIIIIIIIIII', (30+0j)), ('ZIIIIIIIIIIIIIIIIIII', (-3+0j)), ('ZZIIIIIIIIIIIIIIIIII', (-3+0j)), ('ZZIIIIIIIZZZIIIIIIII', (3+0j)), ('ZIIIIIIIIIZIIIIIIIII', (3+0j)), ('IZZZIIIIIIIIIIIIIIII', (-3+0j)), ('IZZZIIIIIIIIZZIIIIII', (3+0j)), ('IIZIIIIIIIIIIIIIIIII', (-3+0j)), ('IIZIIIIIIIIIZIIIIIII', (3+0j)), ('IIIZIZZZIIIIIIIIIIII', (-3+0j)), ('IIIZIZZZIIIIIIIIZZII', (3+0j)), ('IIIIZIIIIIIIIIIIIIII', (-3+0j)), ('IIIIZZIIIIIIIIIIIIII', (-3+0j)), ('IIIIZZIZIIIZIZZZIIII', (3+0j)), ('IIIIZIIIIIIIIIZIIIII', (3+0j)), ('IIIIIIZIIIIIIIIIIIII', (-3+0j)), ('IIIIIIZIIIIIIIIIZIII', (3+0j)), ('IIIIIIIZIIIZIZZZIIII', (-3+0j)), ('IIIIIIIIZIIIIIIIIIII', (-3+0j)), ('IIIIIIIIZZIIIIIIIIII', (-3+0j)), ('IIIIIIIIZZIIIIIIIZZZ', (3+0j)), ('IIIIIIIIZIIIIIIIIIZI', (3+0j)), ('IIIIIIIIIZZZIIIIIIII', (-3+0j)), ('IIIIIIIIIIZIIIIIIIII', (-3+0j)), ('IIIIIIIIIIIIZIIIIIII', (-3+0j)), ('IIIIIIIIIIIIZZIIIIII', (-3+0j)), ('IIIIIIIIIIIIIIZIIIII', (-3+0j)), ('IIIIIIIIIIIIIIIIZIII', (-3+0j)), ('IIIIIIIIIIIIIIIIZZII', (-3+0j)), ('IIIIIIIIIIIIIIIIIZZZ', (-3+0j)), ('IIIIIIIIIIIIIIIIIIZI', (-3+0j))], [('XIIIIIIIIIIIIIIIIIII', (-0.5+0j)), ('XXIXIIIYIYIXIIIIIIII', (-0.5+0j)), ('IXXIIIIIIIIIIIIIIIII', (-0.5+0j)), ('IIXIIIIIIIIIIIIIIIII', (-0.5+0j)), ('IIIXXXIIIIIIIIIIIIII', (-0.5+0j)), ('IIIIXIIIIIIIIIIIIIII', (-0.5+0j)), ('IIIIIXXIIIIIIIIIIIII', (-0.5+0j)), ('IIIIIIXIIIIIIIIIIIII', (-0.5+0j)), ('IIIIIIIIXIIIIIIIIIII', (-0.5+0j)), ('IIIIIIIIIIXIIIIIIIII', (-0.5+0j)), ('IIIIIIIIIIIXXXIIIIII', (-0.5+0j)), ('IIIIIIIIIIIIXIIIIIII', (-0.5+0j)), ('IIIIIIIIIIIIIXXIIIII', (-0.5+0j)), ('IIIIIIIIIIIIIIXIIIII', (-0.5+0j)), ('IIIIIIIIIIIIIIIXXXIX', (-0.5+0j)), ('IIIIIIIIIIIIIIIIXIII', (-0.5+0j)), ('IIIIIIIIIIIIIIIIIXXI', (-0.5+0j)), ('IIIIIIIIIIIIIIIIIIXI', (-0.5+0j))], [('XZIIIIIIIIIIIIIIIIII', (0.5+0j)), ('IZXZIIIIIIIIIIIIIIII', (0.5+0j)), ('IIIZIZXZIIIIIIIIIIII', (0.5+0j)), ('IIIIXZIIIIIIIIIIIIII', (0.5+0j)), ('IIIIIIIZIZXXIIIYIIIY', (-0.5+0j)), ('IIIIIIIIXZIIIIIIIIII', (0.5+0j)), ('IIIIIIIIIIIIXZIIIIII', (0.5+0j)), ('IIIIIIIIIIIIIIIIXZII', (0.5+0j))], [('YXIXIIIYZXIXIIIIIIII', (0.5+0j)), ('IIIIZYYIIIIIIIIIIIII', (-0.5+0j)), ('IIIIIIIIIIIIZYYIIIII', (-0.5+0j)), ('IIIIIIIIIIIIIIIIZYYI', (-0.5+0j))], [('ZYYIIIIIIIIIIIIIIIII', (-0.5+0j)), ('IIIZIZZYYXIXIIIIIIII', (-0.5+0j)), ('IIIIIIIIIIIIIIIIIZXZ', (0.5+0j))], [('IZZYYXIIIIIIIIIIIIII', (-0.5+0j)), ('IIIIIIIXXXIXIIIIIIII', (-0.5+0j))], [('IIIIIIIZIZYXIIIYIZZX', (0.5+0j))], [('IIIIIIIZIIIZIZXZIIII', (0.5+0j)), ('IIIIIIIIIZXZIIIIIIII', (0.5+0j))], [('IIIIIIIZIIIZIZZYYXIX', (-0.5+0j))], [('IIIIIIIIIZZYYXIIIIII', (-0.5+0j))]]\n",
      "\n",
      "****\n",
      "... mean spin correlation terms:  [('IIIIIIIIIIIIIIIIIIZZ', (0.05263157894736842+0j)), ('IIIIIIIIIIIIIIIIIZZI', (0.05263157894736842+0j)), ('IIIIIIIIIIIIIIIIZZII', (0.05263157894736842+0j)), ('IIIIIIIIIIIIIIIZZIII', (0.05263157894736842+0j)), ('IIIIIIIIIIIIIIZZIIII', (0.05263157894736842+0j)), ('IIIIIIIIIIIIIZZIIIII', (0.05263157894736842+0j)), ('IIIIIIIIIIIIZZIIIIII', (0.05263157894736842+0j)), ('IIIIIIIIIIIZZIIIIIII', (0.05263157894736842+0j)), ('IIIIIIIIIIZZIIIIIIII', (0.05263157894736842+0j)), ('IIIIIIIIIZZIIIIIIIII', (0.05263157894736842+0j)), ('IIIIIIIIZZIIIIIIIIII', (0.05263157894736842+0j)), ('IIIIIIIZZIIIIIIIIIII', (0.05263157894736842+0j)), ('IIIIIIZZIIIIIIIIIIII', (0.05263157894736842+0j)), ('IIIIIZZIIIIIIIIIIIII', (0.05263157894736842+0j)), ('IIIIZZIIIIIIIIIIIIII', (0.05263157894736842+0j)), ('IIIZZIIIIIIIIIIIIIII', (0.05263157894736842+0j)), ('IIZZIIIIIIIIIIIIIIII', (0.05263157894736842+0j)), ('IZZIIIIIIIIIIIIIIIII', (0.05263157894736842+0j)), ('ZZIIIIIIIIIIIIIIIIII', (0.05263157894736842+0j))]\n",
      "****\n",
      "... magnetization terms:  [('IIIIIIIIIIIIIIIIIIIZ', (1+0j)), ('IIIIIIIIIIIIIIIIIIZI', (1+0j)), ('IIIIIIIIIIIIIIIIIZII', (1+0j)), ('IIIIIIIIIIIIIIIIZIII', (1+0j)), ('IIIIIIIIIIIIIIIZIIII', (1+0j)), ('IIIIIIIIIIIIIIZIIIII', (1+0j)), ('IIIIIIIIIIIIIZIIIIII', (1+0j)), ('IIIIIIIIIIIIZIIIIIII', (1+0j)), ('IIIIIIIIIIIZIIIIIIII', (1+0j)), ('IIIIIIIIIIZIIIIIIIII', (1+0j)), ('IIIIIIIIIZIIIIIIIIII', (1+0j)), ('IIIIIIIIZIIIIIIIIIII', (1+0j)), ('IIIIIIIZIIIIIIIIIIII', (1+0j)), ('IIIIIIZIIIIIIIIIIIII', (1+0j)), ('IIIIIZIIIIIIIIIIIIII', (1+0j)), ('IIIIZIIIIIIIIIIIIIII', (1+0j)), ('IIIZIIIIIIIIIIIIIIII', (1+0j)), ('IIZIIIIIIIIIIIIIIIII', (1+0j)), ('IZIIIIIIIIIIIIIIIIII', (1+0j)), ('ZIIIIIIIIIIIIIIIIIII', (1+0j))]\n",
      "\n",
      "WARN: term not found in term_contributions: IIIIIIIIIIIIIIIIIIZZ\n",
      "WARN: term not found in term_contributions: IIIIIIIIIIIIIIIIIZZI\n",
      "WARN: term not found in term_contributions: IIIIIIIIIIIIIIIZZIII\n",
      "WARN: term not found in term_contributions: IIIIIIIIIIIIIIZZIIII\n",
      "WARN: term not found in term_contributions: IIIIIIIIIIIIIZZIIIII\n",
      "WARN: term not found in term_contributions: IIIIIIIIIIIZZIIIIIII\n",
      "WARN: term not found in term_contributions: IIIIIIIIIIZZIIIIIIII\n",
      "WARN: term not found in term_contributions: IIIIIIIIIZZIIIIIIIII\n",
      "WARN: term not found in term_contributions: IIIIIIIZZIIIIIIIIIII\n",
      "WARN: term not found in term_contributions: IIIIIIZZIIIIIIIIIIII\n",
      "WARN: term not found in term_contributions: IIIIIZZIIIIIIIIIIIII\n",
      "WARN: term not found in term_contributions: IIIZZIIIIIIIIIIIIIII\n",
      "WARN: term not found in term_contributions: IIZZIIIIIIIIIIIIIIII\n",
      "WARN: term not found in term_contributions: IZZIIIIIIIIIIIIIIIII\n",
      "Spin Correlation: -0.253\n",
      "WARN: term not found in term_contributions: IIIIIIIIIIIIIIIIIIIZ\n",
      "WARN: term not found in term_contributions: IIIIIIIIIIIIIIIIIZII\n",
      "WARN: term not found in term_contributions: IIIIIIIIIIIIIIIZIIII\n",
      "WARN: term not found in term_contributions: IIIIIIIIIIIIIZIIIIII\n",
      "WARN: term not found in term_contributions: IIIIIIIIIIIZIIIIIIII\n",
      "WARN: term not found in term_contributions: IIIIIIIIIZIIIIIIIIII\n",
      "WARN: term not found in term_contributions: IIIIIIIZIIIIIIIIIIII\n",
      "WARN: term not found in term_contributions: IIIIIZIIIIIIIIIIIIII\n",
      "WARN: term not found in term_contributions: IIIZIIIIIIIIIIIIIIII\n",
      "WARN: term not found in term_contributions: IZIIIIIIIIIIIIIIIIII\n",
      "Magnetization: 9.752\n",
      "\n"
     ]
    }
   ],
   "source": [
    "\n",
    "print(f\"Hamiltonian under test:\")\n",
    "print(pauli_term_groups)\n",
    "print(\"\")\n",
    "\n",
    "################\n",
    "### DEVNOTE: We don't want to use SparsePauliOp if possible\n",
    "\n",
    "from qiskit.quantum_info import SparsePauliOp\n",
    "\n",
    "# need to check if the below terms are actually in the Hamiltonian\n",
    "\n",
    "L = num_qubits\n",
    "\n",
    "# this doesn't include the Z's at the ends of the chain; OK, if we assume an open chain\n",
    "print(\"****\")\n",
    "correlation_op = SparsePauliOp.from_sparse_list(\n",
    "    [(\"ZZ\", [i, i + 1], 1.0) for i in range(0, L - 1)],\n",
    "    num_qubits=L\n",
    ") / (L - 1)\n",
    "H_terms_spin_correlation = correlation_op.to_list()\n",
    "print(\"... mean spin correlation terms: \", H_terms_spin_correlation)\n",
    "\n",
    "print(\"****\")\n",
    "magnetization_op = SparsePauliOp.from_sparse_list(\n",
    "    #[(\"Z\", [i], 1.0) for i in range(0, 6)], num_qubits=6\n",
    "    [(\"Z\", [i], 1.0) for i in range(0, L)], num_qubits=L\n",
    ")\n",
    "H_terms_magnetization = magnetization_op.to_list()\n",
    "print(\"... magnetization terms: \", H_terms_magnetization)\n",
    "\n",
    "print(\"\")\n",
    "\n",
    "spin_correlation = observables.calculate_expectation_from_contributions(term_contributions, H_terms_spin_correlation)\n",
    "print(f\"Spin Correlation: {round(np.real(spin_correlation), 3)}\")\n",
    "\n",
    "magnetization = observables.calculate_expectation_from_contributions(term_contributions, H_terms_magnetization)\n",
    "print(f\"Magnetization: {round(np.real(magnetization), 3)}\")\n",
    "\n",
    "print(\"\")\n"
   ]
  },
  {
   "cell_type": "code",
   "execution_count": null,
   "id": "4f7de6f8-64cb-4266-9fc2-633d1d30c092",
   "metadata": {},
   "outputs": [],
   "source": []
  }
 ],
 "metadata": {
  "kernelspec": {
   "display_name": "Python 3 (ipykernel)",
   "language": "python",
   "name": "python3"
  },
  "language_info": {
   "codemirror_mode": {
    "name": "ipython",
    "version": 3
   },
   "file_extension": ".py",
   "mimetype": "text/x-python",
   "name": "python",
   "nbconvert_exporter": "python",
   "pygments_lexer": "ipython3",
   "version": "3.11.5"
  }
 },
 "nbformat": 4,
 "nbformat_minor": 5
}
