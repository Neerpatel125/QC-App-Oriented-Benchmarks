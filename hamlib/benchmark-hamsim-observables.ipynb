{
 "cells": [
  {
   "cell_type": "markdown",
   "id": "444c2c24-909a-4dd3-a80f-d4df84bebc3d",
   "metadata": {},
   "source": [
    "## Hamiltonian Simulation Observable Benchmark Tests - WIP\n",
    "\n",
    "This notebook is being used to flesh out the details of integrating the HamLib utility module, the HamLib kernel function, and the newly developed functions for generating groups of commuting terms.\n",
    "\n",
    "From any specific Hamiltonian, we create a base evolution circuit with 0 - N Trotter steps, initialize the circuit, and append the necessary basis rotations before measuring and computing the values of energy and other related observables.\n",
    "\n",
    "At a later point, the execution code and plotting code will also be integrated into the benchmark framework. For now, however, the focus is on developing the code necessary to evaluate the performance of observable execution using various optimization options.\n"
   ]
  },
  {
   "cell_type": "markdown",
   "id": "3d55c583-3ae7-4559-99cf-826d4702a7be",
   "metadata": {},
   "source": [
    "### Setup Dependencies and Initialize Modules\n",
    "\n",
    "This cell is used to pull in dependencies from standard libraries, the Hamlib helper functions, and the newly created observables module (in WIP).\n",
    "Initialize the modules so a re-run from the beginning is repeatable."
   ]
  },
  {
   "cell_type": "code",
   "execution_count": 1,
   "id": "67e7efbd-318c-44c2-ad58-8d4b03403e49",
   "metadata": {},
   "outputs": [],
   "source": [
    "import numpy as np\n",
    "from math import sin, cos, pi\n",
    "import time\n",
    "\n",
    "# Import Qiskit and Qiskit Pauli operator classes\n",
    "from qiskit.quantum_info import Pauli, SparsePauliOp\n",
    "from qiskit import QuantumCircuit\n",
    "\n",
    "# Initialize simulator backend\n",
    "from qiskit_aer import Aer\n",
    "backend = Aer.get_backend('qasm_simulator')\n",
    "\n",
    "# Configure module paths\n",
    "import sys\n",
    "sys.path.insert(1, \"_common\")\n",
    "sys.path.insert(1, \"qiskit\")\n",
    "\n",
    "# Import HamLib helper functions (from _common)\n",
    "import hamlib_utils\n",
    "\n",
    "# Import Observable helper functions\n",
    "import observables\n",
    "\n",
    "# Import Hamlib Simulation kernel (from qiskit)\n",
    "import hamlib_simulation_kernel\n",
    "    "
   ]
  },
  {
   "cell_type": "markdown",
   "id": "da34b34e-fa01-41a6-a2ff-a03ce1d63b25",
   "metadata": {},
   "source": [
    "### Configure Options for Execution"
   ]
  },
  {
   "cell_type": "code",
   "execution_count": 2,
   "id": "f8fc95a9-5621-47b1-b7c6-fbea0b8dc814",
   "metadata": {},
   "outputs": [],
   "source": [
    "# Qubit width of the Hamiltonian\n",
    "num_qubits = 6\n",
    "\n",
    "# Parameters of Trotterized simulation\n",
    "K = 1\n",
    "t = 0.05\n",
    "\n",
    "# for debugging Hamlib helper functions\n",
    "hamlib_simulation_kernel.verbose = False\n",
    "hamlib_utils.verbose = False\n",
    "\n",
    "# for debugging observables module\n",
    "observables.verbose_circuits = False\n"
   ]
  },
  {
   "cell_type": "markdown",
   "id": "2d35830f-d921-4509-aaac-ee0fdae6a999",
   "metadata": {},
   "source": [
    "### Specify a Hamiltonian for Testing\n",
    "Choose a Hamiltonian from HamLib or create a custom Hamiltonian\n"
   ]
  },
  {
   "cell_type": "code",
   "execution_count": 3,
   "id": "a5ec42f1-790c-4050-94c0-9c2a313b488b",
   "metadata": {},
   "outputs": [
    {
     "name": "stdout",
     "output_type": "stream",
     "text": [
      "... sparse_pauli_terms = \n",
      "[({0: 'Z', 1: 'Z'}, (1+0j)), ({0: 'Z', 5: 'Z'}, (1+0j)), ({1: 'Z', 2: 'Z'}, (1+0j)), ({5: 'Z', 4: 'Z'}, (1+0j)), ({2: 'Z', 3: 'Z'}, (1+0j)), ({3: 'Z', 4: 'Z'}, (1+0j)), ({0: 'X'}, (2+0j)), ({1: 'X'}, (2+0j)), ({5: 'X'}, (2+0j)), ({2: 'X'}, (2+0j)), ({3: 'X'}, (2+0j)), ({4: 'X'}, (2+0j))]\n",
      "... sparse_pauli_op = \n",
      "SparsePauliOp(['ZZIIII', 'ZIIIIZ', 'IZZIII', 'IIIIZZ', 'IIZZII', 'IIIZZI', 'XIIIII', 'IXIIII', 'IIIIIX', 'IIXIII', 'IIIXII', 'IIIIXI'],\n",
      "              coeffs=[1.+0.j, 1.+0.j, 1.+0.j, 1.+0.j, 1.+0.j, 1.+0.j, 2.+0.j, 2.+0.j, 2.+0.j,\n",
      " 2.+0.j, 2.+0.j, 2.+0.j])\n",
      "\n",
      "... Hamiltonian name = TFIM\n",
      "[('ZZIIII', (1+0j)), ('ZIIIIZ', (1+0j)), ('IZZIII', (1+0j)), ('IIIIZZ', (1+0j)), ('IIZZII', (1+0j)), ('IIIZZI', (1+0j)), ('XIIIII', (2+0j)), ('IXIIII', (2+0j)), ('IIIIIX', (2+0j)), ('IIXIII', (2+0j)), ('IIIXII', (2+0j)), ('IIIIXI', (2+0j))]\n",
      "\n"
     ]
    }
   ],
   "source": [
    "# Specify the desired Hamiltonian from HamLib \n",
    "# Set the hamiltonian_name: 'TFIM', 'Fermi-Hubbard-1D', 'Bose-Hubbard-1D', 'Heisenberg' or 'Max3Sat'\n",
    "# If no name, it means we use an explicitly specified Hamiltonian\n",
    "hamiltonian_name = 'TFIM'\n",
    "\n",
    "########### HamLib Hamiltonians\n",
    "\n",
    "if hamiltonian_name == 'TFIM':\n",
    "    hamiltonian_params = { \"1D-grid\": \"pbc\", \"h\": 2 }\n",
    "\n",
    "if hamiltonian_name == 'Heisenberg':\n",
    "    hamiltonian_params = { \"1D-grid\": \"pbc\", \"h\": 2 }\n",
    "    \n",
    "if hamiltonian_name == 'Fermi-Hubbard-1D':\n",
    "    hamiltonian_params = { \"1D-grid\": \"pbc\", \"enc\": \"bk\", \"U\":12 }\n",
    "\n",
    "if hamiltonian_name == 'Bose-Hubbard-1D':\n",
    "    hamiltonian_params = { \"1D-grid\": \"nonpbc\", \"enc\": \"gray\", \"U\":10 }\n",
    "\n",
    "if hamiltonian_name == 'Max3Sat':\n",
    "    hamiltonian_params = { \"ratio\": \"2\", \"rinst\": \"02\" }\n",
    "\n",
    "if hamiltonian_name == 'chemistry/electronic/standard/H2':\n",
    "    hamiltonian_params = { \"ham_BK\": '' }\n",
    "    \n",
    "########### Explicit Hamiltonians\n",
    "\n",
    "# classical simple Ising is ZZ\n",
    "# TFIM ZZ + X  is transverse field\n",
    "# + longitudinal field -> ZZ, X, and Z\n",
    "def get_ising_hamiltonian(L, J, h, alpha=0):\n",
    "\n",
    "    # List of Hamiltonian terms as 3-tuples containing\n",
    "    # (1) the Pauli string,\n",
    "    # (2) the qubit indices corresponding to the Pauli string,\n",
    "    # (3) the coefficient.\n",
    "    ZZ_tuples = [(\"ZZ\", [i, i + 1], -J) for i in range(0, L - 1)]\n",
    "    Z_tuples = [(\"Z\", [i], -h * sin(alpha)) for i in range(0, L)]\n",
    "    X_tuples = [(\"X\", [i], -h * cos(alpha)) for i in range(0, L)]\n",
    "\n",
    "    # We create the Hamiltonian as a SparsePauliOp, via the method\n",
    "    # `from_sparse_list`, and multiply by the interaction term.\n",
    "    hamiltonian = SparsePauliOp.from_sparse_list([*ZZ_tuples, *Z_tuples, *X_tuples], num_qubits=L)\n",
    "    return hamiltonian.simplify()\n",
    "\n",
    "# extract Hamiltonian from HamLib\n",
    "if hamiltonian_name != '':\n",
    "\n",
    "    # load the HamLib file for the given hamiltonian name\n",
    "    hamlib_utils.load_from_file(filename=hamiltonian_name)\n",
    "\n",
    "    # return a sparse Pauli list of terms queried from the open HamLib file\n",
    "    sparse_pauli_terms, dataset_name = hamlib_utils.get_hamlib_sparsepaulilist(num_qubits=num_qubits, params=hamiltonian_params)\n",
    "    print(f\"... sparse_pauli_terms = \\n{sparse_pauli_terms}\")\n",
    "    \n",
    "    # convert the SparsePauliList to a SparsePauliOp object\n",
    "    sparse_pauli_op = hamlib_simulation_kernel.ensure_sparse_pauli_op(sparse_pauli_terms, num_qubits)\n",
    "    print(f\"... sparse_pauli_op = \\n{sparse_pauli_op}\")\n",
    "    print(\"\")\n",
    "    \n",
    "    # convert SparsePauliOp to list form (for use by expectation functions below)\n",
    "    pauli_terms = sparse_pauli_op.to_list()\n",
    "    \n",
    "# create explicit Hamiltonian\n",
    "else:\n",
    "    sparse_pauli_op = get_ising_hamiltonian(L=num_qubits, J=0.2, h=1.2, alpha=pi / 8)\n",
    "    pauli_terms = sparse_pauli_op.to_list()\n",
    "\n",
    "print(f\"... Hamiltonian name = {hamiltonian_name}\")\n",
    "print(pauli_terms)\n",
    "print(\"\")\n"
   ]
  },
  {
   "cell_type": "markdown",
   "id": "5848a55b-830f-440e-a57a-1b08b0711881",
   "metadata": {},
   "source": [
    "### Create a Hamiltonian Simulation Circuit\n",
    "Initialize the circuit to a known initial state, append 'K' Trotter steps for total time 't', followed by basis rotation gates."
   ]
  },
  {
   "cell_type": "code",
   "execution_count": 4,
   "id": "8ec99e2e-2e87-4555-85a1-d2aeedf0e604",
   "metadata": {},
   "outputs": [
    {
     "name": "stdout",
     "output_type": "stream",
     "text": [
      "... Trotterized Circuit, K=1, t=0.05\n",
      "Sample Circuit:\n",
      "  H = [({0: 'Z', 1: 'Z'}, (1+0j)), ({0: 'Z', 5: 'Z'}, (1+0j)), ({1: 'Z', 2: 'Z'}, (1+0j)), ({5: 'Z', 4: 'Z'}, (1+0j)), ({2: 'Z', 3: 'Z'}, (1+0j)), ({3: 'Z', 4: 'Z'}, (1+0j)), ({0: 'X'}, (2+0j)), ({1: 'X'}, (2+0j)), ({5: 'X'}, (2+0j)), ({2: 'X'}, (2+0j)), ({3: 'X'}, (2+0j)), ({4: 'X'}, (2+0j))]\n",
      "     ┌────────┐ ░ ┌───────────────┐ ░ \n",
      "q_0: ┤0       ├─░─┤0              ├─░─\n",
      "     │        │ ░ │               │ ░ \n",
      "q_1: ┤1       ├─░─┤1              ├─░─\n",
      "     │        │ ░ │               │ ░ \n",
      "q_2: ┤2       ├─░─┤2              ├─░─\n",
      "     │  Neele │ ░ │  e^-iHt(0.05) │ ░ \n",
      "q_3: ┤3       ├─░─┤3              ├─░─\n",
      "     │        │ ░ │               │ ░ \n",
      "q_4: ┤4       ├─░─┤4              ├─░─\n",
      "     │        │ ░ │               │ ░ \n",
      "q_5: ┤5       ├─░─┤5              ├─░─\n",
      "     └────────┘ ░ └───────────────┘ ░ \n",
      "  Initial State Neele:\n",
      "     ┌───┐\n",
      "q_0: ┤ X ├\n",
      "     └───┘\n",
      "q_1: ─────\n",
      "     ┌───┐\n",
      "q_2: ┤ X ├\n",
      "     └───┘\n",
      "q_3: ─────\n",
      "     ┌───┐\n",
      "q_4: ┤ X ├\n",
      "     └───┘\n",
      "q_5: ─────\n",
      "          \n",
      "  Evolution Operator (e^-iHt) =\n",
      "                                    ┌─────────┐                      \n",
      "q_0: ───────────■──────────■────────┤ Rx(0.2) ├──────────────────────\n",
      "                │          │ZZ(0.1) └─────────┘           ┌─────────┐\n",
      "q_1: ───────────┼──────────■─────────────────────■────────┤ Rx(0.2) ├\n",
      "                │                                │ZZ(0.1) ├─────────┤\n",
      "q_2: ───────────┼─────────────────────■──────────■────────┤ Rx(0.2) ├\n",
      "                │                     │ZZ(0.1) ┌─────────┐└─────────┘\n",
      "q_3: ───────────┼──────────■──────────■────────┤ Rx(0.2) ├───────────\n",
      "                │          │ZZ(0.1) ┌─────────┐└─────────┘           \n",
      "q_4: ─■─────────┼──────────■────────┤ Rx(0.2) ├──────────────────────\n",
      "      │ZZ(0.1)  │ZZ(0.1) ┌─────────┐└─────────┘                      \n",
      "q_5: ─■─────────■────────┤ Rx(0.2) ├─────────────────────────────────\n",
      "                         └─────────┘                                 \n",
      "\n"
     ]
    }
   ],
   "source": [
    "# create the HamLib Simulation kernel, from the current Hamiltonian.\n",
    "# We use a different method for kernel creation with HamLib than with custom Hamiltonians\n",
    "\n",
    "########### create Trotterized evolution circuit for HamLib Hamiltonians\n",
    "\n",
    "# create Hamiltonian evolution circuit from HamLib\n",
    "if hamiltonian_name != '':\n",
    "    init_state = \"checkerboard\"\n",
    "\n",
    "    qc, bitstring = hamlib_simulation_kernel.HamiltonianSimulation(\n",
    "        num_qubits=num_qubits, \n",
    "        ham_op=sparse_pauli_terms,\n",
    "        K=K, t=t,\n",
    "        init_state = init_state,\n",
    "        append_measurements = False,\n",
    "        method = 1, \n",
    "    )    \n",
    "    \n",
    "########### create Trotterized evolution circuit for custom Hamiltonian\n",
    "else:\n",
    "    #qc = None\n",
    "    qc = QuantumCircuit(num_qubits)\n",
    "\n",
    "print(f\"... Trotterized Circuit, K={K}, t={t}\")\n",
    "if num_qubits < 11:\n",
    "    if hamiltonian_name != '':\n",
    "        hamlib_simulation_kernel.kernel_draw(qc, method=1)\n",
    "    else:\n",
    "        print(qc)\n",
    "else:\n",
    "    print(\"  ... circuit is too large to draw.\")\n",
    "\n",
    "print(\"\")\n"
   ]
  },
  {
   "cell_type": "markdown",
   "id": "a335dc45-eccb-4f9f-be2a-2ed5ff9fb4a9",
   "metadata": {},
   "source": [
    "### Compute Energy of the Hamiltonian - Unoptimized\n",
    "\n",
    "Here, we convert the Hamiltonian to a set of circuits, using commuting groups if specified,\n",
    "and execute the circuits in order to compute the expectation value "
   ]
  },
  {
   "cell_type": "code",
   "execution_count": 5,
   "id": "0607c377-aa64-4fd7-bf3a-9353a823413b",
   "metadata": {},
   "outputs": [
    {
     "name": "stdout",
     "output_type": "stream",
     "text": [
      "\n",
      "************ Compute energy of the Hamiltonian 3 times\n",
      "\n",
      "Total Energy: (-5.757600000000002+0j)\n",
      "Term Contributions: {'ZZIIII': -0.9606, 'ZIIIIZ': -0.965, 'IZZIII': -0.96, 'IIIIZZ': -0.964, 'IIZZII': -0.9596, 'IIIZZI': -0.9612, 'XIIIII': 0.0018, 'IXIIII': 0.0126, 'IIIIIX': 0.001, 'IIXIII': 0.002, 'IIIXII': -0.0044, 'IIIIXI': -0.0066}\n",
      "\n",
      "Total Energy: (-5.712+0j)\n",
      "Term Contributions: {'ZZIIII': -0.9578, 'ZIIIIZ': -0.959, 'IZZIII': -0.9584, 'IIIIZZ': -0.9554, 'IIZZII': -0.9614, 'IIIZZI': -0.9584, 'XIIIII': -0.0018, 'IXIIII': 0.0146, 'IIIIIX': -0.0062, 'IIXIII': 0.0068, 'IIIXII': 0.009, 'IIIIXI': -0.0032}\n",
      "\n",
      "Total Energy: (-5.739199999999999+0j)\n",
      "Term Contributions: {'ZZIIII': -0.9642, 'ZIIIIZ': -0.9526, 'IZZIII': -0.9602, 'IIIIZZ': -0.959, 'IIZZII': -0.9616, 'IIIZZI': -0.9624, 'XIIIII': 0.012, 'IXIIII': -0.0046, 'IIIIIX': -0.0106, 'IIXIII': 0.0106, 'IIIXII': 0.005, 'IIIIXI': -0.002}\n",
      "\n"
     ]
    }
   ],
   "source": [
    "# Flag to control optimize by use of commuting groups\n",
    "use_commuting_groups = False\n",
    "\n",
    "N = 3\n",
    "print(f\"\\n************ Compute energy of the Hamiltonian {N} times\")\n",
    "\n",
    "# Calculate the total energy\n",
    "for i in range(N):\n",
    "        \n",
    "    # Estimate expectation for the Ham terms using the circuit qc\n",
    "    total_energy, term_contributions = observables.estimate_expectation_value(backend, qc, pauli_terms, \n",
    "                                             use_commuting_groups=use_commuting_groups, num_shots=10000)\n",
    "    print(f\"\\nTotal Energy: {total_energy}\")\n",
    "    print(f\"Term Contributions: {term_contributions}\")\n",
    "    \n",
    "print(\"\")"
   ]
  },
  {
   "cell_type": "markdown",
   "id": "1e2d1d64-b77e-4928-a116-c93dd7ebf0c3",
   "metadata": {},
   "source": [
    "### Compute Energy of the Hamiltonian - Optimized\n",
    "\n",
    "Here, we convert the Hamiltonian to a set of circuits, using commuting groups if specified,\n",
    "and execute the circuits in order to compute the expectation value "
   ]
  },
  {
   "cell_type": "code",
   "execution_count": 6,
   "id": "d9fba694-2d4d-4907-bcb2-a0926b19ceb4",
   "metadata": {},
   "outputs": [
    {
     "name": "stdout",
     "output_type": "stream",
     "text": [
      "\n",
      "************ Compute energy of the Hamiltonian 3 times\n",
      "\n",
      "Total Energy: (-5.7444+0j)\n",
      "Term Contributions: {'ZZIIII': -0.9594, 'ZIIIIZ': -0.9624, 'IZZIII': -0.9576, 'IIIIZZ': -0.9662, 'IIZZII': -0.962, 'IIIZZI': -0.9664, 'XIIIII': 0.0066, 'IXIIII': -0.007, 'IIIIIX': -0.002, 'IIXIII': 0.008, 'IIIXII': -0.0032, 'IIIIXI': 0.0124}\n",
      "\n",
      "Total Energy: (-5.8384+0j)\n",
      "Term Contributions: {'ZZIIII': -0.9598, 'ZIIIIZ': -0.9602, 'IZZIII': -0.9614, 'IIIIZZ': -0.9608, 'IIZZII': -0.9648, 'IIIZZI': -0.9622, 'XIIIII': -0.0042, 'IXIIII': 0.0044, 'IIIIIX': -0.006, 'IIXIII': -0.023, 'IIIXII': -0.009, 'IIIIXI': 0.0032}\n",
      "\n",
      "Total Energy: (-5.728800000000001+0j)\n",
      "Term Contributions: {'ZZIIII': -0.953, 'ZIIIIZ': -0.958, 'IZZIII': -0.9536, 'IIIIZZ': -0.9596, 'IIZZII': -0.9572, 'IIIZZI': -0.9594, 'XIIIII': 0.0044, 'IXIIII': 0.0014, 'IIIIIX': -0.0046, 'IIXIII': 0.005, 'IIIXII': 0.0038, 'IIIIXI': -0.004}\n",
      "\n"
     ]
    }
   ],
   "source": [
    "# Flag to control optimize by use of commuting groups\n",
    "use_commuting_groups = True\n",
    "\n",
    "N = 3\n",
    "print(f\"\\n************ Compute energy of the Hamiltonian {N} times\")\n",
    "\n",
    "# Calculate the total energy\n",
    "for i in range(N):\n",
    "        \n",
    "    # Estimate expectation for the Ham terms using the circuit qc\n",
    "    total_energy, term_contributions = observables.estimate_expectation_value(backend, qc, pauli_terms, \n",
    "                                             use_commuting_groups=use_commuting_groups, num_shots=10000)\n",
    "    print(f\"\\nTotal Energy: {total_energy}\")\n",
    "    print(f\"Term Contributions: {term_contributions}\")\n",
    "    \n",
    "print(\"\")"
   ]
  },
  {
   "cell_type": "markdown",
   "id": "bf88fc0a-98f4-4278-aa55-3205bba345fa",
   "metadata": {},
   "source": [
    "### Compute expectation value of other observables.\n",
    "Note that this only works for the Ising model."
   ]
  },
  {
   "cell_type": "code",
   "execution_count": 7,
   "id": "6c24ca2a-522f-4902-b488-6393bc61cfd8",
   "metadata": {},
   "outputs": [
    {
     "name": "stdout",
     "output_type": "stream",
     "text": [
      "-0.9565600000000001\n",
      "WARN: term not found in term_contributions: IIIIIZ\n",
      "WARN: term not found in term_contributions: IIIIZI\n",
      "WARN: term not found in term_contributions: IIIZII\n",
      "WARN: term not found in term_contributions: IIZIII\n",
      "WARN: term not found in term_contributions: IZIIII\n",
      "WARN: term not found in term_contributions: ZIIIII\n",
      "0\n"
     ]
    }
   ],
   "source": [
    "# Define additional Hamiltonian terms for other Ising observables \n",
    "H_terms_spin_correlation = observables.swap_pauli_list([(0.2,'IIIIZZ'), (0.2,'IIIZZI'), (0.2,'IIZZII'), (0.2,'IZZIII'), (0.2,'ZZIIII')])\n",
    "H_terms_magnetization = observables.swap_pauli_list([(1,'IIIIIZ'), (1,'IIIIZI'), (1,'IIIZII'), (1,'IIZIII'), (1,'IZIIII'), (1, 'ZIIIII')])\n",
    "\n",
    "spin_correlation = observables.calculate_expectation_from_contributions(H_terms_spin_correlation, term_contributions)\n",
    "print(spin_correlation)\n",
    "\n",
    "magnetization = observables.calculate_expectation_from_contributions(H_terms_magnetization, term_contributions)\n",
    "print(magnetization)\n"
   ]
  },
  {
   "cell_type": "code",
   "execution_count": null,
   "id": "4f7de6f8-64cb-4266-9fc2-633d1d30c092",
   "metadata": {},
   "outputs": [],
   "source": []
  }
 ],
 "metadata": {
  "kernelspec": {
   "display_name": "Python 3 (ipykernel)",
   "language": "python",
   "name": "python3"
  },
  "language_info": {
   "codemirror_mode": {
    "name": "ipython",
    "version": 3
   },
   "file_extension": ".py",
   "mimetype": "text/x-python",
   "name": "python",
   "nbconvert_exporter": "python",
   "pygments_lexer": "ipython3",
   "version": "3.11.5"
  }
 },
 "nbformat": 4,
 "nbformat_minor": 5
}
