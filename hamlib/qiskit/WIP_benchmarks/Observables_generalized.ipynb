{
 "cells": [
  {
   "cell_type": "markdown",
   "metadata": {},
   "source": [
    "### Hamiltonian Study - Evolution and Simulation\n",
    "This notebook is intended to illustrate how to compute the energy expectation value for a quantum state that is produced using Hamiltonian consisting of multiple weighted Pauli strings.\n",
    "\n",
    "The first section defines functions for creating a circuit with appended gates for the Hamiltonian term, executing those circuits, and computing the expectation value over all terms of the Hamiltonian.\n",
    "The second section defines several simple functions for creating PauliEvolution circuits from the Hamiltonian Pault strings.\n",
    "This is followed by a number of tests that evolve a Hamiltonian either classically or using a quantum evolution circuit and obtaining energy measures.\n",
    "(There are several cells toward the end that are retained for bits of code that may be useful.)"
   ]
  },
  {
   "cell_type": "markdown",
   "metadata": {},
   "source": [
    "### ------------------------------------------------------------------"
   ]
  },
  {
   "cell_type": "code",
   "execution_count": 1,
   "metadata": {},
   "outputs": [],
   "source": [
    "import numpy as np\n",
    "import copy\n",
    "from math import sin, cos, pi\n",
    "import time\n",
    "\n",
    "from qiskit import QuantumCircuit, transpile\n",
    "from qiskit_aer import Aer\n",
    "from qiskit.primitives import Estimator\n",
    "\n",
    "from qiskit.quantum_info import Operator, Pauli\n",
    "from qiskit.quantum_info import SparsePauliOp\n",
    "from qiskit.quantum_info import Statevector\n",
    "from qiskit.circuit.library import PauliEvolutionGate\n",
    "\n",
    "import scipy as sc\n",
    "import matplotlib.pyplot as plt\n",
    "\n",
    "\n",
    "backend = Aer.get_backend('qasm_simulator')\n",
    "#backend = Aer.get_backend('statevector_simulator')\n",
    "noise_model = None\n",
    "\n",
    "# Set numpy print options to format floating point numbers\n",
    "np.set_printoptions(precision=3, suppress=True)\n",
    "\n",
    "verbose = False\n",
    "\n",
    "# Observable Helper Functions\n",
    "import observables as obs\n",
    "\n",
    "obs.verbose = False\n"
   ]
  },
  {
   "cell_type": "markdown",
   "metadata": {},
   "source": [
    "### ------------------------------------------------------------------"
   ]
  },
  {
   "cell_type": "markdown",
   "metadata": {},
   "source": [
    "### Perform Simple Time Evolution of a Quantum State\n",
    "This function operates on an initial state for the specified time under the action of a given Hamiltonian.\n",
    "This is an extremely simplifed version, which only works for very small times, e.g. 0.01"
   ]
  },
  {
   "cell_type": "code",
   "execution_count": 2,
   "metadata": {},
   "outputs": [],
   "source": [
    "# Simulate time evolution (this is a simplified version)\n",
    "def time_evolve_simple(initial_state, hamiltonian, time):\n",
    "\n",
    "    # In a real scenario, you'd use a more sophisticated time evolution method\n",
    "    # This is a simple first-order approximation  \n",
    "    evolved_state = initial_state - 1j * time * np.dot(hamiltonian, initial_state)\n",
    " \n",
    "    return evolved_state / np.linalg.norm(evolved_state)"
   ]
  },
  {
   "cell_type": "markdown",
   "metadata": {},
   "source": [
    "### Compute theoretical energy from Hamiltonian and initial state\n"
   ]
  },
  {
   "cell_type": "code",
   "execution_count": 3,
   "metadata": {},
   "outputs": [],
   "source": [
    "def compute_theoretical_energy(initial_state, H_terms, t=1.0):\n",
    "    \n",
    "    # Create the Hamiltonian matrix\n",
    "    H_matrix = sum(coeff * Operator(Pauli(pauli)) for coeff, pauli in H_terms)\n",
    "\n",
    "    # Simulate time evolution\n",
    "    final_state = time_evolve_simple(initial_state, H_matrix, t)\n",
    "    #print(f\"... final_state = {final_state}\")\n",
    "\n",
    "    theoretical_energy = np.real(np.dot(np.conj(final_state), np.dot(H_matrix, final_state)))\n",
    "\n",
    "    return theoretical_energy\n",
    "    "
   ]
  },
  {
   "cell_type": "markdown",
   "metadata": {},
   "source": [
    "### Compute theoretical energy from Hamiltonian and initial state (2nd version)\n",
    "This version is returning an array of classically computed exact energies, one for each step of evolution over time."
   ]
  },
  {
   "cell_type": "code",
   "execution_count": 4,
   "metadata": {},
   "outputs": [],
   "source": [
    "def compute_theoretical_energy2(initial_state, H, time, step_size):\n",
    "\n",
    "    if H is None:\n",
    "        return [None]\n",
    "        \n",
    "    # Create the Hamiltonian matrix (array form)\n",
    "    H_array = H.to_matrix()\n",
    "\n",
    "    # need to convert to Statevector so the evolve() function can be used\n",
    "    initial_state = Statevector(initial_state)\n",
    "    \n",
    "    # use this if string is passed for initialization\n",
    "    #initial_state = Statevector.from_label(\"001100\")\n",
    "\n",
    "    # We define a slightly denser time mesh\n",
    "    exact_times = np.arange(0, time+step_size, step_size)\n",
    "    \n",
    "    # We compute the exact evolution using the exp\n",
    "    exact_evolution = [initial_state]\n",
    "    exp_H = sc.linalg.expm(-1j * step_size * H_array)\n",
    "    for time in exact_times[1:]:\n",
    "        print('.', end=\"\")\n",
    "        exact_evolution.append(exact_evolution[-1].evolve(exp_H))\n",
    "\n",
    "    # Having the exact state vectors, we compute the exact evolution of our operators’ expectation values.\n",
    "    exact_energy = np.real([sv.expectation_value(H) for sv in exact_evolution])\n",
    "    \n",
    "    return exact_energy, exact_times\n"
   ]
  },
  {
   "cell_type": "markdown",
   "metadata": {},
   "source": [
    "### ------------------------------------------------------------------"
   ]
  },
  {
   "cell_type": "markdown",
   "metadata": {},
   "source": [
    "### Create Classical Test Evolution Circuit \n",
    "Create a circuit that will be measured and that will have its energy computed against a specific Hamiltonian. We start with an initial state and apply classical simple time evolution to it. The resulting state will be used to initialize the simplest quantum circuit with that state on its output."
   ]
  },
  {
   "cell_type": "code",
   "execution_count": 5,
   "metadata": {},
   "outputs": [],
   "source": [
    "def create_classical_test_circuit(initial_state, H_terms, t=1.0):\n",
    "    \n",
    "    n_qubits = len(H_terms[0][1])\n",
    "    qc = QuantumCircuit(n_qubits)\n",
    "    \n",
    "    # Create the Hamiltonian matrix\n",
    "    H_matrix = sum(coeff * Operator(Pauli(pauli)) for coeff, pauli in H_terms)\n",
    "    \n",
    "    # Simulate time evolution\n",
    "    final_state = time_evolve_simple(initial_state, H_matrix, t)\n",
    "\n",
    "    if verbose:\n",
    "        print(f\"... initial_state = {initial_state}\")\n",
    "        print(f\"... H = {H_matrix}\")\n",
    "        print(f\"... final_state = {final_state}\")\n",
    "\n",
    "        #print(f\"... H * final_state = {np.dot(H_matrix, final_state)}\")\n",
    "        #print(f\"... conf of final_state = {np.conj(final_state)}\")\n",
    "\n",
    "    # Initialize the circuit with the given state vector\n",
    "    qc.initialize(final_state, qc.qubits)\n",
    "\n",
    "    return qc, final_state"
   ]
  },
  {
   "cell_type": "markdown",
   "metadata": {},
   "source": [
    "### Estimate Energy Classically \n",
    "Create a classical circuit initialized to the initial state and its energy computed against a specific Hamiltonian. "
   ]
  },
  {
   "cell_type": "code",
   "execution_count": 6,
   "metadata": {},
   "outputs": [],
   "source": [
    "def estimate_energy_classical(initial_state, H_terms, t=1.0):\n",
    "    \n",
    "    qc, final_state = create_classical_test_circuit(initial_state, H_terms, t=t)\n",
    "    if verbose: print(f\"Test circuit = \\n\", qc)\n",
    "       \n",
    "    # Obtain, by executing the circuit on the backend and compute the expectation value, the energy\n",
    "    total_energy = obs.estimate_expectation(backend, qc, H_terms, num_shots=10000)\n",
    "    #total_energy = obs.estimate_expectation_with_estimator(backend, qc, H_terms)\n",
    "  \n",
    "    return total_energy"
   ]
  },
  {
   "cell_type": "markdown",
   "metadata": {},
   "source": [
    "### ------------------------------------------------------------------"
   ]
  },
  {
   "cell_type": "markdown",
   "metadata": {},
   "source": [
    "### Define Pauli Evolution Circuit\n",
    "This function is used to create a circuit, given an array of Pauli terms, that performs Trotterized state evolution for time t."
   ]
  },
  {
   "cell_type": "code",
   "execution_count": 7,
   "metadata": {},
   "outputs": [],
   "source": [
    "def create_pauli_evolution_circuit(pauli_terms, time=1.0):\n",
    "    \"\"\"\n",
    "    Create a QuantumCircuit with PauliEvolution gate from Pauli terms.\n",
    "    \n",
    "    Args:\n",
    "    pauli_terms (list): List of tuples, each containing (coefficient, Pauli string)\n",
    "    time (float): Evolution time (default is 1.0)\n",
    "    \n",
    "    Returns:\n",
    "    QuantumCircuit: Circuit with PauliEvolution gate\n",
    "    \"\"\"\n",
    "    \n",
    "    # Determine the number of qubits\n",
    "    num_qubits = len(pauli_terms[0][1])  # Length of any Pauli string\n",
    "    \n",
    "    # Convert to SparsePauliOp\n",
    "    sparse_pauli_op = obs.convert_to_sparse_pauli_op(pauli_terms)\n",
    "    \n",
    "    # Create the PauliEvolutionGate\n",
    "    evo_gate = PauliEvolutionGate(sparse_pauli_op, time=time)\n",
    "    \n",
    "    # Create a quantum circuit and apply the evolution gate\n",
    "    qc = QuantumCircuit(num_qubits)\n",
    "    qc.append(evo_gate, range(num_qubits))\n",
    "    \n",
    "    return qc"
   ]
  },
  {
   "cell_type": "markdown",
   "metadata": {},
   "source": [
    "### Create Quantum Test Evolution Circuit \n",
    "Here, we create a circuit that will be measured and that will have its energy computed against a specific Hamiltonian. We start with an initial state and apply quantum Hamiltonian evolution to it. The resulting state will be used for testing in subsequent cells.\n",
    "\n",
    "We create it using a generated quantum circuit to perform the evolution."
   ]
  },
  {
   "cell_type": "code",
   "execution_count": 8,
   "metadata": {},
   "outputs": [],
   "source": [
    "def create_quantum_test_circuit(initial_state, H_terms, step, step_size):\n",
    "\n",
    "    initial_state = normalize(np.array(initial_state))\n",
    "    \n",
    "    n_qubits = len(H_terms[0][1])\n",
    "    qc = QuantumCircuit(n_qubits)\n",
    "\n",
    "    # Initialize the circuit with the given state vector\n",
    "    qc.initialize(initial_state, qc.qubits)\n",
    "    \n",
    "    qc_ev = create_pauli_evolution_circuit(H_terms, time = step_size)\n",
    "    \n",
    "    if verbose: print(f\"... evolution circuit = \\n{qc_ev}\")\n",
    "\n",
    "    # Need to decompose here, so we do not have references to PauliEvolution gates, which cannot be copied\n",
    "    qc_ev = qc_ev.decompose().decompose()\n",
    "\n",
    "    # use compose, instead of append, so that the copy used in expectation computation can function correctly\n",
    "    for k in range(step):\n",
    "        qc.compose(qc_ev, inplace=True)\n",
    "    \n",
    "    if verbose: print(f\"... after compose, saved circuit = \\n{qc}\")\n",
    "    \n",
    "    return qc\n",
    "\n",
    "def normalize(array):\n",
    "    # Calculate the sum of squares of the elements\n",
    "    sum_of_squares = np.sum(np.square(array))\n",
    "    # Calculate the normalization factor\n",
    "    normalization_factor = np.sqrt(sum_of_squares)\n",
    "    # Normalize the array\n",
    "    normalized_array = array / normalization_factor\n",
    "    return normalized_array\n"
   ]
  },
  {
   "cell_type": "markdown",
   "metadata": {},
   "source": [
    "### ------------------------------------------------------------------"
   ]
  },
  {
   "cell_type": "markdown",
   "metadata": {},
   "source": [
    "### Define Test Hamiltonians and Initial State"
   ]
  },
  {
   "cell_type": "code",
   "execution_count": 9,
   "metadata": {},
   "outputs": [
    {
     "name": "stdout",
     "output_type": "stream",
     "text": [
      "... using H_terms = [((-0.2+0j), 'IIIIZZ'), ((-0.2+0j), 'IIIZZI'), ((-0.2+0j), 'IIZZII'), ((-0.2+0j), 'IZZIII'), ((-0.2+0j), 'ZZIIII'), ((-0.4592201188381077+0j), 'IIIIIZ'), ((-0.4592201188381077+0j), 'IIIIZI'), ((-0.4592201188381077+0j), 'IIIZII'), ((-0.4592201188381077+0j), 'IIZIII'), ((-0.4592201188381077+0j), 'IZIIII'), ((-0.4592201188381077+0j), 'ZIIIII'), ((-1.1086554390135441+0j), 'IIIIIX'), ((-1.1086554390135441+0j), 'IIIIXI'), ((-1.1086554390135441+0j), 'IIIXII'), ((-1.1086554390135441+0j), 'IIXIII'), ((-1.1086554390135441+0j), 'IXIIII'), ((-1.1086554390135441+0j), 'XIIIII')]\n",
      "    SparsePauliOp =  SparsePauliOp(['IIIIZZ', 'IIIZZI', 'IIZZII', 'IZZIII', 'ZZIIII', 'IIIIIZ', 'IIIIZI', 'IIIZII', 'IIZIII', 'IZIIII', 'ZIIIII', 'IIIIIX', 'IIIIXI', 'IIIXII', 'IIXIII', 'IXIIII', 'XIIIII'],\n",
      "              coeffs=[-0.2  +0.j, -0.2  +0.j, -0.2  +0.j, -0.2  +0.j, -0.2  +0.j, -0.459+0.j,\n",
      " -0.459+0.j, -0.459+0.j, -0.459+0.j, -0.459+0.j, -0.459+0.j, -1.109+0.j,\n",
      " -1.109+0.j, -1.109+0.j, -1.109+0.j, -1.109+0.j, -1.109+0.j])\n"
     ]
    }
   ],
   "source": [
    "\n",
    "# Return a Hamiltonian of the specified type: return terms array and SparsePauliOp equivalent\n",
    "def get_hamiltonian(type: str, num_qubits: int):  \n",
    "    H_terms = None\n",
    "    H = None\n",
    "    match type:\n",
    "        case 'test-1':\n",
    "            H_terms = [\n",
    "                (0.5, 'ZI'),\n",
    "                (0.3, 'XX'),\n",
    "                (-0.1, 'YY'),\n",
    "            ]\n",
    "        case 'test-2':\n",
    "            H_terms =  obs.swap_pauli_list([\n",
    "                ('ZI', 0.5),\n",
    "                ('XX', 0.3),\n",
    "                ('YY', -0.1)\n",
    "            ])\n",
    "        case 'test-4':\n",
    "            H_terms =  obs.swap_pauli_list([\n",
    "                ('XXII', 0.5),\n",
    "                ('IYYI', 0.3),\n",
    "                ('IIZZ', 0.4),\n",
    "                ('XYII', 0.2),\n",
    "                ('IIYX', 0.6),\n",
    "                ('IZXI', 0.1),\n",
    "                ('XIII', 0.7)\n",
    "            ])\n",
    "        case \"ising\":        # the Ising Hamiltonian\n",
    "            H = get_ising_hamiltonian(L=num_qubits, J=0.2, h=1.2, alpha=pi / 8)\n",
    "            H_terms = obs.swap_pauli_list(H.to_list())\n",
    "\n",
    "    if H is None:\n",
    "        H = obs.convert_to_sparse_pauli_op(H_terms)\n",
    "\n",
    "    return H_terms, H\n",
    "\n",
    "# classical simple Ising is ZZ\n",
    "# TFIM ZZ + X  is transverse field\n",
    "# + longitudinal field -> ZZ, X, and Z\n",
    "def get_ising_hamiltonian(L, J, h, alpha=0):\n",
    "\n",
    "    # List of Hamiltonian terms as 3-tuples containing\n",
    "    # (1) the Pauli string,\n",
    "    # (2) the qubit indices corresponding to the Pauli string,\n",
    "    # (3) the coefficient.\n",
    "    ZZ_tuples = [(\"ZZ\", [i, i + 1], -J) for i in range(0, L - 1)]\n",
    "    Z_tuples = [(\"Z\", [i], -h * sin(alpha)) for i in range(0, L)]\n",
    "    X_tuples = [(\"X\", [i], -h * cos(alpha)) for i in range(0, L)]\n",
    "\n",
    "    # We create the Hamiltonian as a SparsePauliOp, via the method\n",
    "    # `from_sparse_list`, and multiply by the interaction term.\n",
    "    hamiltonian = SparsePauliOp.from_sparse_list([*ZZ_tuples, *Z_tuples, *X_tuples], num_qubits=L)\n",
    "    return hamiltonian.simplify()\n",
    "\n",
    "######## Specify the Hamiltonian to use for execution\n",
    "\n",
    "num_qubits = 6\n",
    "\n",
    "#H_type = \"test-1\"\n",
    "#H_type = \"test-4\"\n",
    "H_type = \"ising\"\n",
    "\n",
    "H_terms, H = get_hamiltonian(H_type, num_qubits)\n",
    "print(f\"... using H_terms = {H_terms}\")\n",
    "print(f\"    SparsePauliOp = \", H)\n",
    "\n",
    "\"\"\"\n",
    "groups = obs.group_commuting_terms_2(H_terms_swapped)\n",
    "for i, group in enumerate(groups):\n",
    "    print(f\"Group {i+1}:\")\n",
    "    for pauli, coeff in group:\n",
    "        print(f\"  {pauli}: {coeff}\")\n",
    "\"\"\"\n",
    "pass\n"
   ]
  },
  {
   "cell_type": "markdown",
   "metadata": {},
   "source": [
    "### Define Multiple Observables related to the Hamiltonian in List\n",
    "Here we create a list, in which the first element is the 'primary' Hamiltonian and the remaining elements are additional related observables.\n",
    "This list can be passed to the estimate_expectation_multiple() function which first obtains expectation values of each term in the primary Hamiltonian and then computes the total of the expectation values for each term in each observable."
   ]
  },
  {
   "cell_type": "code",
   "execution_count": 10,
   "metadata": {},
   "outputs": [
    {
     "name": "stdout",
     "output_type": "stream",
     "text": [
      "[(0.2, 'IIIIZZ'), (0.2, 'IIIZZI'), (0.2, 'IIZZII'), (0.2, 'IZZIII'), (0.2, 'ZZIIII')]\n",
      "[(1, 'IIIIIZ'), (1, 'IIIIZI'), (1, 'IIIZII'), (1, 'IIZIII'), (1, 'IZIIII'), (1, 'ZIIIII')]\n",
      "****\n",
      "magnetization:  SparsePauliOp(['IIIIIZ', 'IIIIZI', 'IIIZII', 'IIZIII', 'IZIIII', 'ZIIIII'],\n",
      "              coeffs=[1.+0.j, 1.+0.j, 1.+0.j, 1.+0.j, 1.+0.j, 1.+0.j])\n",
      "****\n",
      "mean spin correlation SparsePauliOp(['IIIIZZ', 'IIIZZI', 'IIZZII', 'IZZIII', 'ZZIIII'],\n",
      "              coeffs=[0.2+0.j, 0.2+0.j, 0.2+0.j, 0.2+0.j, 0.2+0.j])\n",
      "[((0.2+0j), 'IIIIZZ'), ((0.2+0j), 'IIIZZI'), ((0.2+0j), 'IIZZII'), ((0.2+0j), 'IZZIII'), ((0.2+0j), 'ZZIIII')]\n",
      "[((1+0j), 'IIIIIZ'), ((1+0j), 'IIIIZI'), ((1+0j), 'IIIZII'), ((1+0j), 'IIZIII'), ((1+0j), 'IZIIII'), ((1+0j), 'ZIIIII')]\n"
     ]
    }
   ],
   "source": [
    "# DEVNOTE: Currently, this only works for the specific Ising observables below\n",
    "\n",
    "# Define additional Hamiltonian terms for other Ising observables \n",
    "H_terms_spin_correlation = [(0.2,'IIIIZZ'), (0.2,'IIIZZI'), (0.2,'IIZZII'), (0.2,'IZZIII'), (0.2,'ZZIIII')]\n",
    "H_terms_magnetization = [(1,'IIIIIZ'), (1,'IIIIZI'), (1,'IIIZII'), (1,'IIZIII'), (1,'IZIIII'), (1, 'ZIIIII')]\n",
    "\n",
    "print(H_terms_spin_correlation)\n",
    "print(H_terms_magnetization)\n",
    "\n",
    "#L = 6\n",
    "L = num_qubits\n",
    "\n",
    "print(\"****\")\n",
    "magnetization_op = SparsePauliOp.from_sparse_list(\n",
    "    #[(\"Z\", [i], 1.0) for i in range(0, 6)], num_qubits=6\n",
    "    [(\"Z\", [i], 1.0) for i in range(0, L)], num_qubits=L\n",
    ")\n",
    "print(\"magnetization: \", magnetization_op)\n",
    "\n",
    "print(\"****\")\n",
    "correlation_op = SparsePauliOp.from_sparse_list(\n",
    "    [(\"ZZ\", [i, i + 1], 1.0) for i in range(0, L - 1)], num_qubits=L\n",
    ") / (L - 1)\n",
    "print(\"mean spin correlation\", correlation_op)\n",
    "\n",
    "H_terms_magnetization = obs.swap_pauli_list(magnetization_op.to_list())\n",
    "H_terms_spin_correlation = obs.swap_pauli_list(correlation_op.to_list())\n",
    "\n",
    "print(H_terms_spin_correlation)\n",
    "print(H_terms_magnetization)\n",
    "\n",
    "H_terms_multiple = [H_terms, H_terms_spin_correlation, H_terms_magnetization] #pass this into a function, and check if each term is in.\n",
    "H_terms_names = [\"Energy\", \"Spin Correlation\", \"Magnetization\"]\n"
   ]
  },
  {
   "cell_type": "markdown",
   "metadata": {},
   "source": [
    "### ------------------------------------------------------------------"
   ]
  },
  {
   "cell_type": "markdown",
   "metadata": {},
   "source": [
    "### Define Initial State"
   ]
  },
  {
   "cell_type": "code",
   "execution_count": 11,
   "metadata": {},
   "outputs": [
    {
     "name": "stdout",
     "output_type": "stream",
     "text": [
      "[1.+0.j 0.+0.j 0.+0.j 0.+0.j 0.+0.j 0.+0.j 0.+0.j 0.+0.j 0.+0.j 0.+0.j\n",
      " 0.+0.j 0.+0.j 0.+0.j 0.+0.j 0.+0.j 0.+0.j 0.+0.j 0.+0.j 0.+0.j 0.+0.j\n",
      " 0.+0.j 0.+0.j 0.+0.j 0.+0.j 0.+0.j 0.+0.j 0.+0.j 0.+0.j 0.+0.j 0.+0.j\n",
      " 0.+0.j 0.+0.j 0.+0.j 0.+0.j 0.+0.j 0.+0.j 0.+0.j 0.+0.j 0.+0.j 0.+0.j\n",
      " 0.+0.j 0.+0.j 0.+0.j 0.+0.j 0.+0.j 0.+0.j 0.+0.j 0.+0.j 0.+0.j 0.+0.j\n",
      " 0.+0.j 0.+0.j 0.+0.j 0.+0.j 0.+0.j 0.+0.j 0.+0.j 0.+0.j 0.+0.j 0.+0.j\n",
      " 0.+0.j 0.+0.j 0.+0.j 0.+0.j]\n"
     ]
    }
   ],
   "source": [
    "\n",
    "# initialize 0 state based on width of first term's Pauli string\n",
    "dimension = len(H_terms[0][1])\n",
    "initial_state = np.zeros((2**dimension), dtype=complex)\n",
    "initial_state[0] = 1  # Set the amplitude for |00> state\n",
    "print(initial_state)\n"
   ]
  },
  {
   "cell_type": "markdown",
   "metadata": {},
   "source": [
    "### Perform Test 1 - Classical Evolution - Simple Single Step Test\n",
    "Here, a first order approximation is computed, along with the same first order calculation done in a quantum circuit execution\n",
    "This is compared to an exact classical calculation of the evolved state energy."
   ]
  },
  {
   "cell_type": "code",
   "execution_count": 12,
   "metadata": {},
   "outputs": [
    {
     "name": "stdout",
     "output_type": "stream",
     "text": [
      "========= Simple Classical Calculation of Energy\n",
      "\n",
      "[((-0.2+0j), 'IIIIZZ'), ((-0.2+0j), 'IIIZZI'), ((-0.2+0j), 'IIZZII'), ((-0.2+0j), 'IZZIII'), ((-0.2+0j), 'ZZIIII'), ((-0.4592201188381077+0j), 'IIIIIZ'), ((-0.4592201188381077+0j), 'IIIIZI'), ((-0.4592201188381077+0j), 'IIIZII'), ((-0.4592201188381077+0j), 'IIZIII'), ((-0.4592201188381077+0j), 'IZIIII'), ((-0.4592201188381077+0j), 'ZIIIII'), ((-1.1086554390135441+0j), 'IIIIIX'), ((-1.1086554390135441+0j), 'IIIIXI'), ((-1.1086554390135441+0j), 'IIIXII'), ((-1.1086554390135441+0j), 'IIXIII'), ((-1.1086554390135441+0j), 'IXIIII'), ((-1.1086554390135441+0j), 'XIIIII')]\n",
      "[1.+0.j 0.+0.j 0.+0.j 0.+0.j 0.+0.j 0.+0.j 0.+0.j 0.+0.j 0.+0.j 0.+0.j\n",
      " 0.+0.j 0.+0.j 0.+0.j 0.+0.j 0.+0.j 0.+0.j 0.+0.j 0.+0.j 0.+0.j 0.+0.j\n",
      " 0.+0.j 0.+0.j 0.+0.j 0.+0.j 0.+0.j 0.+0.j 0.+0.j 0.+0.j 0.+0.j 0.+0.j\n",
      " 0.+0.j 0.+0.j 0.+0.j 0.+0.j 0.+0.j 0.+0.j 0.+0.j 0.+0.j 0.+0.j 0.+0.j\n",
      " 0.+0.j 0.+0.j 0.+0.j 0.+0.j 0.+0.j 0.+0.j 0.+0.j 0.+0.j 0.+0.j 0.+0.j\n",
      " 0.+0.j 0.+0.j 0.+0.j 0.+0.j 0.+0.j 0.+0.j 0.+0.j 0.+0.j 0.+0.j 0.+0.j\n",
      " 0.+0.j 0.+0.j 0.+0.j 0.+0.j]\n",
      ".\n",
      "For evolution time = 0.5 :\n",
      "\n",
      "  Estimated energy: (-5.451249856321356+0j)\n",
      "  Theoretical energy: -5.470546824238842\n",
      "  Theoretical energy (exact): -3.7553207130286457\n",
      "\n"
     ]
    }
   ],
   "source": [
    "print(\"========= Simple Classical Calculation of Energy\\n\")\n",
    "print(H_terms)\n",
    "print(initial_state)\n",
    "\n",
    "total_evolution_time = 0.5\n",
    "\n",
    "# Compute theoretical energy, using simple 1st order evolution\n",
    "# This returns an increasing erroneous result unless time is very small < 0.1\n",
    "theoretical_energy = compute_theoretical_energy(initial_state, H_terms, t=total_evolution_time)\n",
    "\n",
    "# Compute the total energy using simple 1st order evolution incorporated into a quantum circuit\n",
    "total_energy = estimate_energy_classical(initial_state, H_terms, t=total_evolution_time)\n",
    "\n",
    "# Compute the theoretical energy using an exact, but slower, classical computation\n",
    "theoretical_energies_exact, time_values = compute_theoretical_energy2(initial_state, H, total_evolution_time, total_evolution_time)\n",
    "\n",
    "print(\"\")\n",
    "print(f\"For evolution time = {total_evolution_time} :\")\n",
    "print(\"\")\n",
    "print(f\"  Estimated energy: {total_energy}\")\n",
    "print(f\"  Theoretical energy: {theoretical_energy}\")\n",
    "print(f\"  Theoretical energy (exact): {theoretical_energies_exact[0]}\")\n",
    "print(\"\")\n"
   ]
  },
  {
   "cell_type": "markdown",
   "metadata": {},
   "source": [
    "### ------------------------------------------------------------------"
   ]
  },
  {
   "cell_type": "markdown",
   "metadata": {},
   "source": [
    "### Perform Test 2 - Quantum Evolution - Calculate Exact Theoretical Energy and Time Arrays for Multiple Steps\n",
    "Here, we create an array containing a series of time values for increasing longer evolution times along with the computed theoretical energy at each time step, given the initial state.  Note that the energy remains constant since these are a time-independent Hamiltonians."
   ]
  },
  {
   "cell_type": "code",
   "execution_count": 13,
   "metadata": {},
   "outputs": [
    {
     "name": "stdout",
     "output_type": "stream",
     "text": [
      "========= Exact Classical Calculation of Energy and Time Arrays\n",
      "\n",
      "SparsePauliOp(['IIIIZZ', 'IIIZZI', 'IIZZII', 'IZZIII', 'ZZIIII', 'IIIIIZ', 'IIIIZI', 'IIIZII', 'IIZIII', 'IZIIII', 'ZIIIII', 'IIIIIX', 'IIIIXI', 'IIIXII', 'IIXIII', 'IXIIII', 'XIIIII'],\n",
      "              coeffs=[-0.2  +0.j, -0.2  +0.j, -0.2  +0.j, -0.2  +0.j, -0.2  +0.j, -0.459+0.j,\n",
      " -0.459+0.j, -0.459+0.j, -0.459+0.j, -0.459+0.j, -0.459+0.j, -1.109+0.j,\n",
      " -1.109+0.j, -1.109+0.j, -1.109+0.j, -1.109+0.j, -1.109+0.j])\n",
      "[((-0.2+0j), 'IIIIZZ'), ((-0.2+0j), 'IIIZZI'), ((-0.2+0j), 'IIZZII'), ((-0.2+0j), 'IZZIII'), ((-0.2+0j), 'ZZIIII'), ((-0.4592201188381077+0j), 'IIIIIZ'), ((-0.4592201188381077+0j), 'IIIIZI'), ((-0.4592201188381077+0j), 'IIIZII'), ((-0.4592201188381077+0j), 'IIZIII'), ((-0.4592201188381077+0j), 'IZIIII'), ((-0.4592201188381077+0j), 'ZIIIII'), ((-1.1086554390135441+0j), 'IIIIIX'), ((-1.1086554390135441+0j), 'IIIIXI'), ((-1.1086554390135441+0j), 'IIIXII'), ((-1.1086554390135441+0j), 'IIXIII'), ((-1.1086554390135441+0j), 'IXIIII'), ((-1.1086554390135441+0j), 'XIIIII')]\n",
      "[1.+0.j 0.+0.j 0.+0.j 0.+0.j 0.+0.j 0.+0.j 0.+0.j 0.+0.j 0.+0.j 0.+0.j\n",
      " 0.+0.j 0.+0.j 0.+0.j 0.+0.j 0.+0.j 0.+0.j 0.+0.j 0.+0.j 0.+0.j 0.+0.j\n",
      " 0.+0.j 0.+0.j 0.+0.j 0.+0.j 0.+0.j 0.+0.j 0.+0.j 0.+0.j 0.+0.j 0.+0.j\n",
      " 0.+0.j 0.+0.j 0.+0.j 0.+0.j 0.+0.j 0.+0.j 0.+0.j 0.+0.j 0.+0.j 0.+0.j\n",
      " 0.+0.j 0.+0.j 0.+0.j 0.+0.j 0.+0.j 0.+0.j 0.+0.j 0.+0.j 0.+0.j 0.+0.j\n",
      " 0.+0.j 0.+0.j 0.+0.j 0.+0.j 0.+0.j 0.+0.j 0.+0.j 0.+0.j 0.+0.j 0.+0.j\n",
      " 0.+0.j 0.+0.j 0.+0.j 0.+0.j]\n",
      "... getting exact energies\n",
      "............\n",
      "... got exact energies [-3.755 -3.755 -3.755 -3.755 -3.755 -3.755 -3.755 -3.755 -3.755 -3.755\n",
      " -3.755 -3.755 -3.755]\n"
     ]
    }
   ],
   "source": [
    "print(\"========= Exact Classical Calculation of Energy and Time Arrays\\n\")\n",
    "print(H)\n",
    "print(H_terms)\n",
    "print(initial_state)\n",
    "\n",
    "# total evolution time\n",
    "total_evolution_time = 6\n",
    "\n",
    "# for Trotterized evolution, specify size of each step\n",
    "step_size = 0.5\n",
    "\n",
    "# DEVNOTE: in the code below, the compute_theoretical_energy2 function returns the time_values array that it created\n",
    "# As we scale to more qubits, it will not be possible to compute theoretical energies,\n",
    "# so we will likely want to create the time_values array independent of that function.\n",
    "# time_values = ...\n",
    "\n",
    "########### Obtain exact energies and time values for successively longer evolution times\n",
    "\n",
    "print(f\"... getting exact energies\")\n",
    "\n",
    "# Create array of theoretical energies (for comparison)\n",
    "# We compute this in an array function so that we can do the matrix conversion just once for all the steps\n",
    "theoretical_energies, time_values = compute_theoretical_energy2(initial_state, H, total_evolution_time, step_size)\n",
    "\n",
    "print(f\"\\n... got exact energies {theoretical_energies}\")\n"
   ]
  },
  {
   "cell_type": "markdown",
   "metadata": {},
   "source": [
    "### Perform Test 2 - Quantum Evolution - Compute Multiple Observables for Multiple Steps\n",
    "Here, we populate arrays ot energy and other observables at increasing time steps using quantum circuit evolution and measurement."
   ]
  },
  {
   "cell_type": "code",
   "execution_count": 14,
   "metadata": {},
   "outputs": [
    {
     "name": "stdout",
     "output_type": "stream",
     "text": [
      "========= Quantum Simulation of Evolution and Calculation of Observables\n",
      "\n",
      "SparsePauliOp(['IIIIZZ', 'IIIZZI', 'IIZZII', 'IZZIII', 'ZZIIII', 'IIIIIZ', 'IIIIZI', 'IIIZII', 'IIZIII', 'IZIIII', 'ZIIIII', 'IIIIIX', 'IIIIXI', 'IIIXII', 'IIXIII', 'IXIIII', 'XIIIII'],\n",
      "              coeffs=[-0.2  +0.j, -0.2  +0.j, -0.2  +0.j, -0.2  +0.j, -0.2  +0.j, -0.459+0.j,\n",
      " -0.459+0.j, -0.459+0.j, -0.459+0.j, -0.459+0.j, -0.459+0.j, -1.109+0.j,\n",
      " -1.109+0.j, -1.109+0.j, -1.109+0.j, -1.109+0.j, -1.109+0.j])\n",
      "[((-0.2+0j), 'IIIIZZ'), ((-0.2+0j), 'IIIZZI'), ((-0.2+0j), 'IIZZII'), ((-0.2+0j), 'IZZIII'), ((-0.2+0j), 'ZZIIII'), ((-0.4592201188381077+0j), 'IIIIIZ'), ((-0.4592201188381077+0j), 'IIIIZI'), ((-0.4592201188381077+0j), 'IIIZII'), ((-0.4592201188381077+0j), 'IIZIII'), ((-0.4592201188381077+0j), 'IZIIII'), ((-0.4592201188381077+0j), 'ZIIIII'), ((-1.1086554390135441+0j), 'IIIIIX'), ((-1.1086554390135441+0j), 'IIIIXI'), ((-1.1086554390135441+0j), 'IIIXII'), ((-1.1086554390135441+0j), 'IIXIII'), ((-1.1086554390135441+0j), 'IXIIII'), ((-1.1086554390135441+0j), 'XIIIII')]\n",
      "[1.+0.j 0.+0.j 0.+0.j 0.+0.j 0.+0.j 0.+0.j 0.+0.j 0.+0.j 0.+0.j 0.+0.j\n",
      " 0.+0.j 0.+0.j 0.+0.j 0.+0.j 0.+0.j 0.+0.j 0.+0.j 0.+0.j 0.+0.j 0.+0.j\n",
      " 0.+0.j 0.+0.j 0.+0.j 0.+0.j 0.+0.j 0.+0.j 0.+0.j 0.+0.j 0.+0.j 0.+0.j\n",
      " 0.+0.j 0.+0.j 0.+0.j 0.+0.j 0.+0.j 0.+0.j 0.+0.j 0.+0.j 0.+0.j 0.+0.j\n",
      " 0.+0.j 0.+0.j 0.+0.j 0.+0.j 0.+0.j 0.+0.j 0.+0.j 0.+0.j 0.+0.j 0.+0.j\n",
      " 0.+0.j 0.+0.j 0.+0.j 0.+0.j 0.+0.j 0.+0.j 0.+0.j 0.+0.j 0.+0.j 0.+0.j\n",
      " 0.+0.j 0.+0.j 0.+0.j 0.+0.j]\n",
      ".............\n",
      "... cumulative elapsed execution time = 8.423\n"
     ]
    }
   ],
   "source": [
    "print(\"========= Quantum Simulation of Evolution and Calculation of Observables\\n\")\n",
    "print(H)\n",
    "print(H_terms)\n",
    "print(initial_state)\n",
    "\n",
    "########### Obtain multiple observables for successively longer evolution times\n",
    "\n",
    "observables_list = []\n",
    "\n",
    "ts = time.time()\n",
    "\n",
    "# loop over successively longer time steps to create arrays of obeservable values\n",
    "# by creating an increasingly long quantum circuit and computing observables from execution results\n",
    "for step in range(len(time_values)):\n",
    "    print(\".\", end=\"\")\n",
    "\n",
    "    # create a quantum circuit for this step, from the first of the Hamiltonians in the first element of the array\n",
    "    qc = create_quantum_test_circuit(initial_state, H_terms_multiple[0], step, step_size)\n",
    "    \n",
    "    # Obtain all the estimated observables by executing the circuit on the backend and compute each observable\n",
    "    observables = obs.estimate_expectation_multiple(backend, qc, H_terms_multiple, num_shots=10000)\n",
    "\n",
    "    # append these observables to a list for plotting\n",
    "    observables_list.append(observables)\n",
    "    \n",
    "print(\"\")\n",
    "\n",
    "print(f\"... cumulative elapsed execution time = {round(time.time()-ts, 3)}\")\n"
   ]
  },
  {
   "cell_type": "markdown",
   "metadata": {},
   "source": [
    "### ------------------------------------------------------------------"
   ]
  },
  {
   "cell_type": "markdown",
   "metadata": {},
   "source": [
    "### Plot Results\n",
    "Generate a plot showing the expectation value of multiple observables over successively longer Trotterized evolution times"
   ]
  },
  {
   "cell_type": "code",
   "execution_count": 15,
   "metadata": {},
   "outputs": [
    {
     "name": "stderr",
     "output_type": "stream",
     "text": [
      "C:\\Users\\m\\.conda\\envs\\qiskit-test-1.2\\Lib\\site-packages\\matplotlib\\cbook.py:1699: ComplexWarning: Casting complex values to real discards the imaginary part\n",
      "  return math.isfinite(val)\n",
      "C:\\Users\\m\\.conda\\envs\\qiskit-test-1.2\\Lib\\site-packages\\matplotlib\\cbook.py:1345: ComplexWarning: Casting complex values to real discards the imaginary part\n",
      "  return np.asarray(x, float)\n"
     ]
    },
    {
     "data": {
      "image/png": "[encoded data removed]",
      "text/plain": [
       "<Figure size 1000x600 with 1 Axes>"
      ]
     },
     "metadata": {},
     "output_type": "display_data"
    }
   ],
   "source": [
    "\n",
    "########### Transform Data for Plotting\n",
    "\n",
    "observables_values_list = []\n",
    "\n",
    "# pre-populate the observables value arrays with empty arrays\n",
    "for i in range(len(H_terms_multiple)):\n",
    "    observables_values_list.append([])\n",
    "\n",
    "# for each step, put the values of the computed observables into the values array, for plotting\n",
    "for step in range(len(time_values)):\n",
    "    for j in range(len(observables_list[step])):\n",
    "        observables_values_list[j].append(observables_list[step][j])\n",
    "\n",
    "########### Plot Results\n",
    "\n",
    "# Plot the results\n",
    "plt.figure(figsize=(10, 6))\n",
    "\n",
    "marker=['o', '*', 'd', '1', '2']\n",
    "\n",
    "#####\n",
    "for i in range(len(H_terms_multiple)):\n",
    "    plt.plot(time_values, observables_values_list[i], label= H_terms_names[i], marker=marker[i])\n",
    "\n",
    "plt.plot(time_values, theoretical_energies, label='Theoretical Energy', marker='*')\n",
    "\n",
    "#####\n",
    "for j in range(len(H_terms_multiple)):\n",
    "    plt.plot(time_values, observables_values_list[j], linestyle='--')\n",
    "    \n",
    "plt.plot(time_values, theoretical_energies, linestyle='--')\n",
    "\n",
    "plt.xlabel('Time')\n",
    "plt.ylabel('Observables Expectation Value')\n",
    "plt.title('Expectation Value of Observables over Time')\n",
    "plt.legend()\n",
    "plt.grid(True)\n",
    "plt.show()\n"
   ]
  },
  {
   "cell_type": "markdown",
   "metadata": {},
   "source": [
    "### ------------------------------------------------------------------"
   ]
  },
  {
   "cell_type": "markdown",
   "metadata": {},
   "source": [
    "### Test Commuting Groups Performance improvement \n",
    "Generate a plot showing the expectation value of multiple observables over successively longer Trotterized evolution times.\n",
    "\n",
    "DEVNOTE: This version does not work yet; see CommutingTermsExample-TL for a version that works"
   ]
  },
  {
   "cell_type": "code",
   "execution_count": 16,
   "metadata": {},
   "outputs": [
    {
     "name": "stdout",
     "output_type": "stream",
     "text": [
      "... elapsed time = 0.769\n",
      "[(-2.4128228272137027+0j), (0.30748000000000003+0j), (-2.6112+0j)]\n",
      "\n",
      " ============= H_terms:\n",
      "[((-0.2+0j), 'IIIIZZ'), ((-0.2+0j), 'IIIZZI'), ((-0.2+0j), 'IIZZII'), ((-0.2+0j), 'IZZIII'), ((-0.2+0j), 'ZZIIII'), ((-0.4592201188381077+0j), 'IIIIIZ'), ((-0.4592201188381077+0j), 'IIIIZI'), ((-0.4592201188381077+0j), 'IIIZII'), ((-0.4592201188381077+0j), 'IIZIII'), ((-0.4592201188381077+0j), 'IZIIII'), ((-0.4592201188381077+0j), 'ZIIIII'), ((-1.1086554390135441+0j), 'IIIIIX'), ((-1.1086554390135441+0j), 'IIIIXI'), ((-1.1086554390135441+0j), 'IIIXII'), ((-1.1086554390135441+0j), 'IIXIII'), ((-1.1086554390135441+0j), 'IXIIII'), ((-1.1086554390135441+0j), 'XIIIII')]\n",
      "\n",
      " ============= H_terms grouped:\n",
      "Group 1:\n",
      "  IIIIZZ: (-0.2+0j)\n",
      "  IIIZZI: (-0.2+0j)\n",
      "  IIZZII: (-0.2+0j)\n",
      "  IZZIII: (-0.2+0j)\n",
      "  ZZIIII: (-0.2+0j)\n",
      "  IIIIIZ: (-0.4592201188381077+0j)\n",
      "  IIIIZI: (-0.4592201188381077+0j)\n",
      "  IIIZII: (-0.4592201188381077+0j)\n",
      "  IIZIII: (-0.4592201188381077+0j)\n",
      "  IZIIII: (-0.4592201188381077+0j)\n",
      "  ZIIIII: (-0.4592201188381077+0j)\n",
      "Group 2:\n",
      "  IIIIIX: (-1.1086554390135441+0j)\n",
      "  XIIIII: (-1.1086554390135441+0j)\n",
      "  IIIIXI: (-1.1086554390135441+0j)\n",
      "  IIIXII: (-1.1086554390135441+0j)\n",
      "  IIXIII: (-1.1086554390135441+0j)\n",
      "  IXIIII: (-1.1086554390135441+0j)\n",
      "Group 1:\n",
      "  (-1.1086554390135441+0j): IXIIII\n",
      "  (-1.1086554390135441+0j): IXIIII\n",
      "  (-1.1086554390135441+0j): IXIIII\n",
      "  (-1.1086554390135441+0j): IXIIII\n",
      "  (-1.1086554390135441+0j): IXIIII\n",
      "  (-1.1086554390135441+0j): IXIIII\n",
      "  (-1.1086554390135441+0j): IXIIII\n",
      "  (-1.1086554390135441+0j): IXIIII\n",
      "  (-1.1086554390135441+0j): IXIIII\n",
      "  (-1.1086554390135441+0j): IXIIII\n",
      "  (-1.1086554390135441+0j): IXIIII\n",
      "Group 2:\n",
      "  (-1.1086554390135441+0j): IXIIII\n",
      "  (-1.1086554390135441+0j): IXIIII\n",
      "  (-1.1086554390135441+0j): IXIIII\n",
      "  (-1.1086554390135441+0j): IXIIII\n",
      "  (-1.1086554390135441+0j): IXIIII\n",
      "  (-1.1086554390135441+0j): IXIIII\n",
      "Group 1:\n",
      "  IXIIII: (-1.1086554390135441+0j)\n",
      "  IXIIII: (-1.1086554390135441+0j)\n",
      "  IXIIII: (-1.1086554390135441+0j)\n",
      "  IXIIII: (-1.1086554390135441+0j)\n",
      "  IXIIII: (-1.1086554390135441+0j)\n",
      "  IXIIII: (-1.1086554390135441+0j)\n",
      "  IXIIII: (-1.1086554390135441+0j)\n",
      "  IXIIII: (-1.1086554390135441+0j)\n",
      "  IXIIII: (-1.1086554390135441+0j)\n",
      "  IXIIII: (-1.1086554390135441+0j)\n",
      "  IXIIII: (-1.1086554390135441+0j)\n",
      "Group 2:\n",
      "  IXIIII: (-1.1086554390135441+0j)\n",
      "  IXIIII: (-1.1086554390135441+0j)\n",
      "  IXIIII: (-1.1086554390135441+0j)\n",
      "  IXIIII: (-1.1086554390135441+0j)\n",
      "  IXIIII: (-1.1086554390135441+0j)\n",
      "  IXIIII: (-1.1086554390135441+0j)\n"
     ]
    }
   ],
   "source": [
    "\"\"\"\n",
    "num_qubits = 6\n",
    "\n",
    "#H_type = \"test-1\"\n",
    "#H_type = \"test-4\"\n",
    "H_type = \"ising\"\n",
    "\n",
    "H_terms, H = get_hamiltonian(H_type, num_qubits)\n",
    "print(f\"... using H_terms = {H_terms}\")\n",
    "print(f\"    SparsePauliOp = \", H)\n",
    "\n",
    "H_terms_multiple = [H_terms, H_terms_spin_correlation, H_terms_magnetization] #pass this into a function, and check if each term is in.\n",
    "H_terms_names = [\"Energy\", \"Spin Correlation\", \"Magnetization\"]\n",
    "\n",
    "#H_terms_multiple = [H_terms, H_terms_magnetization] #pass this into a function, and check if each term is in.\n",
    "#H_terms_names = [\"Energy\", \"Magnetization\"]\n",
    "\"\"\"\n",
    "\n",
    "#obs.verbose = True\n",
    "\n",
    "step = 2\n",
    "step_size = 0.5\n",
    "\n",
    "ts = time.time()\n",
    "\n",
    "# create a quantum circuit for this step, from the first of the Hamiltonians in the first element of the array\n",
    "qc = create_quantum_test_circuit(initial_state, H_terms_multiple[0], step, step_size)\n",
    "\n",
    "# Obtain all the estimated observables by executing the circuit on the backend and compute each observable\n",
    "observables = obs.estimate_expectation_multiple(backend, qc, H_terms_multiple, num_shots=10000)\n",
    "\n",
    "print(f\"... elapsed time = {round(time.time()-ts, 3)}\")\n",
    "\n",
    "print(observables)\n",
    "\n",
    "# Get groups for original Hamiltonian\n",
    "groups = obs.group_commuting_terms_2(obs.swap_pauli_list(H_terms))\n",
    "\n",
    "\n",
    "print(\"\\n ============= H_terms:\")\n",
    "print(H_terms)\n",
    "\n",
    "print(\"\\n ============= H_terms grouped:\")\n",
    "for i, group in enumerate(groups):\n",
    "    print(f\"Group {i+1}:\")\n",
    "    for coeff, pauli in group:\n",
    "        print(f\"  {coeff}: {pauli}\")\n",
    "        \n",
    "for i, group in enumerate(groups):\n",
    "    print(f\"Group {i+1}:\")\n",
    "    #for pauli, coeff in group:\n",
    "    for j, term in enumerate(group):\n",
    "        print(f\"  {pauli}: {coeff}\")\n",
    "        group[j] = (coeff, pauli)\n",
    "        \n",
    "for i, group in enumerate(groups):\n",
    "    print(f\"Group {i+1}:\")\n",
    "    for coeff, pauli in group:\n",
    "        print(f\"  {coeff}: {pauli}\")\n",
    "        \n"
   ]
  },
  {
   "cell_type": "code",
   "execution_count": null,
   "metadata": {},
   "outputs": [],
   "source": []
  }
 ],
 "metadata": {
  "kernelspec": {
   "display_name": "Python 3 (ipykernel)",
   "language": "python",
   "name": "python3"
  },
  "language_info": {
   "codemirror_mode": {
    "name": "ipython",
    "version": 3
   },
   "file_extension": ".py",
   "mimetype": "text/x-python",
   "name": "python",
   "nbconvert_exporter": "python",
   "pygments_lexer": "ipython3",
   "version": "3.11.5"
  }
 },
 "nbformat": 4,
 "nbformat_minor": 4
}
