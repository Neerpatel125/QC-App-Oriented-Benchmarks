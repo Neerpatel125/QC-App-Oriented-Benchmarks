{
 "cells": [
  {
   "cell_type": "markdown",
   "id": "444c2c24-909a-4dd3-a80f-d4df84bebc3d",
   "metadata": {},
   "source": [
    "## Example showing generalized processing of commuting terms"
   ]
  },
  {
   "cell_type": "markdown",
   "id": "3d55c583-3ae7-4559-99cf-826d4702a7be",
   "metadata": {},
   "source": [
    "## Extract Qubit-wise Commuting Groups from a Hamiltonian -  Working Example \n"
   ]
  },
  {
   "cell_type": "code",
   "execution_count": 1,
   "id": "67e7efbd-318c-44c2-ad58-8d4b03403e49",
   "metadata": {},
   "outputs": [
    {
     "name": "stdout",
     "output_type": "stream",
     "text": [
      "Group 1:\n",
      "  XXII: 0.5\n",
      "  IIZZ: 0.4\n",
      "  XIII: 0.7\n",
      "Group 2:\n",
      "  IYYI: 0.3\n",
      "  XYII: 0.2\n",
      "  IIYX: 0.6\n",
      "Group 3:\n",
      "  IZXI: 0.1\n"
     ]
    }
   ],
   "source": [
    "from qiskit.quantum_info import Pauli, SparsePauliOp\n",
    "from itertools import combinations\n",
    "import numpy as np\n",
    "from math import sin, cos, pi\n",
    "import time\n",
    "\n",
    "# Observable Helper Functions\n",
    "from observables import *\n",
    "    \n",
    "# Example usage\n",
    "hamiltonian = [\n",
    "    ('XXII', 0.5),\n",
    "    ('IYYI', 0.3),\n",
    "    ('IIZZ', 0.4),\n",
    "    ('XYII', 0.2),\n",
    "    ('IIYX', 0.6),\n",
    "    ('IZXI', 0.1),\n",
    "    ('XIII', 0.7)\n",
    "]\n",
    "\n",
    "''' another test\n",
    "H = SparsePauliOp(['ZZII', 'ZIIZ', 'IZZI', 'IIZZ', 'XIII', 'IXII', 'IIIX', 'IIXI'],\n",
    "              coeffs=[1.+0.j, 1.+0.j, 1.+0.j, 1.+0.j, 2.+0.j, 2.+0.j, 2.+0.j, 2.+0.j])\n",
    "hamiltonian = [\n",
    "    ('ZZII', 0.5),\n",
    "    ('ZIIZ', 0.3),\n",
    "    ('IZZI', 0.4),\n",
    "    ('IIZZ', 0.2),\n",
    "    ('XIII', 0.6),\n",
    "    ('IXII', 0.1),\n",
    "    ('IIIX', 0.7),\n",
    "    ('IIXI', 0.7)\n",
    "]\n",
    "'''\n",
    "\n",
    "groups = group_commuting_terms_2(hamiltonian)\n",
    "for i, group in enumerate(groups):\n",
    "    print(f\"Group {i+1}:\")\n",
    "    for pauli, coeff in group:\n",
    "        print(f\"  {pauli}: {coeff}\")\n",
    "\n"
   ]
  },
  {
   "cell_type": "markdown",
   "id": "651bce66-c3c0-4080-a36b-959b5e3590df",
   "metadata": {},
   "source": [
    "### Create a Test Hamiltonian\n",
    "Several options are provided here for testing.\n",
    "We use the Ising Hamiltonian for comparison with alternative computation of energy in Observables_generalized."
   ]
  },
  {
   "cell_type": "code",
   "execution_count": 2,
   "id": "8ec99e2e-2e87-4555-85a1-d2aeedf0e604",
   "metadata": {},
   "outputs": [
    {
     "name": "stdout",
     "output_type": "stream",
     "text": [
      "************ The test Hamiltonian\n",
      "[('IIIIZZ', (-0.2+0j)), ('IIIZZI', (-0.2+0j)), ('IIZZII', (-0.2+0j)), ('IZZIII', (-0.2+0j)), ('ZZIIII', (-0.2+0j)), ('IIIIIZ', (-0.4592201188381077+0j)), ('IIIIZI', (-0.4592201188381077+0j)), ('IIIZII', (-0.4592201188381077+0j)), ('IIZIII', (-0.4592201188381077+0j)), ('IZIIII', (-0.4592201188381077+0j)), ('ZIIIII', (-0.4592201188381077+0j)), ('IIIIIX', (-1.1086554390135441+0j)), ('IIIIXI', (-1.1086554390135441+0j)), ('IIIXII', (-1.1086554390135441+0j)), ('IIXIII', (-1.1086554390135441+0j)), ('IXIIII', (-1.1086554390135441+0j)), ('XIIIII', (-1.1086554390135441+0j))]\n"
     ]
    }
   ],
   "source": [
    "\n",
    "'''\n",
    "# Define the Hamiltonian terms\n",
    "H_terms = [\n",
    "    ('ZI', 0.5),\n",
    "    ('XX', 0.3),\n",
    "    ('YY', -0.1),\n",
    "    #(-0.2, 'ZZ')\n",
    "]\n",
    "\n",
    "hamiltonian = H_terms\n",
    "'''\n",
    "# Example usage\n",
    "hamiltonian = [\n",
    "    ('XXII', 0.5),\n",
    "    ('IYYI', 0.3),\n",
    "    ('IIZZ', 0.4),\n",
    "    ('XYII', 0.2),\n",
    "    ('IIYX', 0.6),\n",
    "    ('IZXI', 0.1),\n",
    "    ('XIII', 0.7)\n",
    "]\n",
    "\n",
    "num_qubits = 6\n",
    "\n",
    "###########################################\n",
    "\n",
    "# classical simple Ising is ZZ\n",
    "# TFIM ZZ + X  is transverse field\n",
    "# + longitudinal field -> ZZ, X, and Z\n",
    "def get_ising_hamiltonian(L, J, h, alpha=0):\n",
    "\n",
    "    # List of Hamiltonian terms as 3-tuples containing\n",
    "    # (1) the Pauli string,\n",
    "    # (2) the qubit indices corresponding to the Pauli string,\n",
    "    # (3) the coefficient.\n",
    "    ZZ_tuples = [(\"ZZ\", [i, i + 1], -J) for i in range(0, L - 1)]\n",
    "    Z_tuples = [(\"Z\", [i], -h * sin(alpha)) for i in range(0, L)]\n",
    "    X_tuples = [(\"X\", [i], -h * cos(alpha)) for i in range(0, L)]\n",
    "\n",
    "    # We create the Hamiltonian as a SparsePauliOp, via the method\n",
    "    # `from_sparse_list`, and multiply by the interaction term.\n",
    "    hamiltonian = SparsePauliOp.from_sparse_list([*ZZ_tuples, *Z_tuples, *X_tuples], num_qubits=L)\n",
    "    return hamiltonian.simplify()\n",
    "    \n",
    "H = get_ising_hamiltonian(L=num_qubits, J=0.2, h=1.2, alpha=pi / 8)\n",
    "H_terms = H.to_list()\n",
    "\n",
    "hamiltonian = H_terms\n",
    "\n",
    "print(f\"************ The test Hamiltonian\")\n",
    "print(hamiltonian)\n"
   ]
  },
  {
   "cell_type": "markdown",
   "id": "a335dc45-eccb-4f9f-be2a-2ed5ff9fb4a9",
   "metadata": {},
   "source": [
    "### Compute Energy of the Hamiltonian \n",
    "Here, we convert the Hamiltonian to a set of circuits, using commuting groups if specified,\n",
    "and execute the circuits in order to compute the expectation value "
   ]
  },
  {
   "cell_type": "code",
   "execution_count": 6,
   "id": "0607c377-aa64-4fd7-bf3a-9353a823413b",
   "metadata": {},
   "outputs": [
    {
     "name": "stdout",
     "output_type": "stream",
     "text": [
      "\n",
      "******** creating commuting groups for the Hamiltonian and circuits from the groups:\n",
      "Group 1:\n",
      "  IIIIZZ: (-0.2+0j)\n",
      "  IIIZZI: (-0.2+0j)\n",
      "  IIZZII: (-0.2+0j)\n",
      "  IZZIII: (-0.2+0j)\n",
      "  ZZIIII: (-0.2+0j)\n",
      "  IIIIIZ: (-0.4592201188381077+0j)\n",
      "  IIIIZI: (-0.4592201188381077+0j)\n",
      "  IIIZII: (-0.4592201188381077+0j)\n",
      "  IIZIII: (-0.4592201188381077+0j)\n",
      "  IZIIII: (-0.4592201188381077+0j)\n",
      "  ZIIIII: (-0.4592201188381077+0j)\n",
      "Group 2:\n",
      "  IIIIIX: (-1.1086554390135441+0j)\n",
      "  XIIIII: (-1.1086554390135441+0j)\n",
      "  IIIIXI: (-1.1086554390135441+0j)\n",
      "  IIIXII: (-1.1086554390135441+0j)\n",
      "  IIXIII: (-1.1086554390135441+0j)\n",
      "  IXIIII: (-1.1086554390135441+0j)\n",
      "\n",
      "... constructed 2 circuits for this Hamiltonian.\n",
      "\n",
      "************ Compute energy of the Hamiltonian 3 times\n",
      "\n",
      "... total execution time = 0.056\n",
      "Total Energy: (-3.7011871466705624+0j)\n",
      "\n",
      "... total execution time = 0.032\n",
      "Total Energy: (-3.7141792025965024+0j)\n",
      "\n",
      "... total execution time = 0.056\n",
      "Total Energy: (-3.7293366011767657+0j)\n",
      "\n"
     ]
    }
   ],
   "source": [
    "# Flag to control optimize by use of commuting groups\n",
    "use_commuting_groups = True\n",
    "\n",
    "# Create circuits from the Hamiltonian directly\n",
    "if not use_commuting_groups:   \n",
    "    print(\"\\n******** creating circuits from Hamltonian:\")\n",
    "    circuits = create_circuits_ham(num_qubits, hamiltonian)\n",
    "\n",
    "# Convert the Hamiltonian to groups and create the circuits from the groups\n",
    "else:   \n",
    "    print(\"\\n******** creating commuting groups for the Hamiltonian and circuits from the groups:\")\n",
    "    groups = group_commuting_terms_2(hamiltonian)\n",
    "    for i, group in enumerate(groups):\n",
    "        print(f\"Group {i+1}:\")\n",
    "        for pauli, coeff in group:\n",
    "            print(f\"  {pauli}: {coeff}\")     \n",
    "    circuits = create_circuits(num_qubits, groups)\n",
    "\n",
    "print(f\"\\n... constructed {len(circuits)} circuits for this Hamiltonian.\")\n",
    "\n",
    "N = 3\n",
    "\n",
    "print(f\"\\n************ Compute energy of the Hamiltonian {N} times\")\n",
    "\n",
    "# Calculate the total energy\n",
    "for i in range(N):\n",
    "    ts = time.time()\n",
    "    \n",
    "    # Compile and execute the circuits\n",
    "    transpiled_circuits = transpile([circuit for circuit, group in circuits], backend)\n",
    "    \n",
    "    # Execute all of the circuits to obtain array of result objects\n",
    "    results = backend.run(transpiled_circuits).result()\n",
    "\n",
    "    # Compute the total energy for the Hamiltonian\n",
    "    total_energy = calculate_expectation(num_qubits, results, circuits, is_commuting=use_commuting_groups)\n",
    "\n",
    "    print(\"\")\n",
    "    print(f\"... total execution time = {round(time.time()-ts, 3)}\")\n",
    "    print(f\"Total Energy: {total_energy}\")\n",
    "    \n",
    "print(\"\")"
   ]
  },
  {
   "cell_type": "code",
   "execution_count": null,
   "id": "52968f36-749a-4d4e-943f-b91a525e4cec",
   "metadata": {},
   "outputs": [],
   "source": []
  }
 ],
 "metadata": {
  "kernelspec": {
   "display_name": "Python 3 (ipykernel)",
   "language": "python",
   "name": "python3"
  },
  "language_info": {
   "codemirror_mode": {
    "name": "ipython",
    "version": 3
   },
   "file_extension": ".py",
   "mimetype": "text/x-python",
   "name": "python",
   "nbconvert_exporter": "python",
   "pygments_lexer": "ipython3",
   "version": "3.11.5"
  }
 },
 "nbformat": 4,
 "nbformat_minor": 5
}
