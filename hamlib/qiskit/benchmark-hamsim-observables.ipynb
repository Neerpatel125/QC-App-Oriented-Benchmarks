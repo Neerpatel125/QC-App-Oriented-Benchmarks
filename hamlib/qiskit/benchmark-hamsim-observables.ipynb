{
 "cells": [
  {
   "cell_type": "markdown",
   "id": "444c2c24-909a-4dd3-a80f-d4df84bebc3d",
   "metadata": {},
   "source": [
    "## Hamiltonian Simulation Observable Benchmark Tests - WIP\n",
    "\n",
    "This notebook is being used to flesh out the details of integrating the HamLib utility module, the HamLib kernel function, and the newly developed functions for generating groups of commuting terms.\n",
    "\n",
    "From any specific Hamiltonian, we create a base evolution circuit with 0 - N Trotter steps, initialize the circuit, and append the necessary basis rotations before measuring and computing the values of energy and other related observables.\n",
    "\n",
    "At a later point, the execution code and plotting code will also be integrated into the benchmark framework. For now, however, the focus is on developing the code necessary to evaluate the performance of observable execution using various optimization options.\n"
   ]
  },
  {
   "cell_type": "markdown",
   "id": "3d55c583-3ae7-4559-99cf-826d4702a7be",
   "metadata": {},
   "source": [
    "### Setup Dependencies and Initialize Modules\n",
    "\n",
    "This cell is used to pull in dependencies from standard libraries, the Hamlib helper functions, and the newly created observables module (in WIP).\n",
    "Initialize the modules so a re-run from the beginning is repeatable."
   ]
  },
  {
   "cell_type": "code",
   "execution_count": 1,
   "id": "67e7efbd-318c-44c2-ad58-8d4b03403e49",
   "metadata": {},
   "outputs": [],
   "source": [
    "import numpy as np\n",
    "from math import sin, cos, pi\n",
    "import time\n",
    "\n",
    "# Import Qiskit and Qiskit Pauli operator classes\n",
    "from qiskit.quantum_info import Pauli, SparsePauliOp\n",
    "from qiskit import QuantumCircuit\n",
    "\n",
    "# Initialize simulator backend\n",
    "from qiskit_aer import Aer\n",
    "backend = Aer.get_backend('qasm_simulator')\n",
    "\n",
    "# Import Hamlib helper functions\n",
    "import hamlib_simulation_kernel, hamlib_utils\n",
    "\n",
    "# Restore default parameters in HamLib kernel module\n",
    "hamlib_simulation_kernel.initialize()\n",
    "\n",
    "# Import Observable helper functions\n",
    "import sys\n",
    "sys.path.insert(1, \"WIP_benchmarks\")\n",
    "import observables\n"
   ]
  },
  {
   "cell_type": "markdown",
   "id": "da34b34e-fa01-41a6-a2ff-a03ce1d63b25",
   "metadata": {},
   "source": [
    "### Configure Options for Execution"
   ]
  },
  {
   "cell_type": "code",
   "execution_count": 2,
   "id": "f8fc95a9-5621-47b1-b7c6-fbea0b8dc814",
   "metadata": {},
   "outputs": [],
   "source": [
    "# Qubit width of the Hamiltonian\n",
    "num_qubits = 4\n",
    "\n",
    "# Parameters of Trotterized simulation\n",
    "K = 1\n",
    "t = 0.05\n",
    "\n",
    "# for debugging Hamlib helper functions\n",
    "hamlib_simulation_kernel.verbose = True\n",
    "hamlib_utils.verbose = False\n",
    "\n",
    "# for debugging observables module\n",
    "observables.verbose_circuits = False\n"
   ]
  },
  {
   "cell_type": "markdown",
   "id": "2d35830f-d921-4509-aaac-ee0fdae6a999",
   "metadata": {},
   "source": [
    "### Specify a Hamiltonian for Testing\n",
    "Choose a Hamiltonian from HamLib or create a custom Hamiltonian\n"
   ]
  },
  {
   "cell_type": "code",
   "execution_count": 3,
   "id": "a5ec42f1-790c-4050-94c0-9c2a313b488b",
   "metadata": {},
   "outputs": [
    {
     "name": "stdout",
     "output_type": "stream",
     "text": [
      "... get_params_from_globals() ==> {'h': 2, '1D-grid': 'pbc'}\n",
      "... parsed_pauli_list = \n",
      "([({0: 'Z', 1: 'Z'}, (1+0j)), ({0: 'Z', 3: 'Z'}, (1+0j)), ({1: 'Z', 2: 'Z'}, (1+0j)), ({3: 'Z', 2: 'Z'}, (1+0j)), ({0: 'X'}, (2+0j)), ({1: 'X'}, (2+0j)), ({3: 'X'}, (2+0j)), ({2: 'X'}, (2+0j))], 'graph-1D-grid-pbc-qubitnodes_Lx-4_h-2')\n"
     ]
    },
    {
     "ename": "ValueError",
     "evalue": "too many values to unpack (expected 2)",
     "output_type": "error",
     "traceback": [
      "\u001b[1;31m---------------------------------------------------------------------------\u001b[0m",
      "\u001b[1;31mValueError\u001b[0m                                Traceback (most recent call last)",
      "Cell \u001b[1;32mIn[3], line 72\u001b[0m\n\u001b[0;32m     69\u001b[0m \u001b[38;5;28mprint\u001b[39m(\u001b[38;5;124mf\u001b[39m\u001b[38;5;124m\"\u001b[39m\u001b[38;5;124m... parsed_pauli_list = \u001b[39m\u001b[38;5;130;01m\\n\u001b[39;00m\u001b[38;5;132;01m{\u001b[39;00mparsed_pauli_list\u001b[38;5;132;01m}\u001b[39;00m\u001b[38;5;124m\"\u001b[39m)\n\u001b[0;32m     71\u001b[0m \u001b[38;5;66;03m# convert the SparsePauliList to a SparsePauliOp object\u001b[39;00m\n\u001b[1;32m---> 72\u001b[0m ham_op \u001b[38;5;241m=\u001b[39m \u001b[43mhamlib_simulation_kernel\u001b[49m\u001b[38;5;241;43m.\u001b[39;49m\u001b[43msparse_pauliop\u001b[49m\u001b[43m(\u001b[49m\u001b[43mparsed_pauli_list\u001b[49m\u001b[43m,\u001b[49m\u001b[43m \u001b[49m\u001b[43mnum_qubits\u001b[49m\u001b[43m)\u001b[49m\n\u001b[0;32m     73\u001b[0m \u001b[38;5;28mprint\u001b[39m(\u001b[38;5;124mf\u001b[39m\u001b[38;5;124m\"\u001b[39m\u001b[38;5;124m... ham_op = \u001b[39m\u001b[38;5;130;01m\\n\u001b[39;00m\u001b[38;5;132;01m{\u001b[39;00mham_op\u001b[38;5;132;01m}\u001b[39;00m\u001b[38;5;124m\"\u001b[39m)\n\u001b[0;32m     74\u001b[0m \u001b[38;5;28mprint\u001b[39m(\u001b[38;5;124m\"\u001b[39m\u001b[38;5;124m\"\u001b[39m)\n",
      "File \u001b[1;32mC:\\Dropbox\\Common\\github-tl\\qcwork\\apps\\QC-App-Oriented-Benchmarks\\hamlib\\qiskit\\hamlib_simulation_kernel.py:392\u001b[0m, in \u001b[0;36msparse_pauliop\u001b[1;34m(terms, num_qubits)\u001b[0m\n\u001b[0;32m    379\u001b[0m \u001b[38;5;250m\u001b[39m\u001b[38;5;124;03m\"\"\"\u001b[39;00m\n\u001b[0;32m    380\u001b[0m \u001b[38;5;124;03mConstruct a SparsePauliOp from a list of Pauli terms and the number of qubits.\u001b[39;00m\n\u001b[0;32m    381\u001b[0m \n\u001b[1;32m   (...)\u001b[0m\n\u001b[0;32m    388\u001b[0m \u001b[38;5;124;03m    SparsePauliOp: The Hamiltonian represented as a SparsePauliOp.\u001b[39;00m\n\u001b[0;32m    389\u001b[0m \u001b[38;5;124;03m\"\"\"\u001b[39;00m\n\u001b[0;32m    390\u001b[0m pauli_list \u001b[38;5;241m=\u001b[39m []\n\u001b[1;32m--> 392\u001b[0m \u001b[38;5;28;01mfor\u001b[39;00m pauli_dict, coefficient \u001b[38;5;129;01min\u001b[39;00m terms:\n\u001b[0;32m    393\u001b[0m     label \u001b[38;5;241m=\u001b[39m [\u001b[38;5;124m'\u001b[39m\u001b[38;5;124mI\u001b[39m\u001b[38;5;124m'\u001b[39m] \u001b[38;5;241m*\u001b[39m num_qubits  \u001b[38;5;66;03m# Start with identity on all qubits\u001b[39;00m\n\u001b[0;32m    394\u001b[0m     \u001b[38;5;28;01mfor\u001b[39;00m qubit, pauli_op \u001b[38;5;129;01min\u001b[39;00m pauli_dict\u001b[38;5;241m.\u001b[39mitems():\n",
      "\u001b[1;31mValueError\u001b[0m: too many values to unpack (expected 2)"
     ]
    }
   ],
   "source": [
    "# create the HamLib Simulation kernel, and the associated Hamiltonian operator\n",
    "\n",
    "hamlib_simulation_kernel.initialize()\n",
    "\n",
    "# Specify the desired Hamiltonian from HamLib \n",
    "# Set the hamiltonian_name: 'TFIM', 'Fermi-Hubbard-1D', 'Bose-Hubbard-1D', 'Heisenberg' or 'Max3Sat'\n",
    "# If no name, it means we use an explicitly specified Hamiltonian\n",
    "hamiltonian_name = 'TFIM'\n",
    "\n",
    "########### HamLib Hamiltonians\n",
    "\n",
    "if hamiltonian_name == 'TFIM':\n",
    "    hamlib_simulation_kernel.global_pbc_val = 'pbc'\n",
    "    hamlib_simulation_kernel.global_h = 2 \n",
    "\n",
    "if hamiltonian_name == 'Heisenberg':\n",
    "    hamlib_simulation_kernel.global_pbc_val = 'pbc'\n",
    "    hamlib_simulation_kernel.global_h = 2\n",
    "    \n",
    "if hamiltonian_name == 'Fermi-Hubbard-1D':\n",
    "    hamlib_simulation_kernel.global_pbc_val = 'pbc'\n",
    "    hamlib_simulation_kernel.global_U = 12\n",
    "    hamlib_simulation_kernel.global_enc = 'bk'\n",
    "\n",
    "if hamiltonian_name == 'Bose-Hubbard-1D':\n",
    "    hamlib_simulation_kernel.global_pbc_val = 'nonpbc'\n",
    "    hamlib_simulation_kernel.global_U = 10\n",
    "    hamlib_simulation_kernel.global_enc = 'gray'\n",
    "\n",
    "if hamiltonian_name == 'Max3Sat':\n",
    "    hamlib_simulation_kernel.global_ratio = 2\n",
    "    hamlib_simulation_kernel.global_rinst = '02'\n",
    "    \n",
    "########### Explicit Hamiltonians\n",
    "\n",
    "# classical simple Ising is ZZ\n",
    "# TFIM ZZ + X  is transverse field\n",
    "# + longitudinal field -> ZZ, X, and Z\n",
    "def get_ising_hamiltonian(L, J, h, alpha=0):\n",
    "\n",
    "    # List of Hamiltonian terms as 3-tuples containing\n",
    "    # (1) the Pauli string,\n",
    "    # (2) the qubit indices corresponding to the Pauli string,\n",
    "    # (3) the coefficient.\n",
    "    ZZ_tuples = [(\"ZZ\", [i, i + 1], -J) for i in range(0, L - 1)]\n",
    "    Z_tuples = [(\"Z\", [i], -h * sin(alpha)) for i in range(0, L)]\n",
    "    X_tuples = [(\"X\", [i], -h * cos(alpha)) for i in range(0, L)]\n",
    "\n",
    "    # We create the Hamiltonian as a SparsePauliOp, via the method\n",
    "    # `from_sparse_list`, and multiply by the interaction term.\n",
    "    hamiltonian = SparsePauliOp.from_sparse_list([*ZZ_tuples, *Z_tuples, *X_tuples], num_qubits=L)\n",
    "    return hamiltonian.simplify()\n",
    "\n",
    "# extract Hamiltonian from HamLib\n",
    "if hamiltonian_name != '':\n",
    "    \n",
    "    params = hamlib_simulation_kernel.get_params_from_globals(hamiltonian_name)\n",
    "\n",
    "    # load the HamLib file for the given hamiltonian name\n",
    "    hamlib_utils.load_from_file(filename=hamiltonian_name)\n",
    "\n",
    "    \"\"\"\n",
    "    datasets = hamlib_utils.find_dataset_for_params(num_qubits=num_qubits, params=params)\n",
    "    print(f\"... datasets = \\n{datasets}\")\n",
    "    \"\"\"\n",
    "\n",
    "    # return a sparse Pauli list of terms queried from the open HamLib file\n",
    "    parsed_pauli_list = hamlib_utils.get_hamlib_sparsepaulilist(num_qubits=num_qubits, params=params)\n",
    "    print(f\"... parsed_pauli_list = \\n{parsed_pauli_list}\")\n",
    "    \n",
    "    # convert the SparsePauliList to a SparsePauliOp object\n",
    "    ham_op = hamlib_simulation_kernel.sparse_pauliop(parsed_pauli_list, num_qubits)\n",
    "    print(f\"... ham_op = \\n{ham_op}\")\n",
    "    print(\"\")\n",
    "    \n",
    "    # read the HamLib file content for the specified Hamiltonian and return a SparsePauliOp\n",
    "    # Replaced with above code; above code may get encasupated in the below function later.\n",
    "    \"\"\"\n",
    "    ham_op, _ = hamlib_simulation_kernel.get_hamlib_sparsepauliop(hamiltonian_name, num_qubits)\n",
    "    print(f\"... ham_op = \\n{ham_op}\")\n",
    "    print(\"\")\n",
    "    \"\"\"\n",
    "    \n",
    "    # convert SparsePauliOp to list form\n",
    "    ham_terms = ham_op.to_list()\n",
    "    \n",
    "# create explicit Hamiltonian\n",
    "else:\n",
    "    H = get_ising_hamiltonian(L=num_qubits, J=0.2, h=1.2, alpha=pi / 8)\n",
    "    H_terms = H.to_list()\n",
    "    \n",
    "    # hamiltonian = H_terms\n",
    "    # ham_terms = hamiltonian\n",
    "    ham_terms = H_terms\n",
    "\n",
    "print(f\"... Hamiltonian name = {hamiltonian_name}\")\n",
    "print(ham_terms)\n",
    "print(\"\")\n"
   ]
  },
  {
   "cell_type": "markdown",
   "id": "5848a55b-830f-440e-a57a-1b08b0711881",
   "metadata": {},
   "source": [
    "### Create a Hamiltonian Simulation Circuit\n",
    "Initialize the circuit to a known initial state, append 'K' Trotter steps for total time 't', followed by basis rotation gates."
   ]
  },
  {
   "cell_type": "code",
   "execution_count": null,
   "id": "8ec99e2e-2e87-4555-85a1-d2aeedf0e604",
   "metadata": {},
   "outputs": [],
   "source": [
    "# create the HamLib Simulation kernel, from the current Hamiltonian.\n",
    "# We use a different method for kernel creation with HamLib than with custom Hamiltonians\n",
    "\n",
    "########### create Trotterized evolution circuit for HamLib Hamiltonians\n",
    "\n",
    "# create Hamiltonian evolution circuit from HamLib\n",
    "if hamiltonian_name != '':\n",
    "    init_state = \"checkerboard\"\n",
    "\n",
    "    qc, bitstring = hamlib_simulation_kernel.HamiltonianSimulation(\n",
    "        num_qubits=num_qubits, \n",
    "        ham_op=ham_op,\n",
    "        K=K, t=t,\n",
    "        init_state = init_state,\n",
    "        append_measurements = False,\n",
    "        method = 1, \n",
    "    )    \n",
    "    \n",
    "########### create Trotterized evolution circuit for custom Hamiltonian\n",
    "else:\n",
    "    #qc = None\n",
    "    qc = QuantumCircuit(num_qubits)\n",
    "\n",
    "print(f\"... Trotterized Circuit, K={K}, t={t}\")\n",
    "if num_qubits < 11:\n",
    "    if hamiltonian_name != '':\n",
    "        hamlib_simulation_kernel.kernel_draw(qc, method=1)\n",
    "    else:\n",
    "        print(qc)\n",
    "else:\n",
    "    print(\"  ... circuit is too large to draw.\")\n",
    "\n",
    "print(\"\")\n"
   ]
  },
  {
   "cell_type": "markdown",
   "id": "a335dc45-eccb-4f9f-be2a-2ed5ff9fb4a9",
   "metadata": {},
   "source": [
    "### Compute Energy of the Hamiltonian - Unoptimized\n",
    "\n",
    "Here, we convert the Hamiltonian to a set of circuits, using commuting groups if specified,\n",
    "and execute the circuits in order to compute the expectation value "
   ]
  },
  {
   "cell_type": "code",
   "execution_count": null,
   "id": "0607c377-aa64-4fd7-bf3a-9353a823413b",
   "metadata": {},
   "outputs": [],
   "source": [
    "# Flag to control optimize by use of commuting groups\n",
    "use_commuting_groups = False\n",
    "\n",
    "N = 3\n",
    "print(f\"\\n************ Compute energy of the Hamiltonian {N} times\")\n",
    "\n",
    "# Calculate the total energy\n",
    "for i in range(N):\n",
    "        \n",
    "    # Estimate expectation for the Ham terms using the circuit qc\n",
    "    total_energy, term_contributions = observables.estimate_expectation_plus(backend, qc, ham_terms, \n",
    "                                             use_commuting_groups=use_commuting_groups, num_shots=10000)\n",
    "    print(f\"Total Energy: {total_energy}\")\n",
    "    print(f\"Term Contributions: {term_contributions}\")\n",
    "    \n",
    "print(\"\")"
   ]
  },
  {
   "cell_type": "markdown",
   "id": "1e2d1d64-b77e-4928-a116-c93dd7ebf0c3",
   "metadata": {},
   "source": [
    "### Compute Energy of the Hamiltonian - Optimized\n",
    "\n",
    "Here, we convert the Hamiltonian to a set of circuits, using commuting groups if specified,\n",
    "and execute the circuits in order to compute the expectation value "
   ]
  },
  {
   "cell_type": "code",
   "execution_count": null,
   "id": "d9fba694-2d4d-4907-bcb2-a0926b19ceb4",
   "metadata": {},
   "outputs": [],
   "source": [
    "# Flag to control optimize by use of commuting groups\n",
    "use_commuting_groups = True\n",
    "\n",
    "N = 3\n",
    "print(f\"\\n************ Compute energy of the Hamiltonian {N} times\")\n",
    "\n",
    "# Calculate the total energy\n",
    "for i in range(N):\n",
    "        \n",
    "    # Estimate expectation for the Ham terms using the circuit qc\n",
    "    total_energy, term_contributions = observables.estimate_expectation_plus(backend, qc, ham_terms, \n",
    "                                             use_commuting_groups=use_commuting_groups, num_shots=10000)\n",
    "    print(f\"Total Energy: {total_energy}\")\n",
    "    print(f\"Term Contributions: {term_contributions}\")\n",
    "    \n",
    "print(\"\")"
   ]
  },
  {
   "cell_type": "markdown",
   "id": "bf88fc0a-98f4-4278-aa55-3205bba345fa",
   "metadata": {},
   "source": [
    "### Compute expectation value of other observables.\n",
    "Note that this only works for the Ising model."
   ]
  },
  {
   "cell_type": "code",
   "execution_count": null,
   "id": "6c24ca2a-522f-4902-b488-6393bc61cfd8",
   "metadata": {},
   "outputs": [],
   "source": [
    "# Define additional Hamiltonian terms for other Ising observables \n",
    "H_terms_spin_correlation = observables.swap_pauli_list([(0.2,'IIIIZZ'), (0.2,'IIIZZI'), (0.2,'IIZZII'), (0.2,'IZZIII'), (0.2,'ZZIIII')])\n",
    "H_terms_magnetization = observables.swap_pauli_list([(1,'IIIIIZ'), (1,'IIIIZI'), (1,'IIIZII'), (1,'IIZIII'), (1,'IZIIII'), (1, 'ZIIIII')])\n",
    "\n",
    "spin_correlation = observables.calculate_expectation_from_contributions(H_terms_spin_correlation, term_contributions)\n",
    "print(spin_correlation)\n",
    "\n",
    "magnetization = observables.calculate_expectation_from_contributions(H_terms_magnetization, term_contributions)\n",
    "print(magnetization)\n"
   ]
  },
  {
   "cell_type": "code",
   "execution_count": null,
   "id": "4f7de6f8-64cb-4266-9fc2-633d1d30c092",
   "metadata": {},
   "outputs": [],
   "source": []
  }
 ],
 "metadata": {
  "kernelspec": {
   "display_name": "Python 3 (ipykernel)",
   "language": "python",
   "name": "python3"
  },
  "language_info": {
   "codemirror_mode": {
    "name": "ipython",
    "version": 3
   },
   "file_extension": ".py",
   "mimetype": "text/x-python",
   "name": "python",
   "nbconvert_exporter": "python",
   "pygments_lexer": "ipython3",
   "version": "3.11.5"
  }
 },
 "nbformat": 4,
 "nbformat_minor": 5
}
