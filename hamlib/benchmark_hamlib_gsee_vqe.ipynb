{
 "cells": [
  {
   "cell_type": "markdown",
   "metadata": {
    "tags": [
     "remove_cell"
    ]
   },
   "source": [
    "### QED-C Application-Oriented Benchmarks - Hamiltonian Simulation with HamLib - GSEE / VQE\n",
    "\n",
    "The notebook contains specific examples for the HamLib-based Hamiltonian Simulation benchmark program.\n",
    "Configure and run the cell below with the desired execution settings.\n",
    "Then configure and run the remaining cell(s), each one a variation of this benchmark.\n",
    "\n",
    "This example illustrates finding the ground state energy of a Hamiltonian extracted from the specified HamLib dataset.\n",
    "It uses a typical classical optimizer to itertively execute a parameterized quantum ansatz kernel and to progressively adjust the ansatz parameters to find the lowest energy state for the Hamiltonian.\n",
    "\n",
    "Currently this example operates on only one fixed size for each type of Hamiltonian and produces plots representing the evolution of the optimization.\n",
    "\n"
   ]
  },
  {
   "cell_type": "markdown",
   "metadata": {},
   "source": [
    "### Program Configuration"
   ]
  },
  {
   "cell_type": "code",
   "execution_count": 1,
   "metadata": {},
   "outputs": [],
   "source": [
    "# Select the API to use and load the benchmark program\n",
    "api = \"qiskit\"\n",
    "import hamlib_simulation_benchmark\n",
    "\n",
    "# Select the benchmark parameters\n",
    "num_qubits = min_qubits = max_qubits = 4\n",
    "skip_qubits=1\n",
    "max_circuits=1\n",
    "num_shots=10000\n",
    "\n",
    "# Select the backend \n",
    "#backend_id=\"qasm_simulator\"\n",
    "backend_id=\"statevector_simulator\"\n",
    "provider_backend=None\n",
    "exec_options={}\n",
    "\n",
    "#############\n",
    "\n",
    "# place resulting data and images into a folder with \"paper\" suffix\n",
    "import metrics\n",
    "metrics.data_suffix = \"_vqe\"\n",
    "hamlib_simulation_benchmark.data_suffix = \"_vqe\"\n"
   ]
  },
  {
   "cell_type": "code",
   "execution_count": 2,
   "metadata": {},
   "outputs": [],
   "source": [
    "import numpy as np\n",
    "from math import sin, cos, pi\n",
    "import time\n",
    "\n",
    "# Configure module paths\n",
    "import sys\n",
    "sys.path.insert(1, \"_common\")\n",
    "sys.path.insert(1, \"qiskit\")\n",
    "\n",
    "# Import HamLib helper functions (from _common)\n",
    "import hamlib_utils\n",
    "\n",
    "# Import Hamlib Simulation kernel (from qiskit)\n",
    "import hamlib_simulation_kernel\n",
    "\n",
    "# Import Observable helper functions\n",
    "import observables\n",
    "import evolution_exact\n",
    "\n",
    "verbose = True\n",
    "\n",
    "#### for executing circuits to compute observables ...\n",
    "\n",
    "# Import Qiskit and Qiskit Pauli operator classes\n",
    "#from qiskit.quantum_info import Pauli, SparsePauliOp\n",
    "#from qiskit import QuantumCircuit\n",
    "\n",
    "# Initialize simulator backend\n",
    "#from qiskit_aer import Aer\n",
    "#backend = Aer.get_backend('qasm_simulator')\n"
   ]
  },
  {
   "cell_type": "markdown",
   "metadata": {},
   "source": [
    "### List of Available Hamiltonians and Sizes\n",
    "For the example illustrated below, select one of the available Hamiltonian (name, params, size) tuples.\n"
   ]
  },
  {
   "cell_type": "code",
   "execution_count": 3,
   "metadata": {},
   "outputs": [
    {
     "name": "stdout",
     "output_type": "stream",
     "text": [
      "\n",
      "*******************************************************************************************\n",
      "\n",
      "HamiltonianGSEE / VQE Example for condensedmatter/tfim/tfim {'1D-grid': 'pbc', 'h': 2}\n",
      "\n",
      "============================================================\n",
      "\n",
      "Testing expectation grouping method: simple\n",
      "\n"
     ]
    }
   ],
   "source": [
    "# list of observable computation methods to sweep\n",
    "group_method_list = [ None, \"simple\", \"N\", \"estimator\" ]\n",
    "\n",
    "# List of HamLib filename and parameter tuples, with max_qubits limit array\n",
    "# Note that the 4th entry in the array is used in the cell below which executes a noisy simulation\n",
    "hamiltonians = [\n",
    "    ('condensedmatter/tfim/tfim', { \"1D-grid\": \"pbc\", \"h\": 2 }, [24,28,28,28, 16] ),\n",
    "    ('condensedmatter/heisenberg/heis', { \"1D-grid\": \"pbc\", \"h\": 2 }, [24,28,28,28, 16] ),\n",
    "    ('condensedmatter/fermihubbard/FH_D-1', { \"1D-grid\": \"pbc\", \"enc\": \"bk\", \"U\":12 }, [20,24,24,24, 14] ),\n",
    "    ('condensedmatter/bosehubbard/BH_D-1_d-4', { \"1D-grid\": \"nonpbc\", \"enc\": \"gray\", \"U\":10 }, [16,24,24,24, 12] ),\n",
    "    ('binaryoptimization/max3sat/random/random_max3sat-hams', { \"ratio\": \"2\", \"rinst\": \"02\" }, [18,28,28,28, 14] ),\n",
    "    ('chemistry/electronic/standard/H2', { \"ham_BK\": \"\" }, [8,12,12,12, 8] )\n",
    "    ]\n",
    "\n",
    "# Select indices of the Hamiltonian(s) to test\n",
    "ham_indexes = range(len(hamiltonians))       # select all\n",
    "#ham_indexes = [2,3]       # select subset, for example 2,3; for quick test, do just one of them\n",
    "\n",
    "# limit testing to simple for now\n",
    "group_method = \"simple\"\n",
    "\n",
    "# just do TFIM for now\n",
    "ham_indexes = [ 0 ]\n",
    "\n",
    "# get Hamiltonian name and params from list\n",
    "# Note: we will loop over multiples here later\n",
    "hamiltonian_name, hamiltonian_params, _ = hamiltonians[0]\n",
    "\n",
    "print(f\"\\n*******************************************************************************************\")\n",
    "\n",
    "print(f\"\\nHamiltonianGSEE / VQE Example for {hamiltonian_name} {hamiltonian_params}\\n\")\n",
    "\n",
    "print(\"============================================================\\n\")\n",
    "print(f\"Testing expectation grouping method: {group_method}\\n\") \n"
   ]
  },
  {
   "cell_type": "markdown",
   "metadata": {},
   "source": [
    "### Load the Given Hamiltonian to get its Pauli terms"
   ]
  },
  {
   "cell_type": "code",
   "execution_count": 4,
   "metadata": {},
   "outputs": [
    {
     "name": "stdout",
     "output_type": "stream",
     "text": [
      "... dataset_name = graph-1D-grid-pbc-qubitnodes_Lx-4_h-2\n",
      "... sparse_pauli_terms = \n",
      "[({0: 'Z', 1: 'Z'}, (1+0j)), ({0: 'Z', 3: 'Z'}, (1+0j)), ({1: 'Z', 2: 'Z'}, (1+0j)), ({3: 'Z', 2: 'Z'}, (1+0j)), ({0: 'X'}, (2+0j)), ({1: 'X'}, (2+0j)), ({3: 'X'}, (2+0j)), ({2: 'X'}, (2+0j))]\n",
      "\n"
     ]
    }
   ],
   "source": [
    "# load the HamLib file for the given hamiltonian name\n",
    "hamlib_utils.load_hamlib_file(filename=hamiltonian_name)\n",
    "\n",
    "# return a sparse Pauli list of terms queried from the open HamLib file\n",
    "sparse_pauli_terms, dataset_name = hamlib_utils.get_hamlib_sparsepaulilist(num_qubits=num_qubits, params=hamiltonian_params)\n",
    "print(f\"... dataset_name = {dataset_name}\")\n",
    "print(f\"... sparse_pauli_terms = \\n{sparse_pauli_terms}\")\n",
    "\n",
    "print(\"\")"
   ]
  },
  {
   "cell_type": "markdown",
   "metadata": {},
   "source": [
    "### Arrange Pauli Terms into Commuting Groups"
   ]
  },
  {
   "cell_type": "code",
   "execution_count": 5,
   "metadata": {},
   "outputs": [
    {
     "name": "stdout",
     "output_type": "stream",
     "text": [
      "\n",
      "... finished grouping terms, total grouping time = 0.0 sec.\n",
      "\n",
      "... Number of groups created: 2\n",
      "... Pauli Term Groups:\n",
      "[('ZZII', (1+0j)), ('ZIIZ', (1+0j)), ('IZZI', (1+0j)), ('IIZZ', (1+0j))]\n",
      "[('XIII', (2+0j)), ('IXII', (2+0j)), ('IIIX', (2+0j)), ('IIXI', (2+0j))]\n"
     ]
    }
   ],
   "source": [
    "# Arrange the Pauli terms into commuting groups based on group_method, for use in cells below\n",
    "pauli_term_groups, pauli_str_list = hamlib_simulation_benchmark.find_pauli_groups(num_qubits, sparse_pauli_terms, group_method)\n",
    "\n",
    "print(f\"... Number of groups created: {len(pauli_term_groups)}\")\n",
    "print(f\"... Pauli Term Groups:\")\n",
    "for group in pauli_term_groups:\n",
    "    print(group)\n",
    "        "
   ]
  },
  {
   "cell_type": "markdown",
   "metadata": {},
   "source": [
    "### Ansatz Definition - Suitable Quantum Circuit for Initial State\n",
    "Select the type of ansatz circuit to use"
   ]
  },
  {
   "cell_type": "code",
   "execution_count": 6,
   "metadata": {},
   "outputs": [
    {
     "name": "stdout",
     "output_type": "stream",
     "text": [
      "[ 0.307  1.352  0.646  0.282 -0.48   0.917 -0.392  2.462  2.913 -0.732\n",
      "  1.833  0.182  0.428  2.674 -2.695 -2.594 -3.015  2.09   1.748  2.325\n",
      "  3.007  1.88  -0.242  1.763 -2.398  0.879 -2.241  2.794  0.137 -0.536\n",
      " -1.479  1.723]\n",
      "      ┌────────────┐┌──────────────┐                                   »\n",
      "q_0: ─┤ Ry(0.3067) ├┤ Rz(-0.47969) ├───────────────────────────■───────»\n",
      "      ├────────────┤├─────────────┬┘                         ┌─┴─┐     »\n",
      "q_1: ─┤ Ry(1.3521) ├┤ Rz(0.91668) ├─────────────■────────────┤ X ├─────»\n",
      "     ┌┴────────────┤├─────────────┴┐          ┌─┴─┐      ┌───┴───┴───┐ »\n",
      "q_2: ┤ Ry(0.64568) ├┤ Rz(-0.39215) ├──■───────┤ X ├──────┤ Ry(1.833) ├─»\n",
      "     ├─────────────┤└┬────────────┬┘┌─┴─┐┌────┴───┴────┐┌┴───────────┴┐»\n",
      "q_3: ┤ Ry(0.28201) ├─┤ Rz(2.4616) ├─┤ X ├┤ Ry(0.18155) ├┤ Rz(-2.5941) ├»\n",
      "     └─────────────┘ └────────────┘ └───┘└─────────────┘└─────────────┘»\n",
      "«      ┌────────────┐ ┌─────────────┐                            »\n",
      "«q_0: ─┤ Ry(2.9133) ├─┤ Rz(0.42754) ├────────────────────■───────»\n",
      "«     ┌┴────────────┴┐└┬────────────┤                  ┌─┴─┐     »\n",
      "«q_1: ┤ Ry(-0.73236) ├─┤ Rz(2.6741) ├──────■───────────┤ X ├─────»\n",
      "«     ├─────────────┬┘ └────────────┘    ┌─┴─┐     ┌───┴───┴────┐»\n",
      "«q_2: ┤ Rz(-2.6953) ├────────■───────────┤ X ├─────┤ Ry(1.7477) ├»\n",
      "«     └─────────────┘      ┌─┴─┐     ┌───┴───┴────┐├────────────┤»\n",
      "«q_3: ─────────────────────┤ X ├─────┤ Ry(2.3249) ├┤ Rz(1.7626) ├»\n",
      "«                          └───┘     └────────────┘└────────────┘»\n",
      "«     ┌─────────────┐ ┌────────────┐                             »\n",
      "«q_0: ┤ Ry(-3.0146) ├─┤ Rz(3.0072) ├─────────────────────■───────»\n",
      "«     └┬────────────┤ ├────────────┤                   ┌─┴─┐     »\n",
      "«q_1: ─┤ Ry(2.0899) ├─┤ Rz(1.8797) ├──────■────────────┤ X ├─────»\n",
      "«     ┌┴────────────┴┐└────────────┘    ┌─┴─┐     ┌────┴───┴────┐»\n",
      "«q_2: ┤ Rz(-0.24203) ├──────■───────────┤ X ├─────┤ Ry(-2.2409) ├»\n",
      "«     └──────────────┘    ┌─┴─┐     ┌───┴───┴────┐└┬────────────┤»\n",
      "«q_3: ────────────────────┤ X ├─────┤ Ry(2.7939) ├─┤ Rz(1.7231) ├»\n",
      "«                         └───┘     └────────────┘ └────────────┘»\n",
      "«     ┌─────────────┐┌─────────────┐  ░ \n",
      "«q_0: ┤ Ry(-2.3985) ├┤ Rz(0.13728) ├──░─\n",
      "«     ├─────────────┤├─────────────┴┐ ░ \n",
      "«q_1: ┤ Ry(0.87915) ├┤ Rz(-0.53619) ├─░─\n",
      "«     ├─────────────┤└──────────────┘ ░ \n",
      "«q_2: ┤ Rz(-1.4793) ├─────────────────░─\n",
      "«     └─────────────┘                 ░ \n",
      "«q_3: ────────────────────────────────░─\n",
      "«                                     ░ \n"
     ]
    }
   ],
   "source": [
    "import numpy as np\n",
    "from qiskit.circuit.library import EfficientSU2\n",
    "from qiskit import QuantumCircuit\n",
    "\n",
    "def get_ansatz(num_qubits, params):\n",
    "    ansatz = EfficientSU2(num_qubits).decompose()\n",
    "    ansatz.barrier()\n",
    "\n",
    "    params_dict = {p: params[i] for i, p in enumerate(ansatz.parameters)}\n",
    "\n",
    "    # Use assign_parameters instead of bind_parameters\n",
    "    ansatz = ansatz.assign_parameters(params_dict)\n",
    "    \n",
    "    return ansatz\n",
    "\n",
    "# Create the ansatz\n",
    "ansatz = EfficientSU2(num_qubits)\n",
    "\n",
    "num_params = ansatz.num_parameters\n",
    "\n",
    "# Generate initial parameters with correct length\n",
    "initial_params = np.random.uniform(-np.pi, np.pi, ansatz.num_parameters)\n",
    "print(initial_params)\n",
    "\n",
    "# Get the ansatz circuit\n",
    "ansatz_circuit = get_ansatz(num_qubits, initial_params)\n",
    "print(ansatz_circuit)\n"
   ]
  },
  {
   "cell_type": "markdown",
   "metadata": {},
   "source": [
    "### Create Measurement Circuits from Base Circuit and Pauli Terms\n",
    "Here, we append basis rotation gates for each Pauli Term group to the base evolution circuit to create an array of circuits for execution."
   ]
  },
  {
   "cell_type": "code",
   "execution_count": 7,
   "metadata": {},
   "outputs": [],
   "source": [
    "# generate an array of circuits, one for each pauli_string in list\n",
    "def create_measurement_circuts(qc, num_qubits, pauli_term_groups, pauli_str_list):\n",
    "    ts = time.time()\n",
    "    \n",
    "    circuits = hamlib_simulation_kernel.create_circuits_for_pauli_terms(qc, num_qubits, pauli_str_list)\n",
    "    \"\"\"\n",
    "    print(f\"... Appended {len(circuits)} circuits, one for each group:\")               \n",
    "    for circuit, group in list(zip(circuits, pauli_term_groups)):\n",
    "        print(group)\n",
    "        #print(circuit)\n",
    "    \"\"\"\n",
    "    append_time = round(time.time()-ts, 3)\n",
    "    ###print(f\"\\n... finished appending {len(circuits)} measurement circuits, total creating time = {append_time} sec.\\n\")\n",
    "\n",
    "    return circuits\n"
   ]
  },
  {
   "cell_type": "code",
   "execution_count": 8,
   "metadata": {},
   "outputs": [],
   "source": [
    "def do_execute(circuits, num_shots):\n",
    "    \n",
    "    # Initialize simulator backend\n",
    "    from qiskit_aer import Aer\n",
    "    backend = Aer.get_backend('qasm_simulator')\n",
    "    #backend = Aer.get_backend('statevector_simulator')     # doesn't work, only returns 1 shot\n",
    "    \n",
    "    ### print(f\"... begin executing {len(circuits)} circuits ...\")\n",
    "    ts = time.time()\n",
    "    \n",
    "    # Execute all of the circuits to obtain array of result objects\n",
    "    results = backend.run(circuits, num_shots=num_shots).result()\n",
    "\n",
    "    #for ca in results.get_counts():\n",
    "    #    print(ca)\n",
    "    \n",
    "    exec_time = round(time.time()-ts, 3)\n",
    "    ###print(f\"... finished executing {len(circuits)} circuits, total execution time = {exec_time} sec.\\n\")\n",
    "\n",
    "    return results\n"
   ]
  },
  {
   "cell_type": "code",
   "execution_count": 9,
   "metadata": {},
   "outputs": [],
   "source": [
    "# Compute the total energy for the Hamiltonian\n",
    "def compute_energy(num_qubits, results, pauli_term_groups):\n",
    "\n",
    "    ###print(f\"... begin computing observable value ...\")\n",
    "    ts = time.time()\n",
    "    \n",
    "    total_energy, term_contributions = observables.calculate_expectation_from_measurements(\n",
    "                                                num_qubits, results, pauli_term_groups)\n",
    "    obs_time = round(time.time()-ts, 3)\n",
    "    ###print(f\"... finished computing observable value, computation time = {obs_time} sec.\\n\")\n",
    "    \n",
    "    #print(f\"    Total Energy: {round(np.real(total_energy), 4)}\")\n",
    "    ### print(f\"    Term Contributions: {term_contributions}\\n\")\n",
    "\n",
    "    create_time = 0\n",
    "    group_time = 0\n",
    "    append_time = 0\n",
    "    exec_time = 0\n",
    "    \n",
    "    total_time = group_time + create_time + append_time + exec_time + obs_time\n",
    "    total_time = round(total_time, 3)\n",
    "    ###print(f\"\\n... total observable computation time = {total_time} sec.\\n\")\n",
    "    \n",
    "    return total_energy\n"
   ]
  },
  {
   "cell_type": "markdown",
   "metadata": {},
   "source": [
    "### Define the Objective Function for the Classical Optimizer (Cost Function)\n",
    "Now we specify the objective function which takes as input a list of the ansatz' parameters, and returns the cost associated with those parameters. The cost is determined by exeuting the ansatz with those parameters and computes a cost function based on the measurement distribution returned.\n",
    "\n",
    "In the case of VQE, the ansatz needs to be executed once for each term of the Hamiltonian, with basis rotations applied at the end of the ansatz. The total energy is the sum of the weighted energy computation over all the terms. The goal is to find the parameters that result in the lowest 'total energy'. "
   ]
  },
  {
   "cell_type": "code",
   "execution_count": 10,
   "metadata": {},
   "outputs": [],
   "source": [
    "# keep track of the number of iterations performed\n",
    "count = 0\n",
    "\n",
    "tracker_style = 1     # controls style of output printed each iteration - 1 - dots, 2 - detailed\n",
    "\n",
    "# Return the cost associated with the ansatz and the given parameters over the problem Hamiltonian\n",
    "def objective_function(params):\n",
    "    global count\n",
    "    count += 1\n",
    "\n",
    "    #print(num_qubits)\n",
    "    \n",
    "    # Create a quantum ansatz circuit with the given parameters (update later to use Parameter)\n",
    "    qc = get_ansatz(num_qubits, params)  \n",
    "\n",
    "    #print(qc)\n",
    "\n",
    "    # Append measurement circuits for each term group and return an array of circuits\n",
    "    circuits = create_measurement_circuts(qc, num_qubits, pauli_term_groups, pauli_str_list)\n",
    "\n",
    "    #for c in circuits:\n",
    "    #    print(c)\n",
    "\n",
    "    results = do_execute(circuits, num_shots)\n",
    "\n",
    "    energy = compute_energy(num_qubits, results, pauli_term_groups)\n",
    "    energy = np.real(energy)\n",
    "    \n",
    "    # print important data at each iteration (the cost and the associated parameter values)\n",
    "    if tracker_style > 1:\n",
    "        print(f\"  {count:3} \\t{energy: <7.5}  \\t{[round(params[i], 4) for i in range(len(params))]} \")\n",
    "    else:\n",
    "        print(\".\", end='')\n",
    "        \n",
    "    return energy\n",
    "    "
   ]
  },
  {
   "cell_type": "code",
   "execution_count": 11,
   "metadata": {},
   "outputs": [
    {
     "name": "stdout",
     "output_type": "stream",
     "text": [
      ".... energy = -1.7422\n"
     ]
    }
   ],
   "source": [
    "energy = objective_function(initial_params)\n",
    "\n",
    "print(f\"... energy = {round(energy, 4)}\")\n",
    "\n"
   ]
  },
  {
   "cell_type": "markdown",
   "metadata": {},
   "source": [
    "### Execute the VQE Algorithm to Find the Optimal Parameters.\n",
    "Create an instance of the selected optimizer, and run the algorithm. Note that the output varies from run to run. Moreover, while close, the obtained distribution might not be exactly the same as the target distribution, however, increasing the number of shots taken will increase the accuracy of the output."
   ]
  },
  {
   "cell_type": "code",
   "execution_count": 12,
   "metadata": {
    "scrolled": true
   },
   "outputs": [
    {
     "name": "stdout",
     "output_type": "stream",
     "text": [
      "... init point = [-0.276  0.43  -3.024  0.739  0.704  0.735  2.788  1.142 -0.883 -0.396\n",
      "  1.242 -2.763  1.048  1.072 -1.82  -2.332 -1.16  -0.856  0.441 -0.386\n",
      "  3.069 -2.5   -1.829 -2.128  0.962 -1.55  -0.212 -1.606 -2.143 -2.448\n",
      "  0.982 -2.273]\n",
      "................................................................................................................................................................................................................................................................................................................................................\n",
      "Final Result: message: Optimization terminated successfully.\n",
      " success: True\n",
      "  status: 1\n",
      "     fun: -7.0703125\n",
      "       x: [ 7.957e-01  1.810e+00 ...  7.273e-01 -2.568e+00]\n",
      "    nfev: 336\n",
      "   maxcv: 0.0\n",
      "\n",
      "Lowest Ground State Energy:  -7.0703125\n",
      "Parameters Found:  [ 0.796  1.81  -2.172 -0.073  1.512  0.663  3.564  2.174 -0.597  0.531\n",
      "  0.819 -2.563 -0.023  1.089 -1.769 -1.134 -1.17   0.032  1.591 -1.017\n",
      "  2.857 -2.575 -1.474 -2.07   1.019 -1.485  0.032 -1.951 -2.635 -1.455\n",
      "  0.727 -2.568]\n",
      "Total Iterations:  336\n",
      "... continue ...\n"
     ]
    }
   ],
   "source": [
    "from scipy.optimize import minimize\n",
    "\n",
    "# Select the optimizer to use\n",
    "#method = 'SLSQP'\n",
    "#method = 'Nelder-Mead'\n",
    "method = 'COBYLA'\n",
    "maxiter = 500\n",
    "\n",
    "# Store an array of lowest energy results for each backend tested\n",
    "energy_results = {}\n",
    "\n",
    "backend_label = \"qasm_simulator\"\n",
    "energy_results[backend_label] = []\n",
    "\n",
    "global count\n",
    "count = 0\n",
    "\n",
    "# Create the initial parameters to match length of parameters\n",
    "#params = np.random.rand(num_params)\n",
    "params = np.random.uniform(-np.pi, np.pi, num_params)\n",
    "#params = [ 0.0 ] * num_params\n",
    "\n",
    "#if initial_point is not None:\n",
    "#    params = initial_point\n",
    "\n",
    "initial_point = params\n",
    "\n",
    "print(f\"... init point = {initial_point}\")\n",
    "\n",
    "# Print header above output from execution\n",
    "if tracker_style > 1:\n",
    "    print(\"  Iter\\tEnergy\\t\\tParams\")\n",
    "\n",
    "# Iterate over multiple executions of the objective_function to obtain lowest energy\n",
    "result = minimize(objective_function, initial_point, method=method, options = { 'maxiter': maxiter} )\n",
    "\n",
    "# store the resulting energy from this VQE execution\n",
    "energy_results[backend_label].append(result.fun)\n",
    "\n",
    "#print(f\"\\nExecution on backend = {backend}\")\n",
    "print(f\"\\nFinal Result:{result}\")\n",
    "\n",
    "print(f\"\\nLowest Ground State Energy: \", result.fun)\n",
    "print(\"Parameters Found: \", result.x)\n",
    "print(\"Total Iterations: \", result.nfev)\n",
    "\n",
    "print(\"... continue ...\")\n"
   ]
  },
  {
   "cell_type": "markdown",
   "metadata": {},
   "source": [
    "### Compute Statistics on Results \n",
    "Here we compute the average and standard deviation from the repeated execution on each backend"
   ]
  },
  {
   "cell_type": "code",
   "execution_count": 15,
   "metadata": {},
   "outputs": [
    {
     "name": "stdout",
     "output_type": "stream",
     "text": [
      "\n",
      "*************************************\n",
      "Lowest Ground State Energies computed on these backends:\n",
      "  qasm_simulator           = [-7.0703125]\n",
      "                             avg=-7.0703 std=0.0    \n",
      "[-7.0703125]\n",
      "[0.0]\n"
     ]
    }
   ],
   "source": [
    "print(\"\\n*************************************\")\n",
    "print(f\"Lowest Ground State Energies computed on these backends:\")\n",
    "er_averages = []\n",
    "er_stddevs = []\n",
    "for backend_label in energy_results:\n",
    "    er = energy_results[backend_label]\n",
    "    print(f\"  {backend_label:24} = {er}\")\n",
    "    print(f\"  {'':24}   avg={np.average(er):<7.5} std={np.std(er):<7.5}\")\n",
    "    \n",
    "    er_averages.append(np.average(er))\n",
    "    er_stddevs.append(np.std(er))\n",
    " \n",
    "print(er_averages)\n",
    "print(er_stddevs)\n",
    "    "
   ]
  },
  {
   "cell_type": "markdown",
   "metadata": {},
   "source": [
    "### Plot Results with Statistics - Multiple Backends\n",
    "Here we plot the resutls and associated statistics"
   ]
  },
  {
   "cell_type": "code",
   "execution_count": 16,
   "metadata": {},
   "outputs": [
    {
     "name": "stdout",
     "output_type": "stream",
     "text": [
      "[('qasm_simulator', [-7.0703125])]\n",
      "... avgs = [-7.0703125]\n",
      "[[0.0], [0.0]]\n"
     ]
    },
    {
     "data": {
      "image/png": "[encoded data removed]",
      "text/plain": [
       "<Figure size 800x650 with 1 Axes>"
      ]
     },
     "metadata": {},
     "output_type": "display_data"
    }
   ],
   "source": [
    "import time\n",
    "from time import gmtime, strftime\n",
    "from datetime import datetime\n",
    "import matplotlib.pyplot as plt\n",
    "\n",
    "NUM_SHOTS = num_shots\n",
    "NUM_REPS = 1\n",
    "\n",
    "# Get the current time formatted\n",
    "def get_timestr():\n",
    "    #timestr = strftime(\"%Y-%m-%d %H:%M:%S UTC\", gmtime())\n",
    "    timestr = strftime(\"%b %d, %Y %H:%M:%S UTC\", gmtime())\n",
    "    return timestr\n",
    "\n",
    "# generate one-column figure with multiple bar charts, with shared X axis\n",
    "def plot_results():\n",
    "    \n",
    "    cols = 1\n",
    "    fig_w = 8.0\n",
    "    \n",
    "    numplots = 1\n",
    "  \n",
    "    rows = numplots\n",
    "    \n",
    "    # DEVNOTE: this calculation is based on visual assessment of results and could be refined\n",
    "    # compute height needed to draw same height plots, no matter how many there are\n",
    "    fig_h = 6.5 + 2.0 * (rows - 1) + 0.25 * (rows - 1)\n",
    "    #print(fig_h)\n",
    "    \n",
    "    # create the figure into which plots will be placed\n",
    "    fig, axs = plt.subplots(rows, cols, sharex=True, figsize=(fig_w, fig_h))\n",
    "    \n",
    "    # Create appropriate title\n",
    "    suptitle = \"VQE Execution Results\"\n",
    "    \n",
    "    # append key metrics info to the title\n",
    "    fulltitle = suptitle + f\"\\n{get_timestr()}\"\n",
    "    fulltitle += f\"\\nshots={NUM_SHOTS} reps={NUM_REPS}\"\n",
    "\n",
    "    # and add the title to the plot\n",
    "    plt.suptitle(fulltitle)\n",
    "    \n",
    "    axi = 0\n",
    "    xaxis_set = False\n",
    "    \n",
    "    if rows == 1:\n",
    "        ax = axs\n",
    "        axs = [ax]\n",
    "        \n",
    "    # For the y axis, choose the limits to be at least [0,40].\n",
    "#     axs[axi].set_ylim([0, max(40,\n",
    "#                       max(group_metrics_2[\"optimality_gap\"]), \n",
    "#                       max(max(group_metrics_2[\"quantile_optgaps\"]))\n",
    "#                       ) * 1.1])\n",
    "\n",
    "    #axs[axi].set_ylim([-2.0, -1.5])\n",
    "    #axs[axi].set_ylim([-1.9, -1.6])\n",
    "    \n",
    "    #axs[axi].bar(group_metrics[\"groups\"], group_metrics_2[\"optimality_gap\"], 0.8)\n",
    "    \n",
    "    print(f\"{list(energy_results.items())}\")\n",
    "    \n",
    "    xdata = range(len(energy_results))\n",
    "    xlabels = list(energy_results.keys())\n",
    "    \n",
    "    ydata = list(energy_results.items())\n",
    "\n",
    "    print(f\"... avgs = {er_averages}\")\n",
    "    \n",
    "    #axs[axi].bar(group_metrics[\"groups\"], group_metrics_2[\"optimality_gap\"], 0.8)\n",
    "    \n",
    "    axs[axi].bar(xdata, er_averages, 0.7)\n",
    "\n",
    "    # Plot the quantile optimality gaps as errorbars\n",
    "    try:\n",
    "#         q_vals = group_metrics_2['quantile_optgaps'] # list of lists; shape (number of circuit widths, 3)\n",
    "#         # Indices are of the form (circuit width index, quantile index)\n",
    "#         print(q_vals)\n",
    "#         center_optgaps = [q_vals[i][1] for i in range(len(q_vals))]\n",
    "#         down_error = [q_vals[i][0] - q_vals[i][1] for i in range(len(q_vals))]\n",
    "#         up_error = [q_vals[i][1] - q_vals[i][2] for i in range(len(q_vals))]\n",
    "#         errors = [up_error, down_error]\n",
    "\n",
    "#         axs[axi].errorbar(group_metrics[\"groups\"], center_optgaps, yerr = errors,\n",
    "#                           ecolor = 'k', elinewidth = 1,barsabove=False, capsize=3,\n",
    "#                           ls='',marker=\"D\", markersize=5, mfc='c', mec='k', mew=0.5)\n",
    "        \n",
    "        #q_vals = group_metrics_2['quantile_optgaps'] # list of lists; shape (number of circuit widths, 3)\n",
    "        # Indices are of the form (circuit width index, quantile index)\n",
    "        #print(q_vals)\n",
    "        center_optgaps = er_averages\n",
    "        up_error = [er_averages[i] + er_stddevs[i] for i in range(len(er_averages))]\n",
    "        down_error = [er_averages[i] - er_stddevs[i] for i in range(len(er_averages))]\n",
    "        \n",
    "        up_error = [er_stddevs[i] for i in range(len(er_averages))]\n",
    "        down_error = [er_stddevs[i] for i in range(len(er_averages))]\n",
    "        \n",
    "        errors = [up_error, down_error]\n",
    "        print(errors)\n",
    "\n",
    "        axs[axi].errorbar(xdata, center_optgaps, yerr = errors,\n",
    "                          ecolor = 'k', elinewidth = 1,barsabove=False, capsize=3,\n",
    "                          ls='',marker=\"D\", markersize=5, mfc='c', mec='k', mew=0.5)\n",
    "        \n",
    "    except Exception as e: print(e)\n",
    "\n",
    "    #axs[axi].bar(group_metrics[\"groups\"], group_metrics[\"avg_tr_depths\"], 0.5, color='C9') \n",
    "    #axs[axi].set_ylabel(known_score_labels['approx_ratio'])\n",
    "    axs[axi].set_ylabel('Lowest Ground State Energy')\n",
    "\n",
    "    if rows > 0 and not xaxis_set:\n",
    "        axs[axi].sharex(axs[rows-1])\n",
    "        xaxis_set = True\n",
    "\n",
    "    # Replacing legend settings. Might need to modify later\n",
    "    # axs[axi].legend(['Degree 3', 'Degree -3'], loc='upper left') \n",
    "#     axs[axi].legend(['Optimality gap: metric', 'Optimality gap: quartiles'], loc='center left',\n",
    "#                     bbox_to_anchor=(1, 0.5)) # For now, we are only plotting for degree 3, and not -3\n",
    "    axi += 1\n",
    "    \n",
    "    # shared x axis label\n",
    "    axs[rows - 1].set_xlabel('Backend System')\n",
    "    \n",
    "    ax.set_xticks(xdata)  \n",
    "    plt.xticks(xdata, xlabels, color='black', rotation=45, ha='right', va='top', rotation_mode=\"anchor\")\n",
    "    \n",
    "    fig.tight_layout() \n",
    "    \n",
    "#     # save plot image to file\n",
    "#     if save_plot_images:\n",
    "#         save_plot_image(plt, f\"{appname}-optgaps\" + suffix, backend_id) \n",
    "            \n",
    "#     # show the plot for user to see\n",
    "#     if show_plot_images:\n",
    "    plt.show()\n",
    "\n",
    "plot_results()\n",
    "        "
   ]
  },
  {
   "cell_type": "code",
   "execution_count": null,
   "metadata": {},
   "outputs": [],
   "source": []
  },
  {
   "cell_type": "code",
   "execution_count": null,
   "metadata": {},
   "outputs": [],
   "source": []
  }
 ],
 "metadata": {
  "kernelspec": {
   "display_name": "Python 3 (ipykernel)",
   "language": "python",
   "name": "python3"
  },
  "language_info": {
   "codemirror_mode": {
    "name": "ipython",
    "version": 3
   },
   "file_extension": ".py",
   "mimetype": "text/x-python",
   "name": "python",
   "nbconvert_exporter": "python",
   "pygments_lexer": "ipython3",
   "version": "3.11.5"
  }
 },
 "nbformat": 4,
 "nbformat_minor": 4
}
